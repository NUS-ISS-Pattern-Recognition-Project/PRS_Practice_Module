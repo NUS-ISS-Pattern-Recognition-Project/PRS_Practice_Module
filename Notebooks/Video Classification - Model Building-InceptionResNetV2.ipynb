{
 "cells": [
  {
   "cell_type": "code",
   "execution_count": 1,
   "id": "c761ca66",
   "metadata": {},
   "outputs": [],
   "source": [
    "from tensorflow.keras.models import Sequential\n",
    "from tensorflow.keras.applications import InceptionResNetV2\n",
    "from tensorflow.keras.layers import Dense, InputLayer, Dropout, Flatten\n",
    "from tensorflow.keras.layers import Conv2D, MaxPooling2D, GlobalMaxPooling2D\n",
    "from tensorflow.keras.preprocessing import image\n",
    "import numpy as np\n",
    "import pandas as pd\n",
    "import matplotlib.pyplot as plt\n",
    "from tqdm import tqdm\n",
    "from sklearn.model_selection import train_test_split"
   ]
  },
  {
   "cell_type": "code",
   "execution_count": 2,
   "id": "5b73afae",
   "metadata": {},
   "outputs": [
    {
     "data": {
      "text/html": [
       "<div>\n",
       "<style scoped>\n",
       "    .dataframe tbody tr th:only-of-type {\n",
       "        vertical-align: middle;\n",
       "    }\n",
       "\n",
       "    .dataframe tbody tr th {\n",
       "        vertical-align: top;\n",
       "    }\n",
       "\n",
       "    .dataframe thead th {\n",
       "        text-align: right;\n",
       "    }\n",
       "</style>\n",
       "<table border=\"1\" class=\"dataframe\">\n",
       "  <thead>\n",
       "    <tr style=\"text-align: right;\">\n",
       "      <th></th>\n",
       "      <th>image</th>\n",
       "      <th>class</th>\n",
       "    </tr>\n",
       "  </thead>\n",
       "  <tbody>\n",
       "    <tr>\n",
       "      <th>0</th>\n",
       "      <td>v_Bowling_g23_c02.avi_frame1.jpg</td>\n",
       "      <td>Bowling</td>\n",
       "    </tr>\n",
       "    <tr>\n",
       "      <th>1</th>\n",
       "      <td>v_BabyCrawling_g18_c02.avi_frame6.jpg</td>\n",
       "      <td>BabyCrawling</td>\n",
       "    </tr>\n",
       "    <tr>\n",
       "      <th>2</th>\n",
       "      <td>v_PlayingDaf_g22_c05.avi_frame12.jpg</td>\n",
       "      <td>PlayingDaf</td>\n",
       "    </tr>\n",
       "    <tr>\n",
       "      <th>3</th>\n",
       "      <td>v_HorseRace_g18_c02.avi_frame5.jpg</td>\n",
       "      <td>HorseRace</td>\n",
       "    </tr>\n",
       "    <tr>\n",
       "      <th>4</th>\n",
       "      <td>v_Shotput_g23_c07.avi_frame1.jpg</td>\n",
       "      <td>Shotput</td>\n",
       "    </tr>\n",
       "  </tbody>\n",
       "</table>\n",
       "</div>"
      ],
      "text/plain": [
       "                                   image         class\n",
       "0       v_Bowling_g23_c02.avi_frame1.jpg       Bowling\n",
       "1  v_BabyCrawling_g18_c02.avi_frame6.jpg  BabyCrawling\n",
       "2   v_PlayingDaf_g22_c05.avi_frame12.jpg    PlayingDaf\n",
       "3     v_HorseRace_g18_c02.avi_frame5.jpg     HorseRace\n",
       "4       v_Shotput_g23_c07.avi_frame1.jpg       Shotput"
      ]
     },
     "execution_count": 2,
     "metadata": {},
     "output_type": "execute_result"
    }
   ],
   "source": [
    "train = pd.read_csv('train_new.csv')\n",
    "train = train.sample(n=10000).reset_index(drop=True)\n",
    "train.head()"
   ]
  },
  {
   "cell_type": "code",
   "execution_count": 3,
   "id": "048e35ad",
   "metadata": {},
   "outputs": [
    {
     "name": "stderr",
     "output_type": "stream",
     "text": [
      "100%|███████████████████████████████████████████████████████████████████████████| 10000/10000 [00:43<00:00, 228.94it/s]\n"
     ]
    },
    {
     "data": {
      "text/plain": [
       "(10000, 224, 224, 3)"
      ]
     },
     "execution_count": 3,
     "metadata": {},
     "output_type": "execute_result"
    }
   ],
   "source": [
    "# creating an empty list\n",
    "train_image = []\n",
    "\n",
    "# for loop to read and store frames\n",
    "for i in tqdm(range(train.shape[0])):\n",
    "    # loading the image and keeping the target size as (224,224,3)\n",
    "    img = image.load_img('train_1/'+train['image'][i], target_size=(224,224,3))\n",
    "    # converting it to array\n",
    "    img = image.img_to_array(img)\n",
    "    # normalizing the pixel value\n",
    "    img = img/255\n",
    "    # appending the image to the train_image list\n",
    "    train_image.append(img)\n",
    "    \n",
    "# converting the list to numpy array\n",
    "X = np.array(train_image)\n",
    "\n",
    "# shape of the array\n",
    "X.shape"
   ]
  },
  {
   "cell_type": "code",
   "execution_count": 4,
   "id": "fcfef77b",
   "metadata": {},
   "outputs": [],
   "source": [
    "# separating the target\n",
    "y = train['class']\n",
    "\n",
    "# creating the training and validation set\n",
    "X_train, X_test, y_train, y_test = train_test_split(X, y, random_state=42, test_size=0.2, stratify = y)"
   ]
  },
  {
   "cell_type": "code",
   "execution_count": 5,
   "id": "9ca14b02",
   "metadata": {},
   "outputs": [],
   "source": [
    "# creating dummies of target variable for train and validation set\n",
    "y_train = pd.get_dummies(y_train)\n",
    "y_test = pd.get_dummies(y_test)"
   ]
  },
  {
   "cell_type": "code",
   "execution_count": 6,
   "id": "b52baba6",
   "metadata": {},
   "outputs": [
    {
     "name": "stdout",
     "output_type": "stream",
     "text": [
      "Downloading data from https://storage.googleapis.com/tensorflow/keras-applications/inception_resnet_v2/inception_resnet_v2_weights_tf_dim_ordering_tf_kernels_notop.h5\n",
      "219062272/219055592 [==============================] - 6s 0us/step\n"
     ]
    }
   ],
   "source": [
    "# creating the base model of pre-trained VGG16 model\n",
    "base_model = InceptionResNetV2(weights='imagenet', include_top=False)"
   ]
  },
  {
   "cell_type": "code",
   "execution_count": 7,
   "id": "120d06ba",
   "metadata": {},
   "outputs": [
    {
     "data": {
      "text/plain": [
       "(8000, 5, 5, 1536)"
      ]
     },
     "execution_count": 7,
     "metadata": {},
     "output_type": "execute_result"
    }
   ],
   "source": [
    "# extracting features for training frames\n",
    "X_train = base_model.predict(X_train)\n",
    "X_train.shape"
   ]
  },
  {
   "cell_type": "code",
   "execution_count": 8,
   "id": "37194a69",
   "metadata": {},
   "outputs": [
    {
     "data": {
      "text/plain": [
       "(2000, 5, 5, 1536)"
      ]
     },
     "execution_count": 8,
     "metadata": {},
     "output_type": "execute_result"
    }
   ],
   "source": [
    "# extracting features for validation frames\n",
    "X_test = base_model.predict(X_test)\n",
    "X_test.shape"
   ]
  },
  {
   "cell_type": "code",
   "execution_count": 10,
   "id": "1db5cad2",
   "metadata": {},
   "outputs": [],
   "source": [
    "# reshaping the training as well as validation frames in single dimension\n",
    "X_train = X_train.reshape(8000, 5*5*1536)\n",
    "X_test = X_test.reshape(2000, 5*5*1536)"
   ]
  },
  {
   "cell_type": "code",
   "execution_count": 11,
   "id": "b64d8bae",
   "metadata": {},
   "outputs": [],
   "source": [
    "# normalizing the pixel values\n",
    "max = X_train.max()\n",
    "X_train = X_train/max\n",
    "X_test = X_test/max"
   ]
  },
  {
   "cell_type": "code",
   "execution_count": 12,
   "id": "0f7bd5d7",
   "metadata": {},
   "outputs": [
    {
     "data": {
      "text/plain": [
       "(8000, 38400)"
      ]
     },
     "execution_count": 12,
     "metadata": {},
     "output_type": "execute_result"
    }
   ],
   "source": [
    "# shape of images\n",
    "X_train.shape"
   ]
  },
  {
   "cell_type": "code",
   "execution_count": 13,
   "id": "6267d53e",
   "metadata": {},
   "outputs": [],
   "source": [
    "#defining the model architecture\n",
    "model = Sequential()\n",
    "model.add(Dense(1024, activation='relu', input_shape=(38400,)))\n",
    "model.add(Dropout(0.5))\n",
    "model.add(Dense(512, activation='relu'))\n",
    "model.add(Dropout(0.5))\n",
    "model.add(Dense(256, activation='relu'))\n",
    "model.add(Dropout(0.5))\n",
    "model.add(Dense(128, activation='relu'))\n",
    "model.add(Dropout(0.5))\n",
    "model.add(Dense(101, activation='softmax'))"
   ]
  },
  {
   "cell_type": "code",
   "execution_count": 14,
   "id": "38b6da33",
   "metadata": {},
   "outputs": [],
   "source": [
    "# defining a function to save the weights of best model\n",
    "from tensorflow.keras.callbacks import ModelCheckpoint\n",
    "mcp_save = ModelCheckpoint('InceptionResNetV2weight.hdf5', save_best_only=True, monitor='val_loss', mode='min')"
   ]
  },
  {
   "cell_type": "code",
   "execution_count": 15,
   "id": "fa5ef05a",
   "metadata": {},
   "outputs": [],
   "source": [
    "# compiling the model\n",
    "model.compile(loss='categorical_crossentropy',optimizer='Adam',metrics=['accuracy'])"
   ]
  },
  {
   "cell_type": "code",
   "execution_count": 16,
   "id": "e103e94e",
   "metadata": {},
   "outputs": [
    {
     "name": "stdout",
     "output_type": "stream",
     "text": [
      "Epoch 1/200\n",
      "63/63 [==============================] - 9s 146ms/step - loss: 4.6407 - accuracy: 0.0190 - val_loss: 4.5427 - val_accuracy: 0.0570\n",
      "Epoch 2/200\n",
      "63/63 [==============================] - 9s 143ms/step - loss: 4.4281 - accuracy: 0.0465 - val_loss: 4.0969 - val_accuracy: 0.1210\n",
      "Epoch 3/200\n",
      "63/63 [==============================] - 9s 143ms/step - loss: 3.9796 - accuracy: 0.1126 - val_loss: 3.4719 - val_accuracy: 0.2265\n",
      "Epoch 4/200\n",
      "63/63 [==============================] - 9s 144ms/step - loss: 3.5422 - accuracy: 0.1744 - val_loss: 2.9858 - val_accuracy: 0.3035\n",
      "Epoch 5/200\n",
      "63/63 [==============================] - 9s 143ms/step - loss: 3.1100 - accuracy: 0.2501 - val_loss: 2.5189 - val_accuracy: 0.3975\n",
      "Epoch 6/200\n",
      "63/63 [==============================] - 9s 143ms/step - loss: 2.7552 - accuracy: 0.3104 - val_loss: 2.2213 - val_accuracy: 0.4480\n",
      "Epoch 7/200\n",
      "63/63 [==============================] - 9s 143ms/step - loss: 2.4647 - accuracy: 0.3641 - val_loss: 1.9178 - val_accuracy: 0.5065\n",
      "Epoch 8/200\n",
      "63/63 [==============================] - 9s 144ms/step - loss: 2.2519 - accuracy: 0.4044 - val_loss: 1.7850 - val_accuracy: 0.5440\n",
      "Epoch 9/200\n",
      "63/63 [==============================] - 9s 143ms/step - loss: 2.0586 - accuracy: 0.4451 - val_loss: 1.5677 - val_accuracy: 0.5880\n",
      "Epoch 10/200\n",
      "63/63 [==============================] - 9s 144ms/step - loss: 1.8802 - accuracy: 0.4781 - val_loss: 1.4534 - val_accuracy: 0.6170\n",
      "Epoch 11/200\n",
      "63/63 [==============================] - 9s 146ms/step - loss: 1.7349 - accuracy: 0.5145 - val_loss: 1.3495 - val_accuracy: 0.6355\n",
      "Epoch 12/200\n",
      "63/63 [==============================] - 9s 146ms/step - loss: 1.6362 - accuracy: 0.5321 - val_loss: 1.2851 - val_accuracy: 0.6640\n",
      "Epoch 13/200\n",
      "63/63 [==============================] - 9s 144ms/step - loss: 1.5207 - accuracy: 0.5631 - val_loss: 1.1877 - val_accuracy: 0.6675\n",
      "Epoch 14/200\n",
      "63/63 [==============================] - 9s 143ms/step - loss: 1.4116 - accuracy: 0.5854 - val_loss: 1.0984 - val_accuracy: 0.7075\n",
      "Epoch 15/200\n",
      "63/63 [==============================] - 9s 144ms/step - loss: 1.3518 - accuracy: 0.6016 - val_loss: 1.0799 - val_accuracy: 0.7130\n",
      "Epoch 16/200\n",
      "63/63 [==============================] - 9s 144ms/step - loss: 1.2867 - accuracy: 0.6195 - val_loss: 1.0450 - val_accuracy: 0.7230\n",
      "Epoch 17/200\n",
      "63/63 [==============================] - 9s 144ms/step - loss: 1.2273 - accuracy: 0.6421 - val_loss: 0.9657 - val_accuracy: 0.7425\n",
      "Epoch 18/200\n",
      "63/63 [==============================] - 9s 144ms/step - loss: 1.1266 - accuracy: 0.6603 - val_loss: 0.9576 - val_accuracy: 0.7465\n",
      "Epoch 19/200\n",
      "63/63 [==============================] - 9s 144ms/step - loss: 1.0831 - accuracy: 0.6702 - val_loss: 0.9103 - val_accuracy: 0.7620\n",
      "Epoch 20/200\n",
      "63/63 [==============================] - 9s 144ms/step - loss: 1.0531 - accuracy: 0.6812 - val_loss: 0.8627 - val_accuracy: 0.7680\n",
      "Epoch 21/200\n",
      "63/63 [==============================] - 8s 135ms/step - loss: 1.0011 - accuracy: 0.6931 - val_loss: 0.8927 - val_accuracy: 0.7705\n",
      "Epoch 22/200\n",
      "63/63 [==============================] - 9s 144ms/step - loss: 0.9930 - accuracy: 0.7021 - val_loss: 0.8480 - val_accuracy: 0.7805\n",
      "Epoch 23/200\n",
      "63/63 [==============================] - 9s 144ms/step - loss: 0.9438 - accuracy: 0.7141 - val_loss: 0.8301 - val_accuracy: 0.7925\n",
      "Epoch 24/200\n",
      "63/63 [==============================] - 9s 145ms/step - loss: 0.9062 - accuracy: 0.7200 - val_loss: 0.8033 - val_accuracy: 0.7895\n",
      "Epoch 25/200\n",
      "63/63 [==============================] - 9s 147ms/step - loss: 0.8981 - accuracy: 0.7287 - val_loss: 0.7784 - val_accuracy: 0.7920\n",
      "Epoch 26/200\n",
      "63/63 [==============================] - 9s 145ms/step - loss: 0.8810 - accuracy: 0.7283 - val_loss: 0.7737 - val_accuracy: 0.7865\n",
      "Epoch 27/200\n",
      "63/63 [==============================] - 9s 143ms/step - loss: 0.8452 - accuracy: 0.7377 - val_loss: 0.7512 - val_accuracy: 0.8055\n",
      "Epoch 28/200\n",
      "63/63 [==============================] - 9s 145ms/step - loss: 0.7869 - accuracy: 0.7569 - val_loss: 0.7400 - val_accuracy: 0.8055\n",
      "Epoch 29/200\n",
      "63/63 [==============================] - 9s 149ms/step - loss: 0.7831 - accuracy: 0.7616 - val_loss: 0.7197 - val_accuracy: 0.8180\n",
      "Epoch 30/200\n",
      "63/63 [==============================] - 9s 136ms/step - loss: 0.7493 - accuracy: 0.7639 - val_loss: 0.7374 - val_accuracy: 0.8135\n",
      "Epoch 31/200\n",
      "63/63 [==============================] - 9s 135ms/step - loss: 0.7178 - accuracy: 0.7739 - val_loss: 0.7275 - val_accuracy: 0.8190\n",
      "Epoch 32/200\n",
      "63/63 [==============================] - 9s 144ms/step - loss: 0.7115 - accuracy: 0.7756 - val_loss: 0.7121 - val_accuracy: 0.8290\n",
      "Epoch 33/200\n",
      "63/63 [==============================] - 9s 147ms/step - loss: 0.7108 - accuracy: 0.7844 - val_loss: 0.7024 - val_accuracy: 0.8230\n",
      "Epoch 34/200\n",
      "63/63 [==============================] - 9s 145ms/step - loss: 0.6852 - accuracy: 0.7874 - val_loss: 0.6720 - val_accuracy: 0.8255\n",
      "Epoch 35/200\n",
      "63/63 [==============================] - 9s 136ms/step - loss: 0.6752 - accuracy: 0.7904 - val_loss: 0.7002 - val_accuracy: 0.8230\n",
      "Epoch 36/200\n",
      "63/63 [==============================] - 9s 137ms/step - loss: 0.6516 - accuracy: 0.7975 - val_loss: 0.6872 - val_accuracy: 0.8245\n",
      "Epoch 37/200\n",
      "63/63 [==============================] - 9s 136ms/step - loss: 0.6475 - accuracy: 0.8024 - val_loss: 0.7234 - val_accuracy: 0.8145\n",
      "Epoch 38/200\n",
      "63/63 [==============================] - 9s 136ms/step - loss: 0.6568 - accuracy: 0.7936 - val_loss: 0.6767 - val_accuracy: 0.8220\n",
      "Epoch 39/200\n",
      "63/63 [==============================] - 9s 144ms/step - loss: 0.6357 - accuracy: 0.8098 - val_loss: 0.6552 - val_accuracy: 0.8380\n",
      "Epoch 40/200\n",
      "63/63 [==============================] - 9s 136ms/step - loss: 0.6030 - accuracy: 0.8120 - val_loss: 0.6808 - val_accuracy: 0.8390\n",
      "Epoch 41/200\n",
      "63/63 [==============================] - 8s 135ms/step - loss: 0.6041 - accuracy: 0.8181 - val_loss: 0.6660 - val_accuracy: 0.8350\n",
      "Epoch 42/200\n",
      "63/63 [==============================] - 9s 138ms/step - loss: 0.5836 - accuracy: 0.8219 - val_loss: 0.6683 - val_accuracy: 0.8370\n",
      "Epoch 43/200\n",
      "63/63 [==============================] - 9s 138ms/step - loss: 0.6008 - accuracy: 0.8177 - val_loss: 0.6813 - val_accuracy: 0.8410\n",
      "Epoch 44/200\n",
      "63/63 [==============================] - 9s 143ms/step - loss: 0.5829 - accuracy: 0.8254 - val_loss: 0.6383 - val_accuracy: 0.8420\n",
      "Epoch 45/200\n",
      "63/63 [==============================] - 9s 138ms/step - loss: 0.5761 - accuracy: 0.8288 - val_loss: 0.6556 - val_accuracy: 0.8410\n",
      "Epoch 46/200\n",
      "63/63 [==============================] - 9s 136ms/step - loss: 0.5300 - accuracy: 0.8381 - val_loss: 0.6782 - val_accuracy: 0.8420\n",
      "Epoch 47/200\n",
      "63/63 [==============================] - 9s 137ms/step - loss: 0.5400 - accuracy: 0.8374 - val_loss: 0.6628 - val_accuracy: 0.8440\n",
      "Epoch 48/200\n",
      "63/63 [==============================] - 9s 136ms/step - loss: 0.5613 - accuracy: 0.8350 - val_loss: 0.6633 - val_accuracy: 0.8430\n",
      "Epoch 49/200\n",
      "63/63 [==============================] - 8s 135ms/step - loss: 0.5016 - accuracy: 0.8406 - val_loss: 0.6535 - val_accuracy: 0.8510\n",
      "Epoch 50/200\n",
      "63/63 [==============================] - 9s 144ms/step - loss: 0.5324 - accuracy: 0.8401 - val_loss: 0.6073 - val_accuracy: 0.8530\n",
      "Epoch 51/200\n",
      "63/63 [==============================] - 9s 135ms/step - loss: 0.5280 - accuracy: 0.8438 - val_loss: 0.6240 - val_accuracy: 0.8525\n",
      "Epoch 52/200\n",
      "63/63 [==============================] - 9s 135ms/step - loss: 0.4778 - accuracy: 0.8545 - val_loss: 0.6435 - val_accuracy: 0.8475\n",
      "Epoch 53/200\n",
      "63/63 [==============================] - 9s 135ms/step - loss: 0.4927 - accuracy: 0.8494 - val_loss: 0.6632 - val_accuracy: 0.8470\n",
      "Epoch 54/200\n",
      "63/63 [==============================] - 9s 135ms/step - loss: 0.4958 - accuracy: 0.8508 - val_loss: 0.6376 - val_accuracy: 0.8565\n",
      "Epoch 55/200\n",
      "63/63 [==============================] - 9s 135ms/step - loss: 0.4728 - accuracy: 0.8540 - val_loss: 0.6273 - val_accuracy: 0.8575\n",
      "Epoch 56/200\n",
      "63/63 [==============================] - 8s 135ms/step - loss: 0.4533 - accuracy: 0.8605 - val_loss: 0.6429 - val_accuracy: 0.8560\n",
      "Epoch 57/200\n",
      "63/63 [==============================] - 9s 144ms/step - loss: 0.4789 - accuracy: 0.8561 - val_loss: 0.5918 - val_accuracy: 0.8630\n"
     ]
    },
    {
     "name": "stdout",
     "output_type": "stream",
     "text": [
      "Epoch 58/200\n",
      "63/63 [==============================] - 8s 135ms/step - loss: 0.4516 - accuracy: 0.8633 - val_loss: 0.6331 - val_accuracy: 0.8540\n",
      "Epoch 59/200\n",
      "63/63 [==============================] - 9s 135ms/step - loss: 0.4251 - accuracy: 0.8714 - val_loss: 0.6280 - val_accuracy: 0.8595\n",
      "Epoch 60/200\n",
      "63/63 [==============================] - 8s 135ms/step - loss: 0.4423 - accuracy: 0.8675 - val_loss: 0.6119 - val_accuracy: 0.8655\n",
      "Epoch 61/200\n",
      "63/63 [==============================] - 8s 135ms/step - loss: 0.4204 - accuracy: 0.8701 - val_loss: 0.6143 - val_accuracy: 0.8670\n",
      "Epoch 62/200\n",
      "63/63 [==============================] - 9s 135ms/step - loss: 0.4333 - accuracy: 0.8726 - val_loss: 0.6093 - val_accuracy: 0.8630\n",
      "Epoch 63/200\n",
      "63/63 [==============================] - 8s 134ms/step - loss: 0.4400 - accuracy: 0.8677 - val_loss: 0.5971 - val_accuracy: 0.8715\n",
      "Epoch 64/200\n",
      "63/63 [==============================] - 9s 135ms/step - loss: 0.4375 - accuracy: 0.8730 - val_loss: 0.5979 - val_accuracy: 0.8685\n",
      "Epoch 65/200\n",
      "63/63 [==============================] - 9s 143ms/step - loss: 0.4104 - accuracy: 0.8741 - val_loss: 0.5896 - val_accuracy: 0.8620\n",
      "Epoch 66/200\n",
      "63/63 [==============================] - 8s 135ms/step - loss: 0.4223 - accuracy: 0.8780 - val_loss: 0.6126 - val_accuracy: 0.8640\n",
      "Epoch 67/200\n",
      "63/63 [==============================] - 8s 135ms/step - loss: 0.4187 - accuracy: 0.8777 - val_loss: 0.6042 - val_accuracy: 0.8650\n",
      "Epoch 68/200\n",
      "63/63 [==============================] - 8s 135ms/step - loss: 0.4058 - accuracy: 0.8781 - val_loss: 0.5997 - val_accuracy: 0.8540\n",
      "Epoch 69/200\n",
      "63/63 [==============================] - 8s 134ms/step - loss: 0.4251 - accuracy: 0.8725 - val_loss: 0.6119 - val_accuracy: 0.8635\n",
      "Epoch 70/200\n",
      "63/63 [==============================] - 8s 135ms/step - loss: 0.4047 - accuracy: 0.8840 - val_loss: 0.5903 - val_accuracy: 0.8650\n",
      "Epoch 71/200\n",
      "63/63 [==============================] - 9s 144ms/step - loss: 0.3989 - accuracy: 0.8804 - val_loss: 0.5784 - val_accuracy: 0.8745\n",
      "Epoch 72/200\n",
      "63/63 [==============================] - 9s 144ms/step - loss: 0.3803 - accuracy: 0.8888 - val_loss: 0.5679 - val_accuracy: 0.8725\n",
      "Epoch 73/200\n",
      "63/63 [==============================] - 9s 136ms/step - loss: 0.3942 - accuracy: 0.8876 - val_loss: 0.5766 - val_accuracy: 0.8685\n",
      "Epoch 74/200\n",
      "63/63 [==============================] - 9s 143ms/step - loss: 0.3768 - accuracy: 0.8860 - val_loss: 0.5652 - val_accuracy: 0.8715\n",
      "Epoch 75/200\n",
      "63/63 [==============================] - 9s 135ms/step - loss: 0.3857 - accuracy: 0.8859 - val_loss: 0.6012 - val_accuracy: 0.8710\n",
      "Epoch 76/200\n",
      "63/63 [==============================] - 9s 136ms/step - loss: 0.3808 - accuracy: 0.8906 - val_loss: 0.5937 - val_accuracy: 0.8785\n",
      "Epoch 77/200\n",
      "63/63 [==============================] - 9s 136ms/step - loss: 0.3825 - accuracy: 0.8914 - val_loss: 0.5836 - val_accuracy: 0.8730\n",
      "Epoch 78/200\n",
      "63/63 [==============================] - 9s 136ms/step - loss: 0.3779 - accuracy: 0.8935 - val_loss: 0.6131 - val_accuracy: 0.8715\n",
      "Epoch 79/200\n",
      "63/63 [==============================] - 9s 137ms/step - loss: 0.3613 - accuracy: 0.8936 - val_loss: 0.5816 - val_accuracy: 0.8735\n",
      "Epoch 80/200\n",
      "63/63 [==============================] - 8s 135ms/step - loss: 0.3764 - accuracy: 0.8909 - val_loss: 0.5737 - val_accuracy: 0.8730\n",
      "Epoch 81/200\n",
      "63/63 [==============================] - 9s 144ms/step - loss: 0.3413 - accuracy: 0.9004 - val_loss: 0.5601 - val_accuracy: 0.8740\n",
      "Epoch 82/200\n",
      "63/63 [==============================] - 9s 135ms/step - loss: 0.3591 - accuracy: 0.8970 - val_loss: 0.5792 - val_accuracy: 0.8690\n",
      "Epoch 83/200\n",
      "63/63 [==============================] - 9s 136ms/step - loss: 0.3499 - accuracy: 0.8976 - val_loss: 0.6101 - val_accuracy: 0.8660\n",
      "Epoch 84/200\n",
      "63/63 [==============================] - 9s 135ms/step - loss: 0.3558 - accuracy: 0.8924 - val_loss: 0.5642 - val_accuracy: 0.8725\n",
      "Epoch 85/200\n",
      "63/63 [==============================] - 8s 135ms/step - loss: 0.3318 - accuracy: 0.9036 - val_loss: 0.5806 - val_accuracy: 0.8765\n",
      "Epoch 86/200\n",
      "63/63 [==============================] - 8s 135ms/step - loss: 0.3482 - accuracy: 0.9000 - val_loss: 0.5628 - val_accuracy: 0.8775\n",
      "Epoch 87/200\n",
      "63/63 [==============================] - 8s 135ms/step - loss: 0.3518 - accuracy: 0.9015 - val_loss: 0.5707 - val_accuracy: 0.8750\n",
      "Epoch 88/200\n",
      "63/63 [==============================] - 8s 135ms/step - loss: 0.3331 - accuracy: 0.9026 - val_loss: 0.6016 - val_accuracy: 0.8695\n",
      "Epoch 89/200\n",
      "63/63 [==============================] - 8s 135ms/step - loss: 0.3445 - accuracy: 0.9015 - val_loss: 0.5942 - val_accuracy: 0.8745\n",
      "Epoch 90/200\n",
      "63/63 [==============================] - 8s 135ms/step - loss: 0.3493 - accuracy: 0.9001 - val_loss: 0.6003 - val_accuracy: 0.8670\n",
      "Epoch 91/200\n",
      "63/63 [==============================] - 9s 136ms/step - loss: 0.3308 - accuracy: 0.9060 - val_loss: 0.5645 - val_accuracy: 0.8665\n",
      "Epoch 92/200\n",
      "63/63 [==============================] - 9s 137ms/step - loss: 0.3219 - accuracy: 0.9100 - val_loss: 0.5828 - val_accuracy: 0.8650\n",
      "Epoch 93/200\n",
      "63/63 [==============================] - 9s 147ms/step - loss: 0.3143 - accuracy: 0.9093 - val_loss: 0.5530 - val_accuracy: 0.8755\n",
      "Epoch 94/200\n",
      "63/63 [==============================] - 9s 139ms/step - loss: 0.3437 - accuracy: 0.9074 - val_loss: 0.5927 - val_accuracy: 0.8695\n",
      "Epoch 95/200\n",
      "63/63 [==============================] - 9s 145ms/step - loss: 0.3461 - accuracy: 0.9084 - val_loss: 0.5472 - val_accuracy: 0.8760\n",
      "Epoch 96/200\n",
      "63/63 [==============================] - 9s 135ms/step - loss: 0.3118 - accuracy: 0.9089 - val_loss: 0.5778 - val_accuracy: 0.8765\n",
      "Epoch 97/200\n",
      "63/63 [==============================] - 9s 135ms/step - loss: 0.3274 - accuracy: 0.9045 - val_loss: 0.6160 - val_accuracy: 0.8720\n",
      "Epoch 98/200\n",
      "63/63 [==============================] - 9s 135ms/step - loss: 0.3363 - accuracy: 0.9095 - val_loss: 0.5601 - val_accuracy: 0.8845\n",
      "Epoch 99/200\n",
      "63/63 [==============================] - 9s 135ms/step - loss: 0.3282 - accuracy: 0.9101 - val_loss: 0.5983 - val_accuracy: 0.8705\n",
      "Epoch 100/200\n",
      "63/63 [==============================] - 9s 135ms/step - loss: 0.3312 - accuracy: 0.9060 - val_loss: 0.6030 - val_accuracy: 0.8755\n",
      "Epoch 101/200\n",
      "63/63 [==============================] - 9s 135ms/step - loss: 0.2968 - accuracy: 0.9176 - val_loss: 0.5743 - val_accuracy: 0.8770\n",
      "Epoch 102/200\n",
      "63/63 [==============================] - 9s 135ms/step - loss: 0.3122 - accuracy: 0.9109 - val_loss: 0.5809 - val_accuracy: 0.8750\n",
      "Epoch 103/200\n",
      "63/63 [==============================] - 8s 135ms/step - loss: 0.3057 - accuracy: 0.9140 - val_loss: 0.5700 - val_accuracy: 0.8750\n",
      "Epoch 104/200\n",
      "63/63 [==============================] - 9s 135ms/step - loss: 0.3052 - accuracy: 0.9149 - val_loss: 0.5888 - val_accuracy: 0.8805\n",
      "Epoch 105/200\n",
      "63/63 [==============================] - 9s 135ms/step - loss: 0.3107 - accuracy: 0.9146 - val_loss: 0.6068 - val_accuracy: 0.8735\n",
      "Epoch 106/200\n",
      "63/63 [==============================] - 8s 135ms/step - loss: 0.3163 - accuracy: 0.9131 - val_loss: 0.5885 - val_accuracy: 0.8805\n",
      "Epoch 107/200\n",
      "63/63 [==============================] - 9s 135ms/step - loss: 0.3047 - accuracy: 0.9135 - val_loss: 0.6004 - val_accuracy: 0.8845\n",
      "Epoch 108/200\n",
      "63/63 [==============================] - 9s 139ms/step - loss: 0.3101 - accuracy: 0.9154 - val_loss: 0.5746 - val_accuracy: 0.8820\n",
      "Epoch 109/200\n",
      "63/63 [==============================] - 9s 140ms/step - loss: 0.2829 - accuracy: 0.9204 - val_loss: 0.5721 - val_accuracy: 0.8820\n",
      "Epoch 110/200\n",
      "63/63 [==============================] - 9s 140ms/step - loss: 0.2735 - accuracy: 0.9214 - val_loss: 0.5641 - val_accuracy: 0.8795\n",
      "Epoch 111/200\n",
      "63/63 [==============================] - 9s 136ms/step - loss: 0.2884 - accuracy: 0.9194 - val_loss: 0.5734 - val_accuracy: 0.8750\n",
      "Epoch 112/200\n",
      "63/63 [==============================] - 9s 137ms/step - loss: 0.3236 - accuracy: 0.9139 - val_loss: 0.5908 - val_accuracy: 0.8810\n",
      "Epoch 113/200\n",
      "63/63 [==============================] - 9s 137ms/step - loss: 0.2796 - accuracy: 0.9187 - val_loss: 0.5910 - val_accuracy: 0.8785\n",
      "Epoch 114/200\n",
      "63/63 [==============================] - 9s 136ms/step - loss: 0.3179 - accuracy: 0.9154 - val_loss: 0.6197 - val_accuracy: 0.8675\n"
     ]
    },
    {
     "name": "stdout",
     "output_type": "stream",
     "text": [
      "Epoch 115/200\n",
      "63/63 [==============================] - 9s 136ms/step - loss: 0.3116 - accuracy: 0.9154 - val_loss: 0.5811 - val_accuracy: 0.8735\n",
      "Epoch 116/200\n",
      "63/63 [==============================] - 8s 134ms/step - loss: 0.2997 - accuracy: 0.9175 - val_loss: 0.6044 - val_accuracy: 0.8730\n",
      "Epoch 117/200\n",
      "63/63 [==============================] - 8s 134ms/step - loss: 0.2943 - accuracy: 0.9206 - val_loss: 0.6496 - val_accuracy: 0.8730\n",
      "Epoch 118/200\n",
      "63/63 [==============================] - 8s 134ms/step - loss: 0.2805 - accuracy: 0.9234 - val_loss: 0.6112 - val_accuracy: 0.8715\n",
      "Epoch 119/200\n",
      "63/63 [==============================] - 8s 135ms/step - loss: 0.2814 - accuracy: 0.9211 - val_loss: 0.6004 - val_accuracy: 0.8780\n",
      "Epoch 120/200\n",
      "63/63 [==============================] - 8s 134ms/step - loss: 0.2950 - accuracy: 0.9185 - val_loss: 0.5971 - val_accuracy: 0.8730\n",
      "Epoch 121/200\n",
      "63/63 [==============================] - 8s 134ms/step - loss: 0.3079 - accuracy: 0.9180 - val_loss: 0.5709 - val_accuracy: 0.8795\n",
      "Epoch 122/200\n",
      "63/63 [==============================] - 8s 134ms/step - loss: 0.2794 - accuracy: 0.9221 - val_loss: 0.6044 - val_accuracy: 0.8740\n",
      "Epoch 123/200\n",
      "63/63 [==============================] - 8s 134ms/step - loss: 0.2737 - accuracy: 0.9240 - val_loss: 0.5876 - val_accuracy: 0.8775\n",
      "Epoch 124/200\n",
      "63/63 [==============================] - 8s 135ms/step - loss: 0.2634 - accuracy: 0.9245 - val_loss: 0.5917 - val_accuracy: 0.8790\n",
      "Epoch 125/200\n",
      "63/63 [==============================] - 8s 134ms/step - loss: 0.2907 - accuracy: 0.9190 - val_loss: 0.5848 - val_accuracy: 0.8800\n",
      "Epoch 126/200\n",
      "63/63 [==============================] - 9s 135ms/step - loss: 0.2643 - accuracy: 0.9247 - val_loss: 0.5931 - val_accuracy: 0.8760\n",
      "Epoch 127/200\n",
      "63/63 [==============================] - 8s 134ms/step - loss: 0.2921 - accuracy: 0.9245 - val_loss: 0.5831 - val_accuracy: 0.8780\n",
      "Epoch 128/200\n",
      "63/63 [==============================] - 8s 134ms/step - loss: 0.2799 - accuracy: 0.9209 - val_loss: 0.6095 - val_accuracy: 0.8740\n",
      "Epoch 129/200\n",
      "63/63 [==============================] - 8s 135ms/step - loss: 0.2945 - accuracy: 0.9220 - val_loss: 0.6124 - val_accuracy: 0.8820\n",
      "Epoch 130/200\n",
      "63/63 [==============================] - 9s 136ms/step - loss: 0.2640 - accuracy: 0.9291 - val_loss: 0.5850 - val_accuracy: 0.8815\n",
      "Epoch 131/200\n",
      "63/63 [==============================] - 9s 136ms/step - loss: 0.2696 - accuracy: 0.9245 - val_loss: 0.6148 - val_accuracy: 0.8800\n",
      "Epoch 132/200\n",
      "63/63 [==============================] - 8s 133ms/step - loss: 0.2878 - accuracy: 0.9218 - val_loss: 0.6205 - val_accuracy: 0.8770\n",
      "Epoch 133/200\n",
      "63/63 [==============================] - 8s 134ms/step - loss: 0.2945 - accuracy: 0.9236 - val_loss: 0.6000 - val_accuracy: 0.8725\n",
      "Epoch 134/200\n",
      "63/63 [==============================] - 8s 134ms/step - loss: 0.2879 - accuracy: 0.9246 - val_loss: 0.5800 - val_accuracy: 0.8780\n",
      "Epoch 135/200\n",
      "63/63 [==============================] - 8s 134ms/step - loss: 0.2654 - accuracy: 0.9270 - val_loss: 0.5895 - val_accuracy: 0.8825\n",
      "Epoch 136/200\n",
      "63/63 [==============================] - 8s 134ms/step - loss: 0.2702 - accuracy: 0.9269 - val_loss: 0.6081 - val_accuracy: 0.8745\n",
      "Epoch 137/200\n",
      "63/63 [==============================] - 8s 133ms/step - loss: 0.2602 - accuracy: 0.9293 - val_loss: 0.6411 - val_accuracy: 0.8720\n",
      "Epoch 138/200\n",
      "63/63 [==============================] - 8s 134ms/step - loss: 0.2775 - accuracy: 0.9270 - val_loss: 0.5798 - val_accuracy: 0.8740\n",
      "Epoch 139/200\n",
      "63/63 [==============================] - 8s 134ms/step - loss: 0.2598 - accuracy: 0.9287 - val_loss: 0.5967 - val_accuracy: 0.8830\n",
      "Epoch 140/200\n",
      "63/63 [==============================] - 8s 134ms/step - loss: 0.2639 - accuracy: 0.9261 - val_loss: 0.5768 - val_accuracy: 0.8765\n",
      "Epoch 141/200\n",
      "63/63 [==============================] - 8s 134ms/step - loss: 0.2920 - accuracy: 0.9271 - val_loss: 0.5883 - val_accuracy: 0.8800\n",
      "Epoch 142/200\n",
      "63/63 [==============================] - 8s 134ms/step - loss: 0.2942 - accuracy: 0.9227 - val_loss: 0.5824 - val_accuracy: 0.8810\n",
      "Epoch 143/200\n",
      "63/63 [==============================] - 8s 135ms/step - loss: 0.2618 - accuracy: 0.9266 - val_loss: 0.5655 - val_accuracy: 0.8775\n",
      "Epoch 144/200\n",
      "63/63 [==============================] - 8s 134ms/step - loss: 0.2571 - accuracy: 0.9305 - val_loss: 0.6029 - val_accuracy: 0.8770\n",
      "Epoch 145/200\n",
      "63/63 [==============================] - 8s 134ms/step - loss: 0.2745 - accuracy: 0.9287 - val_loss: 0.5822 - val_accuracy: 0.8805\n",
      "Epoch 146/200\n",
      "63/63 [==============================] - 8s 135ms/step - loss: 0.2860 - accuracy: 0.9262 - val_loss: 0.5873 - val_accuracy: 0.8825\n",
      "Epoch 147/200\n",
      "63/63 [==============================] - 9s 136ms/step - loss: 0.2480 - accuracy: 0.9323 - val_loss: 0.5903 - val_accuracy: 0.8795\n",
      "Epoch 148/200\n",
      "63/63 [==============================] - 9s 141ms/step - loss: 0.2412 - accuracy: 0.9352 - val_loss: 0.6203 - val_accuracy: 0.8720\n",
      "Epoch 149/200\n",
      "63/63 [==============================] - 9s 140ms/step - loss: 0.2617 - accuracy: 0.9291 - val_loss: 0.6390 - val_accuracy: 0.8770\n",
      "Epoch 150/200\n",
      "63/63 [==============================] - 9s 141ms/step - loss: 0.2696 - accuracy: 0.9342 - val_loss: 0.6111 - val_accuracy: 0.8850\n",
      "Epoch 151/200\n",
      "63/63 [==============================] - 8s 135ms/step - loss: 0.2554 - accuracy: 0.9305 - val_loss: 0.6039 - val_accuracy: 0.8780\n",
      "Epoch 152/200\n",
      "63/63 [==============================] - 9s 136ms/step - loss: 0.2822 - accuracy: 0.9265 - val_loss: 0.6070 - val_accuracy: 0.8750\n",
      "Epoch 153/200\n",
      "63/63 [==============================] - 9s 138ms/step - loss: 0.2566 - accuracy: 0.9312 - val_loss: 0.5832 - val_accuracy: 0.8840\n",
      "Epoch 154/200\n",
      "63/63 [==============================] - 9s 142ms/step - loss: 0.2405 - accuracy: 0.9373 - val_loss: 0.5996 - val_accuracy: 0.8815\n",
      "Epoch 155/200\n",
      "63/63 [==============================] - 9s 138ms/step - loss: 0.2387 - accuracy: 0.9376 - val_loss: 0.6152 - val_accuracy: 0.8840\n",
      "Epoch 156/200\n",
      "63/63 [==============================] - 9s 136ms/step - loss: 0.2357 - accuracy: 0.9381 - val_loss: 0.6489 - val_accuracy: 0.8795\n",
      "Epoch 157/200\n",
      "63/63 [==============================] - 8s 135ms/step - loss: 0.2553 - accuracy: 0.9348 - val_loss: 0.6072 - val_accuracy: 0.8850\n",
      "Epoch 158/200\n",
      "63/63 [==============================] - 9s 135ms/step - loss: 0.2641 - accuracy: 0.9320 - val_loss: 0.6278 - val_accuracy: 0.8735\n",
      "Epoch 159/200\n",
      "63/63 [==============================] - 9s 137ms/step - loss: 0.2543 - accuracy: 0.9358 - val_loss: 0.6213 - val_accuracy: 0.8815\n",
      "Epoch 160/200\n",
      "63/63 [==============================] - 9s 139ms/step - loss: 0.2497 - accuracy: 0.9355 - val_loss: 0.6274 - val_accuracy: 0.8795\n",
      "Epoch 161/200\n",
      "63/63 [==============================] - 9s 136ms/step - loss: 0.2344 - accuracy: 0.9350 - val_loss: 0.6286 - val_accuracy: 0.8845\n",
      "Epoch 162/200\n",
      "63/63 [==============================] - 9s 139ms/step - loss: 0.2327 - accuracy: 0.9356 - val_loss: 0.6054 - val_accuracy: 0.8820\n",
      "Epoch 163/200\n",
      "63/63 [==============================] - 9s 139ms/step - loss: 0.2588 - accuracy: 0.9336 - val_loss: 0.6146 - val_accuracy: 0.8790\n",
      "Epoch 164/200\n",
      "63/63 [==============================] - 9s 136ms/step - loss: 0.2508 - accuracy: 0.9331 - val_loss: 0.6242 - val_accuracy: 0.8775\n",
      "Epoch 165/200\n",
      "63/63 [==============================] - 9s 135ms/step - loss: 0.2548 - accuracy: 0.9340 - val_loss: 0.6658 - val_accuracy: 0.8760\n",
      "Epoch 166/200\n",
      "63/63 [==============================] - 9s 135ms/step - loss: 0.2499 - accuracy: 0.9340 - val_loss: 0.6152 - val_accuracy: 0.8865\n",
      "Epoch 167/200\n",
      "63/63 [==============================] - 9s 136ms/step - loss: 0.2235 - accuracy: 0.9376 - val_loss: 0.6377 - val_accuracy: 0.8785\n",
      "Epoch 168/200\n",
      "63/63 [==============================] - 9s 135ms/step - loss: 0.2572 - accuracy: 0.9329 - val_loss: 0.6910 - val_accuracy: 0.8685\n",
      "Epoch 169/200\n",
      "63/63 [==============================] - 9s 136ms/step - loss: 0.2680 - accuracy: 0.9336 - val_loss: 0.6460 - val_accuracy: 0.8755\n",
      "Epoch 170/200\n",
      "63/63 [==============================] - 9s 137ms/step - loss: 0.2286 - accuracy: 0.9394 - val_loss: 0.6713 - val_accuracy: 0.8775\n",
      "Epoch 171/200\n"
     ]
    },
    {
     "name": "stdout",
     "output_type": "stream",
     "text": [
      "63/63 [==============================] - 9s 135ms/step - loss: 0.2427 - accuracy: 0.9377 - val_loss: 0.6210 - val_accuracy: 0.8765\n",
      "Epoch 172/200\n",
      "63/63 [==============================] - 9s 135ms/step - loss: 0.2243 - accuracy: 0.9400 - val_loss: 0.6769 - val_accuracy: 0.8750\n",
      "Epoch 173/200\n",
      "63/63 [==============================] - 9s 135ms/step - loss: 0.2297 - accuracy: 0.9380 - val_loss: 0.6431 - val_accuracy: 0.8805\n",
      "Epoch 174/200\n",
      "63/63 [==============================] - 9s 136ms/step - loss: 0.2532 - accuracy: 0.9342 - val_loss: 0.6588 - val_accuracy: 0.8770\n",
      "Epoch 175/200\n",
      "63/63 [==============================] - 9s 136ms/step - loss: 0.2661 - accuracy: 0.9334 - val_loss: 0.6410 - val_accuracy: 0.8695\n",
      "Epoch 176/200\n",
      "63/63 [==============================] - 9s 136ms/step - loss: 0.2631 - accuracy: 0.9315 - val_loss: 0.5947 - val_accuracy: 0.8745\n",
      "Epoch 177/200\n",
      "63/63 [==============================] - 9s 135ms/step - loss: 0.2508 - accuracy: 0.9314 - val_loss: 0.6371 - val_accuracy: 0.8755\n",
      "Epoch 178/200\n",
      "63/63 [==============================] - 9s 135ms/step - loss: 0.2347 - accuracy: 0.9367 - val_loss: 0.6340 - val_accuracy: 0.8700\n",
      "Epoch 179/200\n",
      "63/63 [==============================] - 9s 135ms/step - loss: 0.2527 - accuracy: 0.9341 - val_loss: 0.5975 - val_accuracy: 0.8745\n",
      "Epoch 180/200\n",
      "63/63 [==============================] - 8s 135ms/step - loss: 0.2515 - accuracy: 0.9348 - val_loss: 0.6112 - val_accuracy: 0.8775\n",
      "Epoch 181/200\n",
      "63/63 [==============================] - 9s 136ms/step - loss: 0.2584 - accuracy: 0.9316 - val_loss: 0.6471 - val_accuracy: 0.8770\n",
      "Epoch 182/200\n",
      "63/63 [==============================] - 9s 136ms/step - loss: 0.2384 - accuracy: 0.9395 - val_loss: 0.6771 - val_accuracy: 0.8740\n",
      "Epoch 183/200\n",
      "63/63 [==============================] - 9s 137ms/step - loss: 0.2460 - accuracy: 0.9362 - val_loss: 0.6449 - val_accuracy: 0.8760\n",
      "Epoch 184/200\n",
      "63/63 [==============================] - 9s 136ms/step - loss: 0.2256 - accuracy: 0.9395 - val_loss: 0.6256 - val_accuracy: 0.8840\n",
      "Epoch 185/200\n",
      "63/63 [==============================] - 9s 137ms/step - loss: 0.2582 - accuracy: 0.9351 - val_loss: 0.6463 - val_accuracy: 0.8820\n",
      "Epoch 186/200\n",
      "63/63 [==============================] - 9s 138ms/step - loss: 0.2380 - accuracy: 0.9409 - val_loss: 0.6293 - val_accuracy: 0.8845\n",
      "Epoch 187/200\n",
      "63/63 [==============================] - 9s 139ms/step - loss: 0.2472 - accuracy: 0.9386 - val_loss: 0.6099 - val_accuracy: 0.8820\n",
      "Epoch 188/200\n",
      "63/63 [==============================] - 9s 138ms/step - loss: 0.2425 - accuracy: 0.9362 - val_loss: 0.6120 - val_accuracy: 0.8790\n",
      "Epoch 189/200\n",
      "63/63 [==============================] - 9s 137ms/step - loss: 0.2301 - accuracy: 0.9434 - val_loss: 0.6301 - val_accuracy: 0.8760\n",
      "Epoch 190/200\n",
      "63/63 [==============================] - 9s 137ms/step - loss: 0.2233 - accuracy: 0.9405 - val_loss: 0.6210 - val_accuracy: 0.8835\n",
      "Epoch 191/200\n",
      "63/63 [==============================] - 9s 137ms/step - loss: 0.2444 - accuracy: 0.9360 - val_loss: 0.6502 - val_accuracy: 0.8740\n",
      "Epoch 192/200\n",
      "63/63 [==============================] - 9s 138ms/step - loss: 0.2632 - accuracy: 0.9320 - val_loss: 0.5896 - val_accuracy: 0.8825\n",
      "Epoch 193/200\n",
      "63/63 [==============================] - 9s 138ms/step - loss: 0.2288 - accuracy: 0.9415 - val_loss: 0.6233 - val_accuracy: 0.8760\n",
      "Epoch 194/200\n",
      "63/63 [==============================] - 9s 136ms/step - loss: 0.2169 - accuracy: 0.9448 - val_loss: 0.5942 - val_accuracy: 0.8810\n",
      "Epoch 195/200\n",
      "63/63 [==============================] - 9s 136ms/step - loss: 0.2172 - accuracy: 0.9426 - val_loss: 0.6265 - val_accuracy: 0.8820\n",
      "Epoch 196/200\n",
      "63/63 [==============================] - 9s 137ms/step - loss: 0.2314 - accuracy: 0.9385 - val_loss: 0.6331 - val_accuracy: 0.8830\n",
      "Epoch 197/200\n",
      "63/63 [==============================] - 9s 137ms/step - loss: 0.2234 - accuracy: 0.9399 - val_loss: 0.6041 - val_accuracy: 0.8810\n",
      "Epoch 198/200\n",
      "63/63 [==============================] - 9s 136ms/step - loss: 0.2128 - accuracy: 0.9450 - val_loss: 0.6047 - val_accuracy: 0.8800\n",
      "Epoch 199/200\n",
      "63/63 [==============================] - 9s 136ms/step - loss: 0.2070 - accuracy: 0.9426 - val_loss: 0.6146 - val_accuracy: 0.8810\n",
      "Epoch 200/200\n",
      "63/63 [==============================] - 9s 135ms/step - loss: 0.2075 - accuracy: 0.9415 - val_loss: 0.5862 - val_accuracy: 0.8825\n"
     ]
    },
    {
     "data": {
      "text/plain": [
       "<tensorflow.python.keras.callbacks.History at 0x19ad7a3c390>"
      ]
     },
     "execution_count": 16,
     "metadata": {},
     "output_type": "execute_result"
    }
   ],
   "source": [
    "# training the model\n",
    "model.fit(X_train, y_train, epochs=200, validation_data=(X_test, y_test), callbacks=[mcp_save], batch_size=128)"
   ]
  },
  {
   "cell_type": "code",
   "execution_count": 17,
   "id": "7b826801",
   "metadata": {},
   "outputs": [],
   "source": [
    "# loading the trained weights\n",
    "model.load_weights(\"InceptionResNetV2weight.hdf5\")"
   ]
  },
  {
   "cell_type": "code",
   "execution_count": 18,
   "id": "23f64dc4",
   "metadata": {},
   "outputs": [],
   "source": [
    "# compiling the model\n",
    "model.compile(loss='categorical_crossentropy',optimizer='Adam',metrics=['accuracy'])"
   ]
  },
  {
   "cell_type": "code",
   "execution_count": 19,
   "id": "07fa3bb5",
   "metadata": {},
   "outputs": [
    {
     "data": {
      "text/html": [
       "<div>\n",
       "<style scoped>\n",
       "    .dataframe tbody tr th:only-of-type {\n",
       "        vertical-align: middle;\n",
       "    }\n",
       "\n",
       "    .dataframe tbody tr th {\n",
       "        vertical-align: top;\n",
       "    }\n",
       "\n",
       "    .dataframe thead th {\n",
       "        text-align: right;\n",
       "    }\n",
       "</style>\n",
       "<table border=\"1\" class=\"dataframe\">\n",
       "  <thead>\n",
       "    <tr style=\"text-align: right;\">\n",
       "      <th></th>\n",
       "      <th>video_name</th>\n",
       "    </tr>\n",
       "  </thead>\n",
       "  <tbody>\n",
       "    <tr>\n",
       "      <th>0</th>\n",
       "      <td>ApplyEyeMakeup/v_ApplyEyeMakeup_g08_c01.avi</td>\n",
       "    </tr>\n",
       "    <tr>\n",
       "      <th>1</th>\n",
       "      <td>ApplyEyeMakeup/v_ApplyEyeMakeup_g08_c02.avi</td>\n",
       "    </tr>\n",
       "    <tr>\n",
       "      <th>2</th>\n",
       "      <td>ApplyEyeMakeup/v_ApplyEyeMakeup_g08_c03.avi</td>\n",
       "    </tr>\n",
       "    <tr>\n",
       "      <th>3</th>\n",
       "      <td>ApplyEyeMakeup/v_ApplyEyeMakeup_g08_c04.avi</td>\n",
       "    </tr>\n",
       "    <tr>\n",
       "      <th>4</th>\n",
       "      <td>ApplyEyeMakeup/v_ApplyEyeMakeup_g08_c05.avi</td>\n",
       "    </tr>\n",
       "  </tbody>\n",
       "</table>\n",
       "</div>"
      ],
      "text/plain": [
       "                                    video_name\n",
       "0  ApplyEyeMakeup/v_ApplyEyeMakeup_g08_c01.avi\n",
       "1  ApplyEyeMakeup/v_ApplyEyeMakeup_g08_c02.avi\n",
       "2  ApplyEyeMakeup/v_ApplyEyeMakeup_g08_c03.avi\n",
       "3  ApplyEyeMakeup/v_ApplyEyeMakeup_g08_c04.avi\n",
       "4  ApplyEyeMakeup/v_ApplyEyeMakeup_g08_c05.avi"
      ]
     },
     "execution_count": 19,
     "metadata": {},
     "output_type": "execute_result"
    }
   ],
   "source": [
    "# getting the test list\n",
    "f = open(\"ucfTrainTestlist/testlist02.txt\", \"r\")\n",
    "temp = f.read()\n",
    "videos = temp.split('\\n')\n",
    "\n",
    "# creating the dataframe\n",
    "test = pd.DataFrame()\n",
    "test['video_name'] = videos\n",
    "test = test[:-1]\n",
    "test_videos = test['video_name']\n",
    "test.head()"
   ]
  },
  {
   "cell_type": "code",
   "execution_count": 20,
   "id": "651a2d5b",
   "metadata": {},
   "outputs": [],
   "source": [
    "# creating the tags\n",
    "train = pd.read_csv('train_new.csv')\n",
    "y = train['class']\n",
    "y = pd.get_dummies(y)"
   ]
  },
  {
   "cell_type": "code",
   "execution_count": 21,
   "id": "83337d87",
   "metadata": {},
   "outputs": [],
   "source": [
    "import cv2\n",
    "import math\n",
    "import os\n",
    "from glob import glob\n",
    "from scipy import stats as s"
   ]
  },
  {
   "cell_type": "code",
   "execution_count": 23,
   "id": "e377057a",
   "metadata": {},
   "outputs": [
    {
     "name": "stderr",
     "output_type": "stream",
     "text": [
      "\r",
      "  0%|                                                                                         | 0/3734 [00:00<?, ?it/s]"
     ]
    },
    {
     "name": "stdout",
     "output_type": "stream",
     "text": [
      "WARNING:tensorflow:From C:\\Users\\Shaun\\AppData\\Local\\Temp/ipykernel_19812/1269040498.py:44: Sequential.predict_classes (from tensorflow.python.keras.engine.sequential) is deprecated and will be removed after 2021-01-01.\n",
      "Instructions for updating:\n",
      "Please use instead:* `np.argmax(model.predict(x), axis=-1)`,   if your model does multi-class classification   (e.g. if it uses a `softmax` last-layer activation).* `(model.predict(x) > 0.5).astype(\"int32\")`,   if your model does binary classification   (e.g. if it uses a `sigmoid` last-layer activation).\n"
     ]
    },
    {
     "name": "stderr",
     "output_type": "stream",
     "text": [
      "100%|██████████████████████████████████████████████████████████████████████████████| 3734/3734 [35:00<00:00,  1.78it/s]\n"
     ]
    }
   ],
   "source": [
    "# creating two lists to store predicted and actual tags\n",
    "predict = []\n",
    "actual = []\n",
    "\n",
    "# for loop to extract frames from each test video\n",
    "for i in tqdm(range(test_videos.shape[0])):\n",
    "    count = 0\n",
    "    videoFile = test_videos[i]\n",
    "    cap = cv2.VideoCapture('UCF-101/'+videoFile.split(' ')[0])   # capturing the video from the given path\n",
    "    frameRate = cap.get(5) #frame rate\n",
    "    x=1\n",
    "    # removing all other files from the temp folder\n",
    "    files = glob('temp/*')\n",
    "    for f in files:\n",
    "        os.remove(f)\n",
    "    while(cap.isOpened()):\n",
    "        frameId = cap.get(1) #current frame number\n",
    "        ret, frame = cap.read()\n",
    "        if (ret != True):\n",
    "            break\n",
    "        if (frameId % math.floor(frameRate) == 0):\n",
    "            # storing the frames of this particular video in temp folder\n",
    "            filename ='temp/' + \"_frame%d.jpg\" % count;count+=1\n",
    "            cv2.imwrite(filename, frame)\n",
    "    cap.release()\n",
    "    \n",
    "    # reading all the frames from temp folder\n",
    "    images = glob(\"temp/*.jpg\")\n",
    "    \n",
    "    prediction_images = []\n",
    "    for i in range(len(images)):\n",
    "        img = image.load_img(images[i], target_size=(224,224,3))\n",
    "        img = image.img_to_array(img)\n",
    "        img = img/255\n",
    "        prediction_images.append(img)\n",
    "        \n",
    "    # converting all the frames for a test video into numpy array\n",
    "    prediction_images = np.array(prediction_images)\n",
    "    # extracting features using pre-trained model\n",
    "    prediction_images = base_model.predict(prediction_images)\n",
    "    # converting features in one dimensional array\n",
    "    prediction_images = prediction_images.reshape(prediction_images.shape[0], 5*5*1536)\n",
    "    # predicting tags for each array\n",
    "    prediction = model.predict_classes(prediction_images)\n",
    "    # appending the mode of predictions in predict list to assign the tag to the video\n",
    "    predict.append(y.columns.values[s.mode(prediction)[0][0]])\n",
    "    # appending the actual tag of the video\n",
    "    actual.append(videoFile.split('/')[1].split('_')[1])"
   ]
  },
  {
   "cell_type": "code",
   "execution_count": 24,
   "id": "8a517f3c",
   "metadata": {},
   "outputs": [
    {
     "data": {
      "text/plain": [
       "88.4841992501339"
      ]
     },
     "execution_count": 24,
     "metadata": {},
     "output_type": "execute_result"
    }
   ],
   "source": [
    "# checking the accuracy of the predicted tags\n",
    "from sklearn.metrics import accuracy_score\n",
    "accuracy_score(predict, actual)*100"
   ]
  },
  {
   "cell_type": "code",
   "execution_count": null,
   "id": "64f6daa8",
   "metadata": {},
   "outputs": [],
   "source": []
  }
 ],
 "metadata": {
  "kernelspec": {
   "display_name": "tf-gpu",
   "language": "python",
   "name": "tf-gpu"
  },
  "language_info": {
   "codemirror_mode": {
    "name": "ipython",
    "version": 3
   },
   "file_extension": ".py",
   "mimetype": "text/x-python",
   "name": "python",
   "nbconvert_exporter": "python",
   "pygments_lexer": "ipython3",
   "version": "3.7.0"
  }
 },
 "nbformat": 4,
 "nbformat_minor": 5
}
