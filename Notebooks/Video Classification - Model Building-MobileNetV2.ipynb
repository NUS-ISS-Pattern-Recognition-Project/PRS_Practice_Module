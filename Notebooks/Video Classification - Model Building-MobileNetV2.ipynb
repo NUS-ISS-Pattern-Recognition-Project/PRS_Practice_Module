{
 "cells": [
  {
   "cell_type": "markdown",
   "id": "d0ce9940",
   "metadata": {},
   "source": [
    "# Import Necessary Libraries"
   ]
  },
  {
   "cell_type": "code",
   "execution_count": 1,
   "id": "c761ca66",
   "metadata": {},
   "outputs": [],
   "source": [
    "from tensorflow.keras.models import Sequential\n",
    "from tensorflow.keras.applications import MobileNetV2\n",
    "from tensorflow.keras.layers import Dense, InputLayer, Dropout, Flatten\n",
    "from tensorflow.keras.layers import Conv2D, MaxPooling2D, GlobalMaxPooling2D\n",
    "from tensorflow.keras.preprocessing import image\n",
    "import numpy as np\n",
    "import pandas as pd\n",
    "import matplotlib.pyplot as plt\n",
    "from tqdm import tqdm\n",
    "from sklearn.model_selection import train_test_split"
   ]
  },
  {
   "cell_type": "code",
   "execution_count": 2,
   "id": "5b73afae",
   "metadata": {},
   "outputs": [
    {
     "data": {
      "text/html": [
       "<div>\n",
       "<style scoped>\n",
       "    .dataframe tbody tr th:only-of-type {\n",
       "        vertical-align: middle;\n",
       "    }\n",
       "\n",
       "    .dataframe tbody tr th {\n",
       "        vertical-align: top;\n",
       "    }\n",
       "\n",
       "    .dataframe thead th {\n",
       "        text-align: right;\n",
       "    }\n",
       "</style>\n",
       "<table border=\"1\" class=\"dataframe\">\n",
       "  <thead>\n",
       "    <tr style=\"text-align: right;\">\n",
       "      <th></th>\n",
       "      <th>image</th>\n",
       "      <th>class</th>\n",
       "    </tr>\n",
       "  </thead>\n",
       "  <tbody>\n",
       "    <tr>\n",
       "      <th>0</th>\n",
       "      <td>v_PushUps_g25_c04.avi_frame0.jpg</td>\n",
       "      <td>PushUps</td>\n",
       "    </tr>\n",
       "    <tr>\n",
       "      <th>1</th>\n",
       "      <td>v_TaiChi_g08_c02.avi_frame2.jpg</td>\n",
       "      <td>TaiChi</td>\n",
       "    </tr>\n",
       "    <tr>\n",
       "      <th>2</th>\n",
       "      <td>v_Rafting_g13_c02.avi_frame0.jpg</td>\n",
       "      <td>Rafting</td>\n",
       "    </tr>\n",
       "    <tr>\n",
       "      <th>3</th>\n",
       "      <td>v_BoxingPunchingBag_g25_c05.avi_frame1.jpg</td>\n",
       "      <td>BoxingPunchingBag</td>\n",
       "    </tr>\n",
       "    <tr>\n",
       "      <th>4</th>\n",
       "      <td>v_BoxingSpeedBag_g09_c07.avi_frame11.jpg</td>\n",
       "      <td>BoxingSpeedBag</td>\n",
       "    </tr>\n",
       "  </tbody>\n",
       "</table>\n",
       "</div>"
      ],
      "text/plain": [
       "                                        image              class\n",
       "0            v_PushUps_g25_c04.avi_frame0.jpg            PushUps\n",
       "1             v_TaiChi_g08_c02.avi_frame2.jpg             TaiChi\n",
       "2            v_Rafting_g13_c02.avi_frame0.jpg            Rafting\n",
       "3  v_BoxingPunchingBag_g25_c05.avi_frame1.jpg  BoxingPunchingBag\n",
       "4    v_BoxingSpeedBag_g09_c07.avi_frame11.jpg     BoxingSpeedBag"
      ]
     },
     "execution_count": 2,
     "metadata": {},
     "output_type": "execute_result"
    }
   ],
   "source": [
    "train = pd.read_csv('train_new.csv')\n",
    "train = train.sample(n=10000).reset_index(drop=True)\n",
    "train.head()"
   ]
  },
  {
   "cell_type": "code",
   "execution_count": 3,
   "id": "048e35ad",
   "metadata": {},
   "outputs": [
    {
     "name": "stderr",
     "output_type": "stream",
     "text": [
      "100%|███████████████████████████████████████████████████████████████████████████| 10000/10000 [00:45<00:00, 222.12it/s]\n"
     ]
    },
    {
     "data": {
      "text/plain": [
       "(10000, 224, 224, 3)"
      ]
     },
     "execution_count": 3,
     "metadata": {},
     "output_type": "execute_result"
    }
   ],
   "source": [
    "# creating an empty list\n",
    "train_image = []\n",
    "\n",
    "# for loop to read and store frames\n",
    "for i in tqdm(range(train.shape[0])):\n",
    "    # loading the image and keeping the target size as (224,224,3)\n",
    "    img = image.load_img('train_1/'+train['image'][i], target_size=(224,224,3))\n",
    "    # converting it to array\n",
    "    img = image.img_to_array(img)\n",
    "    # normalizing the pixel value\n",
    "    img = img/255\n",
    "    # appending the image to the train_image list\n",
    "    train_image.append(img)\n",
    "    \n",
    "# converting the list to numpy array\n",
    "X = np.array(train_image)\n",
    "\n",
    "# shape of the array\n",
    "X.shape"
   ]
  },
  {
   "cell_type": "code",
   "execution_count": 4,
   "id": "fcfef77b",
   "metadata": {},
   "outputs": [],
   "source": [
    "# separating the target\n",
    "y = train['class']\n",
    "\n",
    "# creating the training and validation set\n",
    "X_train, X_test, y_train, y_test = train_test_split(X, y, random_state=42, test_size=0.2, stratify = y)"
   ]
  },
  {
   "cell_type": "code",
   "execution_count": 5,
   "id": "9ca14b02",
   "metadata": {},
   "outputs": [],
   "source": [
    "# creating dummies of target variable for train and validation set\n",
    "y_train = pd.get_dummies(y_train)\n",
    "y_test = pd.get_dummies(y_test)"
   ]
  },
  {
   "cell_type": "code",
   "execution_count": 6,
   "id": "b52baba6",
   "metadata": {},
   "outputs": [
    {
     "name": "stdout",
     "output_type": "stream",
     "text": [
      "WARNING:tensorflow:`input_shape` is undefined or non-square, or `rows` is not in [96, 128, 160, 192, 224]. Weights for input shape (224, 224) will be loaded as the default.\n",
      "Downloading data from https://storage.googleapis.com/tensorflow/keras-applications/mobilenet_v2/mobilenet_v2_weights_tf_dim_ordering_tf_kernels_1.0_224_no_top.h5\n",
      "9412608/9406464 [==============================] - 0s 0us/step\n"
     ]
    }
   ],
   "source": [
    "# creating the base model of pre-trained VGG16 model\n",
    "base_model = MobileNetV2(weights='imagenet', include_top=False)"
   ]
  },
  {
   "cell_type": "code",
   "execution_count": 7,
   "id": "120d06ba",
   "metadata": {},
   "outputs": [
    {
     "data": {
      "text/plain": [
       "(8000, 7, 7, 1280)"
      ]
     },
     "execution_count": 7,
     "metadata": {},
     "output_type": "execute_result"
    }
   ],
   "source": [
    "# extracting features for training frames\n",
    "X_train = base_model.predict(X_train)\n",
    "X_train.shape"
   ]
  },
  {
   "cell_type": "code",
   "execution_count": 8,
   "id": "37194a69",
   "metadata": {},
   "outputs": [
    {
     "data": {
      "text/plain": [
       "(2000, 7, 7, 1280)"
      ]
     },
     "execution_count": 8,
     "metadata": {},
     "output_type": "execute_result"
    }
   ],
   "source": [
    "# extracting features for validation frames\n",
    "X_test = base_model.predict(X_test)\n",
    "X_test.shape"
   ]
  },
  {
   "cell_type": "code",
   "execution_count": 10,
   "id": "1db5cad2",
   "metadata": {},
   "outputs": [],
   "source": [
    "# reshaping the training as well as validation frames in single dimension\n",
    "X_train = X_train.reshape(8000, 7*7*1280)\n",
    "X_test = X_test.reshape(2000, 7*7*1280)"
   ]
  },
  {
   "cell_type": "code",
   "execution_count": 11,
   "id": "b64d8bae",
   "metadata": {},
   "outputs": [],
   "source": [
    "# normalizing the pixel values\n",
    "max = X_train.max()\n",
    "X_train = X_train/max\n",
    "X_test = X_test/max"
   ]
  },
  {
   "cell_type": "code",
   "execution_count": 12,
   "id": "0f7bd5d7",
   "metadata": {},
   "outputs": [
    {
     "data": {
      "text/plain": [
       "(8000, 62720)"
      ]
     },
     "execution_count": 12,
     "metadata": {},
     "output_type": "execute_result"
    }
   ],
   "source": [
    "# shape of images\n",
    "X_train.shape"
   ]
  },
  {
   "cell_type": "code",
   "execution_count": 17,
   "id": "6267d53e",
   "metadata": {},
   "outputs": [],
   "source": [
    "#defining the model architecture\n",
    "model = Sequential()\n",
    "model.add(Dense(1024, activation='relu', input_shape=(62720,)))\n",
    "model.add(Dropout(0.5))\n",
    "model.add(Dense(512, activation='relu'))\n",
    "model.add(Dropout(0.5))\n",
    "model.add(Dense(256, activation='relu'))\n",
    "model.add(Dropout(0.5))\n",
    "model.add(Dense(128, activation='relu'))\n",
    "model.add(Dropout(0.5))\n",
    "model.add(Dense(101, activation='softmax'))"
   ]
  },
  {
   "cell_type": "code",
   "execution_count": 18,
   "id": "38b6da33",
   "metadata": {},
   "outputs": [],
   "source": [
    "# defining a function to save the weights of best model\n",
    "from tensorflow.keras.callbacks import ModelCheckpoint\n",
    "mcp_save = ModelCheckpoint('MobileNetV2weight.hdf5', save_best_only=True, monitor='val_loss', mode='min')"
   ]
  },
  {
   "cell_type": "code",
   "execution_count": 19,
   "id": "fa5ef05a",
   "metadata": {},
   "outputs": [],
   "source": [
    "# compiling the model\n",
    "model.compile(loss='categorical_crossentropy',optimizer='Adam',metrics=['accuracy'])"
   ]
  },
  {
   "cell_type": "code",
   "execution_count": 20,
   "id": "e103e94e",
   "metadata": {},
   "outputs": [
    {
     "name": "stdout",
     "output_type": "stream",
     "text": [
      "Epoch 1/200\n",
      "63/63 [==============================] - 14s 224ms/step - loss: 4.8320 - accuracy: 0.0191 - val_loss: 4.5156 - val_accuracy: 0.0620\n",
      "Epoch 2/200\n",
      "63/63 [==============================] - 15s 232ms/step - loss: 4.4762 - accuracy: 0.0417 - val_loss: 4.3076 - val_accuracy: 0.0665\n",
      "Epoch 3/200\n",
      "63/63 [==============================] - 15s 243ms/step - loss: 4.2611 - accuracy: 0.0739 - val_loss: 3.9593 - val_accuracy: 0.1655\n",
      "Epoch 4/200\n",
      "63/63 [==============================] - 15s 240ms/step - loss: 3.9694 - accuracy: 0.1204 - val_loss: 3.5197 - val_accuracy: 0.2455\n",
      "Epoch 5/200\n",
      "63/63 [==============================] - 15s 245ms/step - loss: 3.6609 - accuracy: 0.1733 - val_loss: 3.1677 - val_accuracy: 0.2905\n",
      "Epoch 6/200\n",
      "63/63 [==============================] - 15s 243ms/step - loss: 3.3902 - accuracy: 0.2170 - val_loss: 2.9347 - val_accuracy: 0.3505\n",
      "Epoch 7/200\n",
      "63/63 [==============================] - 15s 240ms/step - loss: 3.1732 - accuracy: 0.2549 - val_loss: 2.7129 - val_accuracy: 0.4105\n",
      "Epoch 8/200\n",
      "63/63 [==============================] - 15s 239ms/step - loss: 2.9797 - accuracy: 0.2916 - val_loss: 2.5128 - val_accuracy: 0.4315\n",
      "Epoch 9/200\n",
      "63/63 [==============================] - 15s 237ms/step - loss: 2.8518 - accuracy: 0.3131 - val_loss: 2.4474 - val_accuracy: 0.4620\n",
      "Epoch 10/200\n",
      "63/63 [==============================] - 15s 233ms/step - loss: 2.7055 - accuracy: 0.3446 - val_loss: 2.2451 - val_accuracy: 0.4890\n",
      "Epoch 11/200\n",
      "63/63 [==============================] - 15s 233ms/step - loss: 2.5521 - accuracy: 0.3696 - val_loss: 2.1111 - val_accuracy: 0.5205\n",
      "Epoch 12/200\n",
      "63/63 [==============================] - 15s 236ms/step - loss: 2.4872 - accuracy: 0.3779 - val_loss: 2.0731 - val_accuracy: 0.5360\n",
      "Epoch 13/200\n",
      "63/63 [==============================] - 15s 238ms/step - loss: 2.3678 - accuracy: 0.3963 - val_loss: 1.9578 - val_accuracy: 0.5570\n",
      "Epoch 14/200\n",
      "63/63 [==============================] - 14s 228ms/step - loss: 2.2997 - accuracy: 0.4115 - val_loss: 1.8710 - val_accuracy: 0.5600\n",
      "Epoch 15/200\n",
      "63/63 [==============================] - 14s 230ms/step - loss: 2.2275 - accuracy: 0.4196 - val_loss: 1.7873 - val_accuracy: 0.5720\n",
      "Epoch 16/200\n",
      "63/63 [==============================] - 14s 227ms/step - loss: 2.1396 - accuracy: 0.4351 - val_loss: 1.7187 - val_accuracy: 0.5785\n",
      "Epoch 17/200\n",
      "63/63 [==============================] - 15s 241ms/step - loss: 2.0750 - accuracy: 0.4521 - val_loss: 1.6692 - val_accuracy: 0.6005\n",
      "Epoch 18/200\n",
      "63/63 [==============================] - 15s 240ms/step - loss: 2.0066 - accuracy: 0.4639 - val_loss: 1.6135 - val_accuracy: 0.6140\n",
      "Epoch 19/200\n",
      "63/63 [==============================] - 16s 246ms/step - loss: 1.9774 - accuracy: 0.4688 - val_loss: 1.5632 - val_accuracy: 0.6205\n",
      "Epoch 20/200\n",
      "63/63 [==============================] - 15s 235ms/step - loss: 1.9251 - accuracy: 0.4776 - val_loss: 1.5540 - val_accuracy: 0.6205\n",
      "Epoch 21/200\n",
      "63/63 [==============================] - 14s 229ms/step - loss: 1.8566 - accuracy: 0.4935 - val_loss: 1.4776 - val_accuracy: 0.6380\n",
      "Epoch 22/200\n",
      "63/63 [==============================] - 14s 223ms/step - loss: 1.8400 - accuracy: 0.4956 - val_loss: 1.4953 - val_accuracy: 0.6260\n",
      "Epoch 23/200\n",
      "63/63 [==============================] - 15s 236ms/step - loss: 1.7755 - accuracy: 0.5101 - val_loss: 1.4081 - val_accuracy: 0.6530\n",
      "Epoch 24/200\n",
      "63/63 [==============================] - 14s 217ms/step - loss: 1.7916 - accuracy: 0.5089 - val_loss: 1.4252 - val_accuracy: 0.6465\n",
      "Epoch 25/200\n",
      "63/63 [==============================] - 15s 232ms/step - loss: 1.7563 - accuracy: 0.5157 - val_loss: 1.4070 - val_accuracy: 0.6625\n",
      "Epoch 26/200\n",
      "63/63 [==============================] - 15s 232ms/step - loss: 1.7103 - accuracy: 0.5250 - val_loss: 1.3712 - val_accuracy: 0.6675\n",
      "Epoch 27/200\n",
      "63/63 [==============================] - 15s 232ms/step - loss: 1.6825 - accuracy: 0.5330 - val_loss: 1.3666 - val_accuracy: 0.6635\n",
      "Epoch 28/200\n",
      "63/63 [==============================] - 15s 231ms/step - loss: 1.6480 - accuracy: 0.5429 - val_loss: 1.3457 - val_accuracy: 0.6580\n",
      "Epoch 29/200\n",
      "63/63 [==============================] - 15s 236ms/step - loss: 1.6017 - accuracy: 0.5510 - val_loss: 1.3334 - val_accuracy: 0.6685\n",
      "Epoch 30/200\n",
      "63/63 [==============================] - 15s 232ms/step - loss: 1.6234 - accuracy: 0.5450 - val_loss: 1.3068 - val_accuracy: 0.6790\n",
      "Epoch 31/200\n",
      "63/63 [==============================] - 15s 239ms/step - loss: 1.6139 - accuracy: 0.5526 - val_loss: 1.2889 - val_accuracy: 0.6760\n",
      "Epoch 32/200\n",
      "63/63 [==============================] - 15s 231ms/step - loss: 1.5724 - accuracy: 0.5581 - val_loss: 1.2548 - val_accuracy: 0.6880\n",
      "Epoch 33/200\n",
      "63/63 [==============================] - 15s 231ms/step - loss: 1.5507 - accuracy: 0.5644 - val_loss: 1.2528 - val_accuracy: 0.6980\n",
      "Epoch 34/200\n",
      "63/63 [==============================] - 14s 229ms/step - loss: 1.5573 - accuracy: 0.5711 - val_loss: 1.2404 - val_accuracy: 0.6855\n",
      "Epoch 35/200\n",
      "63/63 [==============================] - 15s 230ms/step - loss: 1.5146 - accuracy: 0.5740 - val_loss: 1.2161 - val_accuracy: 0.6990\n",
      "Epoch 36/200\n",
      "63/63 [==============================] - 14s 216ms/step - loss: 1.5034 - accuracy: 0.5770 - val_loss: 1.2256 - val_accuracy: 0.6965\n",
      "Epoch 37/200\n",
      "63/63 [==============================] - 14s 216ms/step - loss: 1.4936 - accuracy: 0.5815 - val_loss: 1.2246 - val_accuracy: 0.6965\n",
      "Epoch 38/200\n",
      "63/63 [==============================] - 15s 231ms/step - loss: 1.4641 - accuracy: 0.5864 - val_loss: 1.2026 - val_accuracy: 0.6990\n",
      "Epoch 39/200\n",
      "63/63 [==============================] - 15s 234ms/step - loss: 1.4398 - accuracy: 0.5928 - val_loss: 1.1685 - val_accuracy: 0.6970\n",
      "Epoch 40/200\n",
      "63/63 [==============================] - 14s 223ms/step - loss: 1.4133 - accuracy: 0.6005 - val_loss: 1.1780 - val_accuracy: 0.7135\n",
      "Epoch 41/200\n",
      "63/63 [==============================] - 14s 223ms/step - loss: 1.4238 - accuracy: 0.6044 - val_loss: 1.1978 - val_accuracy: 0.6975\n",
      "Epoch 42/200\n",
      "63/63 [==============================] - 14s 218ms/step - loss: 1.4128 - accuracy: 0.6019 - val_loss: 1.1928 - val_accuracy: 0.7115\n",
      "Epoch 43/200\n",
      "63/63 [==============================] - 14s 216ms/step - loss: 1.4036 - accuracy: 0.6071 - val_loss: 1.1934 - val_accuracy: 0.7150\n",
      "Epoch 44/200\n",
      "63/63 [==============================] - 14s 229ms/step - loss: 1.4056 - accuracy: 0.6050 - val_loss: 1.1582 - val_accuracy: 0.7055\n",
      "Epoch 45/200\n",
      "63/63 [==============================] - 15s 231ms/step - loss: 1.3596 - accuracy: 0.6169 - val_loss: 1.1553 - val_accuracy: 0.7135\n",
      "Epoch 46/200\n",
      "63/63 [==============================] - 14s 216ms/step - loss: 1.3767 - accuracy: 0.6083 - val_loss: 1.1577 - val_accuracy: 0.7115\n",
      "Epoch 47/200\n",
      "63/63 [==============================] - 14s 230ms/step - loss: 1.3721 - accuracy: 0.6065 - val_loss: 1.1540 - val_accuracy: 0.7180\n",
      "Epoch 48/200\n",
      "63/63 [==============================] - 15s 230ms/step - loss: 1.3418 - accuracy: 0.6196 - val_loss: 1.1410 - val_accuracy: 0.7225\n",
      "Epoch 49/200\n",
      "63/63 [==============================] - 14s 229ms/step - loss: 1.3463 - accuracy: 0.6169 - val_loss: 1.1407 - val_accuracy: 0.7285\n",
      "Epoch 50/200\n",
      "63/63 [==============================] - 14s 229ms/step - loss: 1.3292 - accuracy: 0.6242 - val_loss: 1.1180 - val_accuracy: 0.7205\n",
      "Epoch 51/200\n",
      "63/63 [==============================] - 14s 230ms/step - loss: 1.3202 - accuracy: 0.6275 - val_loss: 1.1179 - val_accuracy: 0.7300\n",
      "Epoch 52/200\n",
      "63/63 [==============================] - 14s 216ms/step - loss: 1.2968 - accuracy: 0.6281 - val_loss: 1.1180 - val_accuracy: 0.7200\n",
      "Epoch 53/200\n",
      "63/63 [==============================] - 14s 229ms/step - loss: 1.2950 - accuracy: 0.6330 - val_loss: 1.0824 - val_accuracy: 0.7245\n",
      "Epoch 54/200\n",
      "63/63 [==============================] - 14s 216ms/step - loss: 1.3088 - accuracy: 0.6317 - val_loss: 1.1292 - val_accuracy: 0.7220\n",
      "Epoch 55/200\n",
      "63/63 [==============================] - 14s 216ms/step - loss: 1.3026 - accuracy: 0.6350 - val_loss: 1.0846 - val_accuracy: 0.7305\n",
      "Epoch 56/200\n",
      "63/63 [==============================] - 14s 216ms/step - loss: 1.2632 - accuracy: 0.6423 - val_loss: 1.0959 - val_accuracy: 0.7355\n",
      "Epoch 57/200\n",
      "63/63 [==============================] - 14s 229ms/step - loss: 1.2495 - accuracy: 0.6342 - val_loss: 1.0365 - val_accuracy: 0.7395\n",
      "Epoch 58/200\n",
      "63/63 [==============================] - 14s 216ms/step - loss: 1.2321 - accuracy: 0.6496 - val_loss: 1.0489 - val_accuracy: 0.7485\n",
      "Epoch 59/200\n",
      "63/63 [==============================] - 14s 223ms/step - loss: 1.2372 - accuracy: 0.6476 - val_loss: 1.0946 - val_accuracy: 0.7305\n",
      "Epoch 60/200\n",
      "63/63 [==============================] - 14s 219ms/step - loss: 1.2800 - accuracy: 0.6442 - val_loss: 1.0890 - val_accuracy: 0.7235\n",
      "Epoch 61/200\n",
      "63/63 [==============================] - 14s 221ms/step - loss: 1.2314 - accuracy: 0.6526 - val_loss: 1.0745 - val_accuracy: 0.7385\n",
      "Epoch 62/200\n",
      "63/63 [==============================] - 14s 215ms/step - loss: 1.2166 - accuracy: 0.6547 - val_loss: 1.0579 - val_accuracy: 0.7415\n",
      "Epoch 63/200\n",
      "63/63 [==============================] - 14s 230ms/step - loss: 1.2257 - accuracy: 0.6505 - val_loss: 1.0348 - val_accuracy: 0.7390\n",
      "Epoch 64/200\n",
      "63/63 [==============================] - 14s 215ms/step - loss: 1.2313 - accuracy: 0.6543 - val_loss: 1.0802 - val_accuracy: 0.7370\n",
      "Epoch 65/200\n",
      "63/63 [==============================] - 13s 208ms/step - loss: 1.2194 - accuracy: 0.6500 - val_loss: 1.0657 - val_accuracy: 0.7355\n",
      "Epoch 66/200\n",
      "63/63 [==============================] - 14s 221ms/step - loss: 1.2124 - accuracy: 0.6575 - val_loss: 1.0155 - val_accuracy: 0.7460\n",
      "Epoch 67/200\n",
      "63/63 [==============================] - 13s 210ms/step - loss: 1.1880 - accuracy: 0.6621 - val_loss: 1.0494 - val_accuracy: 0.7455\n",
      "Epoch 68/200\n",
      "63/63 [==============================] - 13s 212ms/step - loss: 1.2218 - accuracy: 0.6584 - val_loss: 1.0284 - val_accuracy: 0.7485\n",
      "Epoch 69/200\n",
      "63/63 [==============================] - 13s 213ms/step - loss: 1.1596 - accuracy: 0.6675 - val_loss: 1.0399 - val_accuracy: 0.7500\n",
      "Epoch 70/200\n",
      "63/63 [==============================] - 13s 209ms/step - loss: 1.1568 - accuracy: 0.6664 - val_loss: 1.0275 - val_accuracy: 0.7520\n",
      "Epoch 71/200\n",
      "63/63 [==============================] - 13s 207ms/step - loss: 1.2036 - accuracy: 0.6647 - val_loss: 1.0344 - val_accuracy: 0.7415\n",
      "Epoch 72/200\n",
      "63/63 [==============================] - 13s 207ms/step - loss: 1.1790 - accuracy: 0.6675 - val_loss: 1.0338 - val_accuracy: 0.7530\n",
      "Epoch 73/200\n",
      "63/63 [==============================] - 13s 211ms/step - loss: 1.1824 - accuracy: 0.6662 - val_loss: 1.0615 - val_accuracy: 0.7475\n",
      "Epoch 74/200\n",
      "63/63 [==============================] - 14s 216ms/step - loss: 1.1573 - accuracy: 0.6716 - val_loss: 1.0737 - val_accuracy: 0.7435\n",
      "Epoch 75/200\n",
      "63/63 [==============================] - 14s 218ms/step - loss: 1.1458 - accuracy: 0.6745 - val_loss: 1.0473 - val_accuracy: 0.7535\n",
      "Epoch 76/200\n",
      "63/63 [==============================] - 14s 219ms/step - loss: 1.1540 - accuracy: 0.6716 - val_loss: 1.0464 - val_accuracy: 0.7440\n",
      "Epoch 77/200\n",
      "63/63 [==============================] - 14s 218ms/step - loss: 1.1531 - accuracy: 0.6722 - val_loss: 1.0351 - val_accuracy: 0.7445\n",
      "Epoch 78/200\n",
      "63/63 [==============================] - 14s 216ms/step - loss: 1.1666 - accuracy: 0.6681 - val_loss: 1.0213 - val_accuracy: 0.7460\n",
      "Epoch 79/200\n",
      "63/63 [==============================] - 14s 230ms/step - loss: 1.1325 - accuracy: 0.6811 - val_loss: 0.9960 - val_accuracy: 0.7615\n",
      "Epoch 80/200\n",
      "63/63 [==============================] - 14s 217ms/step - loss: 1.1301 - accuracy: 0.6793 - val_loss: 1.0374 - val_accuracy: 0.7435\n",
      "Epoch 81/200\n",
      "63/63 [==============================] - 14s 217ms/step - loss: 1.1338 - accuracy: 0.6765 - val_loss: 1.0455 - val_accuracy: 0.7415\n",
      "Epoch 82/200\n",
      "63/63 [==============================] - 14s 218ms/step - loss: 1.1557 - accuracy: 0.6783 - val_loss: 1.0399 - val_accuracy: 0.7460\n",
      "Epoch 83/200\n",
      "63/63 [==============================] - 14s 224ms/step - loss: 1.1540 - accuracy: 0.6781 - val_loss: 1.0535 - val_accuracy: 0.7485\n",
      "Epoch 84/200\n",
      "63/63 [==============================] - 14s 222ms/step - loss: 1.1423 - accuracy: 0.6808 - val_loss: 1.0139 - val_accuracy: 0.7525\n",
      "Epoch 85/200\n",
      "63/63 [==============================] - 14s 216ms/step - loss: 1.1329 - accuracy: 0.6804 - val_loss: 1.0312 - val_accuracy: 0.7560\n",
      "Epoch 86/200\n",
      "63/63 [==============================] - 14s 216ms/step - loss: 1.1603 - accuracy: 0.6779 - val_loss: 1.0290 - val_accuracy: 0.7600\n",
      "Epoch 87/200\n",
      "63/63 [==============================] - 14s 230ms/step - loss: 1.1270 - accuracy: 0.6817 - val_loss: 0.9913 - val_accuracy: 0.7690\n",
      "Epoch 88/200\n",
      "63/63 [==============================] - 14s 217ms/step - loss: 1.1293 - accuracy: 0.6873 - val_loss: 1.0249 - val_accuracy: 0.7585\n",
      "Epoch 89/200\n",
      "63/63 [==============================] - 14s 216ms/step - loss: 1.1135 - accuracy: 0.6846 - val_loss: 0.9921 - val_accuracy: 0.7505\n",
      "Epoch 90/200\n",
      "63/63 [==============================] - 14s 216ms/step - loss: 1.0681 - accuracy: 0.6948 - val_loss: 1.0033 - val_accuracy: 0.7600\n",
      "Epoch 91/200\n",
      "63/63 [==============================] - 14s 216ms/step - loss: 1.1125 - accuracy: 0.6885 - val_loss: 1.0012 - val_accuracy: 0.7565\n",
      "Epoch 92/200\n",
      "63/63 [==============================] - 14s 215ms/step - loss: 1.1230 - accuracy: 0.6842 - val_loss: 1.0327 - val_accuracy: 0.7495\n",
      "Epoch 93/200\n",
      "63/63 [==============================] - 14s 216ms/step - loss: 1.1098 - accuracy: 0.6940 - val_loss: 1.0486 - val_accuracy: 0.7495\n",
      "Epoch 94/200\n",
      "63/63 [==============================] - 14s 217ms/step - loss: 1.1031 - accuracy: 0.6899 - val_loss: 1.0187 - val_accuracy: 0.7550\n",
      "Epoch 95/200\n",
      "63/63 [==============================] - 14s 230ms/step - loss: 1.0767 - accuracy: 0.6931 - val_loss: 0.9829 - val_accuracy: 0.7655\n",
      "Epoch 96/200\n",
      "63/63 [==============================] - 14s 217ms/step - loss: 1.0896 - accuracy: 0.6961 - val_loss: 1.0036 - val_accuracy: 0.7640\n",
      "Epoch 97/200\n",
      "63/63 [==============================] - 14s 217ms/step - loss: 1.0897 - accuracy: 0.6944 - val_loss: 1.0008 - val_accuracy: 0.7595\n",
      "Epoch 98/200\n",
      "63/63 [==============================] - 14s 216ms/step - loss: 1.0876 - accuracy: 0.6902 - val_loss: 0.9873 - val_accuracy: 0.7570\n",
      "Epoch 99/200\n",
      "63/63 [==============================] - 14s 217ms/step - loss: 1.0870 - accuracy: 0.6936 - val_loss: 1.0086 - val_accuracy: 0.7565\n",
      "Epoch 100/200\n",
      "63/63 [==============================] - 14s 215ms/step - loss: 1.1109 - accuracy: 0.6949 - val_loss: 0.9844 - val_accuracy: 0.7605\n",
      "Epoch 101/200\n",
      "63/63 [==============================] - 14s 216ms/step - loss: 1.0594 - accuracy: 0.6959 - val_loss: 1.0090 - val_accuracy: 0.7650\n",
      "Epoch 102/200\n",
      "63/63 [==============================] - 14s 216ms/step - loss: 1.0645 - accuracy: 0.7013 - val_loss: 1.0056 - val_accuracy: 0.7590\n",
      "Epoch 103/200\n",
      "63/63 [==============================] - 14s 230ms/step - loss: 1.0538 - accuracy: 0.7056 - val_loss: 0.9820 - val_accuracy: 0.7605\n",
      "Epoch 104/200\n",
      "63/63 [==============================] - 14s 221ms/step - loss: 1.0994 - accuracy: 0.6956 - val_loss: 1.0178 - val_accuracy: 0.7540\n",
      "Epoch 105/200\n",
      "63/63 [==============================] - 14s 221ms/step - loss: 1.0847 - accuracy: 0.7014 - val_loss: 1.0209 - val_accuracy: 0.7550\n",
      "Epoch 106/200\n",
      "63/63 [==============================] - 14s 215ms/step - loss: 1.0952 - accuracy: 0.6992 - val_loss: 0.9906 - val_accuracy: 0.7630\n",
      "Epoch 107/200\n",
      "63/63 [==============================] - 14s 215ms/step - loss: 1.0531 - accuracy: 0.7046 - val_loss: 0.9829 - val_accuracy: 0.7590\n",
      "Epoch 108/200\n",
      "63/63 [==============================] - 14s 229ms/step - loss: 1.0742 - accuracy: 0.7025 - val_loss: 0.9730 - val_accuracy: 0.7640\n",
      "Epoch 109/200\n",
      "63/63 [==============================] - 14s 216ms/step - loss: 1.0572 - accuracy: 0.7014 - val_loss: 1.0089 - val_accuracy: 0.7640\n",
      "Epoch 110/200\n",
      "63/63 [==============================] - 14s 216ms/step - loss: 1.0650 - accuracy: 0.7050 - val_loss: 1.0066 - val_accuracy: 0.7585\n",
      "Epoch 111/200\n",
      "63/63 [==============================] - 14s 218ms/step - loss: 1.0535 - accuracy: 0.6989 - val_loss: 1.0368 - val_accuracy: 0.7635\n",
      "Epoch 112/200\n",
      "63/63 [==============================] - 14s 219ms/step - loss: 1.0833 - accuracy: 0.7009 - val_loss: 0.9955 - val_accuracy: 0.7565\n",
      "Epoch 113/200\n"
     ]
    },
    {
     "name": "stdout",
     "output_type": "stream",
     "text": [
      "63/63 [==============================] - 14s 216ms/step - loss: 1.0535 - accuracy: 0.7051 - val_loss: 0.9999 - val_accuracy: 0.7600\n",
      "Epoch 114/200\n",
      "63/63 [==============================] - 15s 230ms/step - loss: 1.0627 - accuracy: 0.7031 - val_loss: 0.9719 - val_accuracy: 0.7695\n",
      "Epoch 115/200\n",
      "63/63 [==============================] - 14s 216ms/step - loss: 1.0421 - accuracy: 0.7096 - val_loss: 0.9798 - val_accuracy: 0.7620\n",
      "Epoch 116/200\n",
      "63/63 [==============================] - 14s 216ms/step - loss: 1.0499 - accuracy: 0.7114 - val_loss: 1.0054 - val_accuracy: 0.7565\n",
      "Epoch 117/200\n",
      "63/63 [==============================] - 14s 216ms/step - loss: 1.0454 - accuracy: 0.7080 - val_loss: 1.0120 - val_accuracy: 0.7510\n",
      "Epoch 118/200\n",
      "63/63 [==============================] - 14s 216ms/step - loss: 1.0611 - accuracy: 0.7044 - val_loss: 0.9818 - val_accuracy: 0.7560\n",
      "Epoch 119/200\n",
      "63/63 [==============================] - 14s 230ms/step - loss: 1.0444 - accuracy: 0.7097 - val_loss: 0.9716 - val_accuracy: 0.7580\n",
      "Epoch 120/200\n",
      "63/63 [==============================] - 14s 216ms/step - loss: 1.0592 - accuracy: 0.7045 - val_loss: 0.9725 - val_accuracy: 0.7625\n",
      "Epoch 121/200\n",
      "63/63 [==============================] - 15s 230ms/step - loss: 1.0271 - accuracy: 0.7136 - val_loss: 0.9656 - val_accuracy: 0.7680\n",
      "Epoch 122/200\n",
      "63/63 [==============================] - 14s 216ms/step - loss: 1.0058 - accuracy: 0.7124 - val_loss: 0.9851 - val_accuracy: 0.7700\n",
      "Epoch 123/200\n",
      "63/63 [==============================] - 14s 217ms/step - loss: 1.0174 - accuracy: 0.7159 - val_loss: 1.0103 - val_accuracy: 0.7640\n",
      "Epoch 124/200\n",
      "63/63 [==============================] - 14s 221ms/step - loss: 1.0272 - accuracy: 0.7171 - val_loss: 0.9797 - val_accuracy: 0.7695\n",
      "Epoch 125/200\n",
      "63/63 [==============================] - 14s 219ms/step - loss: 1.0502 - accuracy: 0.7135 - val_loss: 0.9682 - val_accuracy: 0.7725\n",
      "Epoch 126/200\n",
      "63/63 [==============================] - 14s 220ms/step - loss: 1.0081 - accuracy: 0.7184 - val_loss: 0.9662 - val_accuracy: 0.7635\n",
      "Epoch 127/200\n",
      "63/63 [==============================] - 15s 232ms/step - loss: 0.9974 - accuracy: 0.7190 - val_loss: 0.9384 - val_accuracy: 0.7715\n",
      "Epoch 128/200\n",
      "63/63 [==============================] - 14s 217ms/step - loss: 1.0264 - accuracy: 0.7175 - val_loss: 0.9701 - val_accuracy: 0.7650\n",
      "Epoch 129/200\n",
      "63/63 [==============================] - 14s 217ms/step - loss: 1.0109 - accuracy: 0.7159 - val_loss: 0.9827 - val_accuracy: 0.7625\n",
      "Epoch 130/200\n",
      "63/63 [==============================] - 14s 216ms/step - loss: 1.0308 - accuracy: 0.7116 - val_loss: 1.0172 - val_accuracy: 0.7545\n",
      "Epoch 131/200\n",
      "63/63 [==============================] - 14s 217ms/step - loss: 1.0336 - accuracy: 0.7128 - val_loss: 0.9824 - val_accuracy: 0.7665\n",
      "Epoch 132/200\n",
      "63/63 [==============================] - 14s 216ms/step - loss: 1.0031 - accuracy: 0.7289 - val_loss: 1.0046 - val_accuracy: 0.7650\n",
      "Epoch 133/200\n",
      "63/63 [==============================] - 14s 216ms/step - loss: 1.0322 - accuracy: 0.7168 - val_loss: 1.0079 - val_accuracy: 0.7575\n",
      "Epoch 134/200\n",
      "63/63 [==============================] - 14s 217ms/step - loss: 1.0056 - accuracy: 0.7188 - val_loss: 0.9660 - val_accuracy: 0.7685\n",
      "Epoch 135/200\n",
      "63/63 [==============================] - 14s 216ms/step - loss: 1.0336 - accuracy: 0.7179 - val_loss: 1.0056 - val_accuracy: 0.7530\n",
      "Epoch 136/200\n",
      "63/63 [==============================] - 14s 216ms/step - loss: 1.0195 - accuracy: 0.7212 - val_loss: 0.9577 - val_accuracy: 0.7625\n",
      "Epoch 137/200\n",
      "63/63 [==============================] - 14s 218ms/step - loss: 0.9793 - accuracy: 0.7309 - val_loss: 0.9865 - val_accuracy: 0.7620\n",
      "Epoch 138/200\n",
      "63/63 [==============================] - 14s 219ms/step - loss: 1.0006 - accuracy: 0.7172 - val_loss: 0.9548 - val_accuracy: 0.7760\n",
      "Epoch 139/200\n",
      "63/63 [==============================] - 14s 219ms/step - loss: 1.0232 - accuracy: 0.7254 - val_loss: 1.0469 - val_accuracy: 0.7555\n",
      "Epoch 140/200\n",
      "63/63 [==============================] - 14s 223ms/step - loss: 1.0146 - accuracy: 0.7193 - val_loss: 0.9590 - val_accuracy: 0.7595\n",
      "Epoch 141/200\n",
      "63/63 [==============================] - 14s 220ms/step - loss: 0.9737 - accuracy: 0.7253 - val_loss: 0.9698 - val_accuracy: 0.7625\n",
      "Epoch 142/200\n",
      "63/63 [==============================] - 14s 220ms/step - loss: 0.9969 - accuracy: 0.7259 - val_loss: 0.9396 - val_accuracy: 0.7635\n",
      "Epoch 143/200\n",
      "63/63 [==============================] - 14s 219ms/step - loss: 0.9937 - accuracy: 0.7311 - val_loss: 0.9565 - val_accuracy: 0.7710\n",
      "Epoch 144/200\n",
      "63/63 [==============================] - 14s 217ms/step - loss: 0.9996 - accuracy: 0.7278 - val_loss: 0.9673 - val_accuracy: 0.7670\n",
      "Epoch 145/200\n",
      "63/63 [==============================] - 14s 216ms/step - loss: 1.0065 - accuracy: 0.7243 - val_loss: 0.9524 - val_accuracy: 0.7690\n",
      "Epoch 146/200\n",
      "63/63 [==============================] - 14s 218ms/step - loss: 0.9735 - accuracy: 0.7320 - val_loss: 0.9632 - val_accuracy: 0.7800\n",
      "Epoch 147/200\n",
      "63/63 [==============================] - 14s 220ms/step - loss: 0.9871 - accuracy: 0.7232 - val_loss: 0.9985 - val_accuracy: 0.7655\n",
      "Epoch 148/200\n",
      "63/63 [==============================] - 14s 219ms/step - loss: 0.9999 - accuracy: 0.7237 - val_loss: 0.9594 - val_accuracy: 0.7725\n",
      "Epoch 149/200\n",
      "63/63 [==============================] - 14s 220ms/step - loss: 0.9500 - accuracy: 0.7368 - val_loss: 0.9649 - val_accuracy: 0.7735\n",
      "Epoch 150/200\n",
      "63/63 [==============================] - 14s 217ms/step - loss: 1.0280 - accuracy: 0.7293 - val_loss: 0.9478 - val_accuracy: 0.7685\n",
      "Epoch 151/200\n",
      "63/63 [==============================] - 14s 216ms/step - loss: 0.9921 - accuracy: 0.7260 - val_loss: 0.9877 - val_accuracy: 0.7675\n",
      "Epoch 152/200\n",
      "63/63 [==============================] - 14s 216ms/step - loss: 0.9581 - accuracy: 0.7355 - val_loss: 0.9701 - val_accuracy: 0.7680\n",
      "Epoch 153/200\n",
      "63/63 [==============================] - 14s 217ms/step - loss: 0.9880 - accuracy: 0.7337 - val_loss: 0.9522 - val_accuracy: 0.7770\n",
      "Epoch 154/200\n",
      "63/63 [==============================] - 14s 216ms/step - loss: 1.0077 - accuracy: 0.7275 - val_loss: 0.9628 - val_accuracy: 0.7785\n",
      "Epoch 155/200\n",
      "63/63 [==============================] - 14s 216ms/step - loss: 0.9722 - accuracy: 0.7278 - val_loss: 0.9824 - val_accuracy: 0.7700\n",
      "Epoch 156/200\n",
      "63/63 [==============================] - 14s 216ms/step - loss: 1.0132 - accuracy: 0.7331 - val_loss: 0.9719 - val_accuracy: 0.7645\n",
      "Epoch 157/200\n",
      "63/63 [==============================] - 14s 216ms/step - loss: 0.9854 - accuracy: 0.7293 - val_loss: 1.0018 - val_accuracy: 0.7670\n",
      "Epoch 158/200\n",
      "63/63 [==============================] - 14s 216ms/step - loss: 1.0031 - accuracy: 0.7308 - val_loss: 1.0034 - val_accuracy: 0.7685\n",
      "Epoch 159/200\n",
      "63/63 [==============================] - 14s 217ms/step - loss: 0.9590 - accuracy: 0.7380 - val_loss: 0.9804 - val_accuracy: 0.7665\n",
      "Epoch 160/200\n",
      "63/63 [==============================] - 14s 216ms/step - loss: 0.9767 - accuracy: 0.7318 - val_loss: 0.9724 - val_accuracy: 0.7610\n",
      "Epoch 161/200\n",
      "63/63 [==============================] - 14s 215ms/step - loss: 0.9845 - accuracy: 0.7383 - val_loss: 0.9593 - val_accuracy: 0.7620\n",
      "Epoch 162/200\n",
      "63/63 [==============================] - 14s 216ms/step - loss: 0.9655 - accuracy: 0.7377 - val_loss: 0.9546 - val_accuracy: 0.7620\n",
      "Epoch 163/200\n",
      "63/63 [==============================] - 14s 230ms/step - loss: 0.9547 - accuracy: 0.7364 - val_loss: 0.9306 - val_accuracy: 0.7700\n",
      "Epoch 164/200\n",
      "63/63 [==============================] - 14s 216ms/step - loss: 0.9672 - accuracy: 0.7352 - val_loss: 0.9812 - val_accuracy: 0.7595\n",
      "Epoch 165/200\n",
      "63/63 [==============================] - 14s 215ms/step - loss: 0.9721 - accuracy: 0.7319 - val_loss: 0.9781 - val_accuracy: 0.7625\n",
      "Epoch 166/200\n",
      "63/63 [==============================] - 14s 217ms/step - loss: 0.9707 - accuracy: 0.7400 - val_loss: 0.9811 - val_accuracy: 0.7735\n",
      "Epoch 167/200\n",
      "63/63 [==============================] - 14s 216ms/step - loss: 0.9358 - accuracy: 0.7410 - val_loss: 0.9736 - val_accuracy: 0.7700\n",
      "Epoch 168/200\n",
      "63/63 [==============================] - 14s 221ms/step - loss: 0.9443 - accuracy: 0.7424 - val_loss: 0.9519 - val_accuracy: 0.7670\n",
      "Epoch 169/200\n",
      "63/63 [==============================] - 14s 226ms/step - loss: 0.9722 - accuracy: 0.7395 - val_loss: 0.9900 - val_accuracy: 0.7570\n",
      "Epoch 170/200\n",
      "63/63 [==============================] - 14s 222ms/step - loss: 0.9655 - accuracy: 0.7393 - val_loss: 1.1117 - val_accuracy: 0.7520\n",
      "Epoch 171/200\n",
      "63/63 [==============================] - 14s 219ms/step - loss: 0.9932 - accuracy: 0.7381 - val_loss: 0.9675 - val_accuracy: 0.7585\n",
      "Epoch 172/200\n",
      "63/63 [==============================] - 14s 219ms/step - loss: 0.9877 - accuracy: 0.7314 - val_loss: 0.9855 - val_accuracy: 0.7635\n",
      "Epoch 173/200\n",
      "63/63 [==============================] - 14s 223ms/step - loss: 0.9518 - accuracy: 0.7396 - val_loss: 0.9638 - val_accuracy: 0.7680\n",
      "Epoch 174/200\n",
      "63/63 [==============================] - 14s 217ms/step - loss: 0.9641 - accuracy: 0.7331 - val_loss: 1.0039 - val_accuracy: 0.7650\n",
      "Epoch 175/200\n",
      "63/63 [==============================] - 14s 217ms/step - loss: 0.9682 - accuracy: 0.7391 - val_loss: 0.9636 - val_accuracy: 0.7695\n",
      "Epoch 176/200\n",
      "63/63 [==============================] - 14s 219ms/step - loss: 0.9422 - accuracy: 0.7425 - val_loss: 0.9537 - val_accuracy: 0.7695\n",
      "Epoch 177/200\n",
      "63/63 [==============================] - 14s 219ms/step - loss: 0.9199 - accuracy: 0.7430 - val_loss: 0.9442 - val_accuracy: 0.7675\n",
      "Epoch 178/200\n",
      "63/63 [==============================] - 14s 217ms/step - loss: 0.9557 - accuracy: 0.7418 - val_loss: 0.9989 - val_accuracy: 0.7665\n",
      "Epoch 179/200\n",
      "63/63 [==============================] - 14s 218ms/step - loss: 0.9566 - accuracy: 0.7451 - val_loss: 0.9436 - val_accuracy: 0.7700\n",
      "Epoch 180/200\n",
      "63/63 [==============================] - 14s 216ms/step - loss: 0.9602 - accuracy: 0.7404 - val_loss: 0.9348 - val_accuracy: 0.7710\n",
      "Epoch 181/200\n",
      "63/63 [==============================] - 14s 218ms/step - loss: 0.9284 - accuracy: 0.7465 - val_loss: 0.9383 - val_accuracy: 0.7720\n",
      "Epoch 182/200\n",
      "63/63 [==============================] - 14s 221ms/step - loss: 0.9581 - accuracy: 0.7412 - val_loss: 0.9670 - val_accuracy: 0.7695\n",
      "Epoch 183/200\n",
      "63/63 [==============================] - 14s 218ms/step - loss: 0.9392 - accuracy: 0.7473 - val_loss: 0.9590 - val_accuracy: 0.7720\n",
      "Epoch 184/200\n",
      "63/63 [==============================] - 14s 217ms/step - loss: 0.9374 - accuracy: 0.7430 - val_loss: 0.9917 - val_accuracy: 0.7660\n",
      "Epoch 185/200\n",
      "63/63 [==============================] - 14s 216ms/step - loss: 0.9368 - accuracy: 0.7467 - val_loss: 0.9802 - val_accuracy: 0.7650\n",
      "Epoch 186/200\n",
      "63/63 [==============================] - 14s 218ms/step - loss: 0.9503 - accuracy: 0.7437 - val_loss: 0.9386 - val_accuracy: 0.7750\n",
      "Epoch 187/200\n",
      "63/63 [==============================] - 14s 218ms/step - loss: 0.9407 - accuracy: 0.7427 - val_loss: 0.9690 - val_accuracy: 0.7715\n",
      "Epoch 188/200\n",
      "63/63 [==============================] - 14s 217ms/step - loss: 0.9435 - accuracy: 0.7473 - val_loss: 0.9764 - val_accuracy: 0.7735\n",
      "Epoch 189/200\n",
      "63/63 [==============================] - 14s 217ms/step - loss: 0.9189 - accuracy: 0.7509 - val_loss: 1.0195 - val_accuracy: 0.7660\n",
      "Epoch 190/200\n",
      "63/63 [==============================] - 14s 217ms/step - loss: 0.9583 - accuracy: 0.7434 - val_loss: 0.9803 - val_accuracy: 0.7660\n",
      "Epoch 191/200\n",
      "63/63 [==============================] - 14s 220ms/step - loss: 0.9538 - accuracy: 0.7449 - val_loss: 1.0170 - val_accuracy: 0.7585\n",
      "Epoch 192/200\n",
      "63/63 [==============================] - 14s 225ms/step - loss: 0.9809 - accuracy: 0.7387 - val_loss: 1.0699 - val_accuracy: 0.7655\n",
      "Epoch 193/200\n",
      "63/63 [==============================] - 14s 229ms/step - loss: 0.9623 - accuracy: 0.7451 - val_loss: 0.9310 - val_accuracy: 0.7705\n",
      "Epoch 194/200\n",
      "63/63 [==============================] - 14s 218ms/step - loss: 0.9281 - accuracy: 0.7458 - val_loss: 0.9358 - val_accuracy: 0.7680\n",
      "Epoch 195/200\n",
      "63/63 [==============================] - 14s 218ms/step - loss: 0.9322 - accuracy: 0.7456 - val_loss: 0.9777 - val_accuracy: 0.7690\n",
      "Epoch 196/200\n",
      "63/63 [==============================] - 14s 218ms/step - loss: 0.9421 - accuracy: 0.7419 - val_loss: 0.9580 - val_accuracy: 0.7650\n",
      "Epoch 197/200\n",
      "63/63 [==============================] - 14s 217ms/step - loss: 0.9707 - accuracy: 0.7386 - val_loss: 0.9703 - val_accuracy: 0.7655\n",
      "Epoch 198/200\n",
      "63/63 [==============================] - 14s 219ms/step - loss: 0.9289 - accuracy: 0.7483 - val_loss: 0.9661 - val_accuracy: 0.7580\n",
      "Epoch 199/200\n",
      "63/63 [==============================] - 14s 218ms/step - loss: 0.9556 - accuracy: 0.7404 - val_loss: 0.9932 - val_accuracy: 0.7610\n",
      "Epoch 200/200\n",
      "63/63 [==============================] - 14s 216ms/step - loss: 0.9236 - accuracy: 0.7486 - val_loss: 0.9547 - val_accuracy: 0.7660\n"
     ]
    },
    {
     "data": {
      "text/plain": [
       "<tensorflow.python.keras.callbacks.History at 0x1dd8730f320>"
      ]
     },
     "execution_count": 20,
     "metadata": {},
     "output_type": "execute_result"
    }
   ],
   "source": [
    "# training the model\n",
    "model.fit(X_train, y_train, epochs=200, validation_data=(X_test, y_test), callbacks=[mcp_save], batch_size=128)"
   ]
  },
  {
   "cell_type": "code",
   "execution_count": 21,
   "id": "7b826801",
   "metadata": {},
   "outputs": [],
   "source": [
    "# loading the trained weights\n",
    "model.load_weights(\"MobileNetV2weight.hdf5\")"
   ]
  },
  {
   "cell_type": "code",
   "execution_count": 22,
   "id": "23f64dc4",
   "metadata": {},
   "outputs": [],
   "source": [
    "# compiling the model\n",
    "model.compile(loss='categorical_crossentropy',optimizer='Adam',metrics=['accuracy'])"
   ]
  },
  {
   "cell_type": "code",
   "execution_count": 23,
   "id": "07fa3bb5",
   "metadata": {},
   "outputs": [
    {
     "data": {
      "text/html": [
       "<div>\n",
       "<style scoped>\n",
       "    .dataframe tbody tr th:only-of-type {\n",
       "        vertical-align: middle;\n",
       "    }\n",
       "\n",
       "    .dataframe tbody tr th {\n",
       "        vertical-align: top;\n",
       "    }\n",
       "\n",
       "    .dataframe thead th {\n",
       "        text-align: right;\n",
       "    }\n",
       "</style>\n",
       "<table border=\"1\" class=\"dataframe\">\n",
       "  <thead>\n",
       "    <tr style=\"text-align: right;\">\n",
       "      <th></th>\n",
       "      <th>video_name</th>\n",
       "    </tr>\n",
       "  </thead>\n",
       "  <tbody>\n",
       "    <tr>\n",
       "      <th>0</th>\n",
       "      <td>ApplyEyeMakeup/v_ApplyEyeMakeup_g15_c01.avi</td>\n",
       "    </tr>\n",
       "    <tr>\n",
       "      <th>1</th>\n",
       "      <td>ApplyEyeMakeup/v_ApplyEyeMakeup_g15_c02.avi</td>\n",
       "    </tr>\n",
       "    <tr>\n",
       "      <th>2</th>\n",
       "      <td>ApplyEyeMakeup/v_ApplyEyeMakeup_g15_c03.avi</td>\n",
       "    </tr>\n",
       "    <tr>\n",
       "      <th>3</th>\n",
       "      <td>ApplyEyeMakeup/v_ApplyEyeMakeup_g15_c04.avi</td>\n",
       "    </tr>\n",
       "    <tr>\n",
       "      <th>4</th>\n",
       "      <td>ApplyEyeMakeup/v_ApplyEyeMakeup_g15_c05.avi</td>\n",
       "    </tr>\n",
       "  </tbody>\n",
       "</table>\n",
       "</div>"
      ],
      "text/plain": [
       "                                    video_name\n",
       "0  ApplyEyeMakeup/v_ApplyEyeMakeup_g15_c01.avi\n",
       "1  ApplyEyeMakeup/v_ApplyEyeMakeup_g15_c02.avi\n",
       "2  ApplyEyeMakeup/v_ApplyEyeMakeup_g15_c03.avi\n",
       "3  ApplyEyeMakeup/v_ApplyEyeMakeup_g15_c04.avi\n",
       "4  ApplyEyeMakeup/v_ApplyEyeMakeup_g15_c05.avi"
      ]
     },
     "execution_count": 23,
     "metadata": {},
     "output_type": "execute_result"
    }
   ],
   "source": [
    "# getting the test list\n",
    "f = open(\"ucfTrainTestlist/testlist03.txt\", \"r\")\n",
    "temp = f.read()\n",
    "videos = temp.split('\\n')\n",
    "\n",
    "# creating the dataframe\n",
    "test = pd.DataFrame()\n",
    "test['video_name'] = videos\n",
    "test = test[:-1]\n",
    "test_videos = test['video_name']\n",
    "test.head()"
   ]
  },
  {
   "cell_type": "code",
   "execution_count": 24,
   "id": "651a2d5b",
   "metadata": {},
   "outputs": [],
   "source": [
    "# creating the tags\n",
    "train = pd.read_csv('train_new.csv')\n",
    "y = train['class']\n",
    "y = pd.get_dummies(y)"
   ]
  },
  {
   "cell_type": "code",
   "execution_count": 25,
   "id": "83337d87",
   "metadata": {},
   "outputs": [],
   "source": [
    "import cv2\n",
    "import math\n",
    "import os\n",
    "from glob import glob\n",
    "from scipy import stats as s"
   ]
  },
  {
   "cell_type": "code",
   "execution_count": 27,
   "id": "e377057a",
   "metadata": {},
   "outputs": [
    {
     "name": "stderr",
     "output_type": "stream",
     "text": [
      "\r",
      "  0%|                                                                                         | 0/3696 [00:00<?, ?it/s]"
     ]
    },
    {
     "name": "stdout",
     "output_type": "stream",
     "text": [
      "WARNING:tensorflow:From C:\\Users\\Shaun\\AppData\\Local\\Temp/ipykernel_492/1382272407.py:44: Sequential.predict_classes (from tensorflow.python.keras.engine.sequential) is deprecated and will be removed after 2021-01-01.\n",
      "Instructions for updating:\n",
      "Please use instead:* `np.argmax(model.predict(x), axis=-1)`,   if your model does multi-class classification   (e.g. if it uses a `softmax` last-layer activation).* `(model.predict(x) > 0.5).astype(\"int32\")`,   if your model does binary classification   (e.g. if it uses a `sigmoid` last-layer activation).\n"
     ]
    },
    {
     "name": "stderr",
     "output_type": "stream",
     "text": [
      "100%|██████████████████████████████████████████████████████████████████████████████| 3696/3696 [15:44<00:00,  3.91it/s]\n"
     ]
    }
   ],
   "source": [
    "# creating two lists to store predicted and actual tags\n",
    "predict = []\n",
    "actual = []\n",
    "\n",
    "# for loop to extract frames from each test video\n",
    "for i in tqdm(range(test_videos.shape[0])):\n",
    "    count = 0\n",
    "    videoFile = test_videos[i]\n",
    "    cap = cv2.VideoCapture('UCF-101/'+videoFile.split(' ')[0])   # capturing the video from the given path\n",
    "    frameRate = cap.get(5) #frame rate\n",
    "    x=1\n",
    "    # removing all other files from the temp folder\n",
    "    files = glob('temp/*')\n",
    "    for f in files:\n",
    "        os.remove(f)\n",
    "    while(cap.isOpened()):\n",
    "        frameId = cap.get(1) #current frame number\n",
    "        ret, frame = cap.read()\n",
    "        if (ret != True):\n",
    "            break\n",
    "        if (frameId % math.floor(frameRate) == 0):\n",
    "            # storing the frames of this particular video in temp folder\n",
    "            filename ='temp/' + \"_frame%d.jpg\" % count;count+=1\n",
    "            cv2.imwrite(filename, frame)\n",
    "    cap.release()\n",
    "    \n",
    "    # reading all the frames from temp folder\n",
    "    images = glob(\"temp/*.jpg\")\n",
    "    \n",
    "    prediction_images = []\n",
    "    for i in range(len(images)):\n",
    "        img = image.load_img(images[i], target_size=(224,224,3))\n",
    "        img = image.img_to_array(img)\n",
    "        img = img/255\n",
    "        prediction_images.append(img)\n",
    "        \n",
    "    # converting all the frames for a test video into numpy array\n",
    "    prediction_images = np.array(prediction_images)\n",
    "    # extracting features using pre-trained model\n",
    "    prediction_images = base_model.predict(prediction_images)\n",
    "    # converting features in one dimensional array\n",
    "    prediction_images = prediction_images.reshape(prediction_images.shape[0], 7*7*1280)\n",
    "    # predicting tags for each array\n",
    "    prediction = model.predict_classes(prediction_images)\n",
    "    # appending the mode of predictions in predict list to assign the tag to the video\n",
    "    predict.append(y.columns.values[s.mode(prediction)[0][0]])\n",
    "    # appending the actual tag of the video\n",
    "    actual.append(videoFile.split('/')[1].split('_')[1])"
   ]
  },
  {
   "cell_type": "code",
   "execution_count": 28,
   "id": "8a517f3c",
   "metadata": {},
   "outputs": [
    {
     "data": {
      "text/plain": [
       "74.54004329004329"
      ]
     },
     "execution_count": 28,
     "metadata": {},
     "output_type": "execute_result"
    }
   ],
   "source": [
    "# checking the accuracy of the predicted tags\n",
    "from sklearn.metrics import accuracy_score\n",
    "accuracy_score(predict, actual)*100"
   ]
  },
  {
   "cell_type": "markdown",
   "id": "3158ec92",
   "metadata": {},
   "source": [
    "# Model Evaluation\n",
    "\n",
    "Model accuracy is significantly better, and overall training time is shorter. The MobileNetV2 can be one of the considerations for training on action recognition based on limited training data. "
   ]
  }
 ],
 "metadata": {
  "kernelspec": {
   "display_name": "tf-gpu",
   "language": "python",
   "name": "tf-gpu"
  },
  "language_info": {
   "codemirror_mode": {
    "name": "ipython",
    "version": 3
   },
   "file_extension": ".py",
   "mimetype": "text/x-python",
   "name": "python",
   "nbconvert_exporter": "python",
   "pygments_lexer": "ipython3",
   "version": "3.7.0"
  }
 },
 "nbformat": 4,
 "nbformat_minor": 5
}
