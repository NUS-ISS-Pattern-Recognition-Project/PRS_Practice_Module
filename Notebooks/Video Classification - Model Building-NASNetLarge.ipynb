{
 "cells": [
  {
   "cell_type": "code",
   "execution_count": 1,
   "id": "c761ca66",
   "metadata": {},
   "outputs": [],
   "source": [
    "from tensorflow.keras.models import Sequential\n",
    "from tensorflow.keras.applications import NASNetLarge\n",
    "from tensorflow.keras.layers import Dense, InputLayer, Dropout, Flatten\n",
    "from tensorflow.keras.layers import Conv2D, MaxPooling2D, GlobalMaxPooling2D\n",
    "from tensorflow.keras.preprocessing import image\n",
    "import numpy as np\n",
    "import pandas as pd\n",
    "import matplotlib.pyplot as plt\n",
    "from tqdm import tqdm\n",
    "from sklearn.model_selection import train_test_split"
   ]
  },
  {
   "cell_type": "code",
   "execution_count": 2,
   "id": "5b73afae",
   "metadata": {},
   "outputs": [
    {
     "data": {
      "text/html": [
       "<div>\n",
       "<style scoped>\n",
       "    .dataframe tbody tr th:only-of-type {\n",
       "        vertical-align: middle;\n",
       "    }\n",
       "\n",
       "    .dataframe tbody tr th {\n",
       "        vertical-align: top;\n",
       "    }\n",
       "\n",
       "    .dataframe thead th {\n",
       "        text-align: right;\n",
       "    }\n",
       "</style>\n",
       "<table border=\"1\" class=\"dataframe\">\n",
       "  <thead>\n",
       "    <tr style=\"text-align: right;\">\n",
       "      <th></th>\n",
       "      <th>image</th>\n",
       "      <th>class</th>\n",
       "    </tr>\n",
       "  </thead>\n",
       "  <tbody>\n",
       "    <tr>\n",
       "      <th>0</th>\n",
       "      <td>v_PlayingPiano_g15_c04.avi_frame7.jpg</td>\n",
       "      <td>PlayingPiano</td>\n",
       "    </tr>\n",
       "    <tr>\n",
       "      <th>1</th>\n",
       "      <td>v_MoppingFloor_g10_c02.avi_frame4.jpg</td>\n",
       "      <td>MoppingFloor</td>\n",
       "    </tr>\n",
       "    <tr>\n",
       "      <th>2</th>\n",
       "      <td>v_Kayaking_g17_c05.avi_frame4.jpg</td>\n",
       "      <td>Kayaking</td>\n",
       "    </tr>\n",
       "    <tr>\n",
       "      <th>3</th>\n",
       "      <td>v_CricketBowling_g18_c02.avi_frame2.jpg</td>\n",
       "      <td>CricketBowling</td>\n",
       "    </tr>\n",
       "    <tr>\n",
       "      <th>4</th>\n",
       "      <td>v_ThrowDiscus_g18_c02.avi_frame1.jpg</td>\n",
       "      <td>ThrowDiscus</td>\n",
       "    </tr>\n",
       "  </tbody>\n",
       "</table>\n",
       "</div>"
      ],
      "text/plain": [
       "                                     image           class\n",
       "0    v_PlayingPiano_g15_c04.avi_frame7.jpg    PlayingPiano\n",
       "1    v_MoppingFloor_g10_c02.avi_frame4.jpg    MoppingFloor\n",
       "2        v_Kayaking_g17_c05.avi_frame4.jpg        Kayaking\n",
       "3  v_CricketBowling_g18_c02.avi_frame2.jpg  CricketBowling\n",
       "4     v_ThrowDiscus_g18_c02.avi_frame1.jpg     ThrowDiscus"
      ]
     },
     "execution_count": 2,
     "metadata": {},
     "output_type": "execute_result"
    }
   ],
   "source": [
    "train = pd.read_csv('train_new.csv')\n",
    "train = train.sample(n=10000).reset_index(drop=True)\n",
    "train.head()"
   ]
  },
  {
   "cell_type": "code",
   "execution_count": 3,
   "id": "048e35ad",
   "metadata": {},
   "outputs": [
    {
     "name": "stderr",
     "output_type": "stream",
     "text": [
      "100%|███████████████████████████████████████████████████████████████████████████| 10000/10000 [00:45<00:00, 220.07it/s]\n"
     ]
    },
    {
     "data": {
      "text/plain": [
       "(10000, 224, 224, 3)"
      ]
     },
     "execution_count": 3,
     "metadata": {},
     "output_type": "execute_result"
    }
   ],
   "source": [
    "# creating an empty list\n",
    "train_image = []\n",
    "\n",
    "# for loop to read and store frames\n",
    "for i in tqdm(range(train.shape[0])):\n",
    "    # loading the image and keeping the target size as (224,224,3)\n",
    "    img = image.load_img('train_1/'+train['image'][i], target_size=(224,224,3))\n",
    "    # converting it to array\n",
    "    img = image.img_to_array(img)\n",
    "    # normalizing the pixel value\n",
    "    img = img/255\n",
    "    # appending the image to the train_image list\n",
    "    train_image.append(img)\n",
    "    \n",
    "# converting the list to numpy array\n",
    "X = np.array(train_image)\n",
    "\n",
    "# shape of the array\n",
    "X.shape"
   ]
  },
  {
   "cell_type": "code",
   "execution_count": 4,
   "id": "fcfef77b",
   "metadata": {},
   "outputs": [],
   "source": [
    "# separating the target\n",
    "y = train['class']\n",
    "\n",
    "# creating the training and validation set\n",
    "X_train, X_test, y_train, y_test = train_test_split(X, y, random_state=42, test_size=0.2, stratify = y)"
   ]
  },
  {
   "cell_type": "code",
   "execution_count": 5,
   "id": "9ca14b02",
   "metadata": {},
   "outputs": [],
   "source": [
    "# creating dummies of target variable for train and validation set\n",
    "y_train = pd.get_dummies(y_train)\n",
    "y_test = pd.get_dummies(y_test)"
   ]
  },
  {
   "cell_type": "code",
   "execution_count": 6,
   "id": "b52baba6",
   "metadata": {},
   "outputs": [
    {
     "name": "stdout",
     "output_type": "stream",
     "text": [
      "Downloading data from https://storage.googleapis.com/tensorflow/keras-applications/nasnet/NASNet-large-no-top.h5\n",
      "343613440/343610240 [==============================] - 9s 0us/step\n"
     ]
    }
   ],
   "source": [
    "# creating the base model of pre-trained VGG16 model\n",
    "base_model = NASNetLarge(weights='imagenet', include_top=False)"
   ]
  },
  {
   "cell_type": "code",
   "execution_count": 7,
   "id": "120d06ba",
   "metadata": {},
   "outputs": [
    {
     "name": "stdout",
     "output_type": "stream",
     "text": [
      "WARNING:tensorflow:Model was constructed with shape (None, 331, 331, 3) for input Tensor(\"input_1:0\", shape=(None, 331, 331, 3), dtype=float32), but it was called on an input with incompatible shape (32, 224, 224, 3).\n"
     ]
    },
    {
     "data": {
      "text/plain": [
       "(8000, 7, 7, 4032)"
      ]
     },
     "execution_count": 7,
     "metadata": {},
     "output_type": "execute_result"
    }
   ],
   "source": [
    "# extracting features for training frames\n",
    "X_train = base_model.predict(X_train)\n",
    "X_train.shape"
   ]
  },
  {
   "cell_type": "code",
   "execution_count": 8,
   "id": "37194a69",
   "metadata": {},
   "outputs": [
    {
     "name": "stdout",
     "output_type": "stream",
     "text": [
      "WARNING:tensorflow:Model was constructed with shape (None, 331, 331, 3) for input Tensor(\"input_1:0\", shape=(None, 331, 331, 3), dtype=float32), but it was called on an input with incompatible shape (None, 224, 224, 3).\n"
     ]
    },
    {
     "data": {
      "text/plain": [
       "(2000, 7, 7, 4032)"
      ]
     },
     "execution_count": 8,
     "metadata": {},
     "output_type": "execute_result"
    }
   ],
   "source": [
    "# extracting features for validation frames\n",
    "X_test = base_model.predict(X_test)\n",
    "X_test.shape"
   ]
  },
  {
   "cell_type": "code",
   "execution_count": 10,
   "id": "1db5cad2",
   "metadata": {},
   "outputs": [],
   "source": [
    "# reshaping the training as well as validation frames in single dimension\n",
    "X_train = X_train.reshape(8000, 7*7*4032)\n",
    "X_test = X_test.reshape(2000, 7*7*4032)"
   ]
  },
  {
   "cell_type": "code",
   "execution_count": 11,
   "id": "b64d8bae",
   "metadata": {},
   "outputs": [],
   "source": [
    "# normalizing the pixel values\n",
    "max = X_train.max()\n",
    "X_train = X_train/max\n",
    "X_test = X_test/max"
   ]
  },
  {
   "cell_type": "code",
   "execution_count": 12,
   "id": "0f7bd5d7",
   "metadata": {},
   "outputs": [
    {
     "data": {
      "text/plain": [
       "(8000, 197568)"
      ]
     },
     "execution_count": 12,
     "metadata": {},
     "output_type": "execute_result"
    }
   ],
   "source": [
    "# shape of images\n",
    "X_train.shape"
   ]
  },
  {
   "cell_type": "code",
   "execution_count": 17,
   "id": "6267d53e",
   "metadata": {},
   "outputs": [],
   "source": [
    "#defining the model architecture\n",
    "model = Sequential()\n",
    "model.add(Dense(1024, activation='relu', input_shape=(197568,)))\n",
    "model.add(Dropout(0.5))\n",
    "model.add(Dense(512, activation='relu'))\n",
    "model.add(Dropout(0.5))\n",
    "model.add(Dense(256, activation='relu'))\n",
    "model.add(Dropout(0.5))\n",
    "model.add(Dense(128, activation='relu'))\n",
    "model.add(Dropout(0.5))\n",
    "model.add(Dense(101, activation='softmax'))"
   ]
  },
  {
   "cell_type": "code",
   "execution_count": 18,
   "id": "38b6da33",
   "metadata": {},
   "outputs": [],
   "source": [
    "# defining a function to save the weights of best model\n",
    "from tensorflow.keras.callbacks import ModelCheckpoint\n",
    "mcp_save = ModelCheckpoint('NASNetLargeweight.hdf5', save_best_only=True, monitor='val_loss', mode='min')"
   ]
  },
  {
   "cell_type": "code",
   "execution_count": 19,
   "id": "fa5ef05a",
   "metadata": {},
   "outputs": [],
   "source": [
    "# compiling the model\n",
    "model.compile(loss='categorical_crossentropy',optimizer='Adam',metrics=['accuracy'])"
   ]
  },
  {
   "cell_type": "code",
   "execution_count": 20,
   "id": "e103e94e",
   "metadata": {},
   "outputs": [
    {
     "name": "stdout",
     "output_type": "stream",
     "text": [
      "Epoch 1/200\n",
      "63/63 [==============================] - 50s 790ms/step - loss: 4.3677 - accuracy: 0.0642 - val_loss: 3.8965 - val_accuracy: 0.2390\n",
      "Epoch 2/200\n",
      "63/63 [==============================] - 55s 876ms/step - loss: 3.6849 - accuracy: 0.1885 - val_loss: 2.9714 - val_accuracy: 0.3835\n",
      "Epoch 3/200\n",
      "63/63 [==============================] - 54s 859ms/step - loss: 2.9876 - accuracy: 0.3136 - val_loss: 2.2185 - val_accuracy: 0.5325\n",
      "Epoch 4/200\n",
      "63/63 [==============================] - 54s 864ms/step - loss: 2.4096 - accuracy: 0.4201 - val_loss: 1.7470 - val_accuracy: 0.6015\n",
      "Epoch 5/200\n",
      "63/63 [==============================] - 54s 857ms/step - loss: 1.9671 - accuracy: 0.5056 - val_loss: 1.3862 - val_accuracy: 0.6790\n",
      "Epoch 6/200\n",
      "63/63 [==============================] - 54s 859ms/step - loss: 1.6326 - accuracy: 0.5698 - val_loss: 1.1555 - val_accuracy: 0.7330\n",
      "Epoch 7/200\n",
      "63/63 [==============================] - 54s 858ms/step - loss: 1.3857 - accuracy: 0.6212 - val_loss: 0.9824 - val_accuracy: 0.7520\n",
      "Epoch 8/200\n",
      "63/63 [==============================] - 54s 858ms/step - loss: 1.1910 - accuracy: 0.6660 - val_loss: 0.8765 - val_accuracy: 0.7805\n",
      "Epoch 9/200\n",
      "63/63 [==============================] - 54s 855ms/step - loss: 1.0297 - accuracy: 0.7038 - val_loss: 0.7924 - val_accuracy: 0.8010\n",
      "Epoch 10/200\n",
      "63/63 [==============================] - 54s 865ms/step - loss: 0.8811 - accuracy: 0.7427 - val_loss: 0.7190 - val_accuracy: 0.8240\n",
      "Epoch 11/200\n",
      "63/63 [==============================] - 54s 852ms/step - loss: 0.7800 - accuracy: 0.7700 - val_loss: 0.6490 - val_accuracy: 0.8425\n",
      "Epoch 12/200\n",
      "63/63 [==============================] - 54s 852ms/step - loss: 0.7152 - accuracy: 0.7921 - val_loss: 0.6252 - val_accuracy: 0.8490\n",
      "Epoch 13/200\n",
      "63/63 [==============================] - 54s 862ms/step - loss: 0.6324 - accuracy: 0.8099 - val_loss: 0.5992 - val_accuracy: 0.8550\n",
      "Epoch 14/200\n",
      "63/63 [==============================] - 54s 859ms/step - loss: 0.5811 - accuracy: 0.8325 - val_loss: 0.5583 - val_accuracy: 0.8700\n",
      "Epoch 15/200\n",
      "63/63 [==============================] - 52s 820ms/step - loss: 0.5265 - accuracy: 0.8443 - val_loss: 0.5639 - val_accuracy: 0.8685\n",
      "Epoch 16/200\n",
      "63/63 [==============================] - 54s 856ms/step - loss: 0.4913 - accuracy: 0.8579 - val_loss: 0.5304 - val_accuracy: 0.8730\n",
      "Epoch 17/200\n",
      "63/63 [==============================] - 51s 815ms/step - loss: 0.4398 - accuracy: 0.8690 - val_loss: 0.5383 - val_accuracy: 0.8770\n",
      "Epoch 18/200\n",
      "63/63 [==============================] - 54s 864ms/step - loss: 0.4240 - accuracy: 0.8779 - val_loss: 0.5065 - val_accuracy: 0.8830\n",
      "Epoch 19/200\n",
      "63/63 [==============================] - 54s 861ms/step - loss: 0.3949 - accuracy: 0.8840 - val_loss: 0.4880 - val_accuracy: 0.8845\n",
      "Epoch 20/200\n",
      "63/63 [==============================] - 54s 858ms/step - loss: 0.3682 - accuracy: 0.8906 - val_loss: 0.4749 - val_accuracy: 0.8885\n",
      "Epoch 21/200\n",
      "63/63 [==============================] - 51s 817ms/step - loss: 0.3415 - accuracy: 0.8972 - val_loss: 0.4825 - val_accuracy: 0.8940\n",
      "Epoch 22/200\n",
      "63/63 [==============================] - 51s 815ms/step - loss: 0.3297 - accuracy: 0.9030 - val_loss: 0.4860 - val_accuracy: 0.8870\n",
      "Epoch 23/200\n",
      "63/63 [==============================] - 51s 815ms/step - loss: 0.3214 - accuracy: 0.9095 - val_loss: 0.4902 - val_accuracy: 0.8920\n",
      "Epoch 24/200\n",
      "63/63 [==============================] - 52s 822ms/step - loss: 0.2976 - accuracy: 0.9169 - val_loss: 0.4750 - val_accuracy: 0.8960\n",
      "Epoch 25/200\n",
      "63/63 [==============================] - 54s 858ms/step - loss: 0.2778 - accuracy: 0.9210 - val_loss: 0.4662 - val_accuracy: 0.8935\n",
      "Epoch 26/200\n",
      "63/63 [==============================] - 51s 814ms/step - loss: 0.2636 - accuracy: 0.9252 - val_loss: 0.4729 - val_accuracy: 0.8980\n",
      "Epoch 27/200\n",
      "63/63 [==============================] - 54s 860ms/step - loss: 0.2594 - accuracy: 0.9275 - val_loss: 0.4405 - val_accuracy: 0.9035\n",
      "Epoch 28/200\n",
      "63/63 [==============================] - 51s 814ms/step - loss: 0.2239 - accuracy: 0.9335 - val_loss: 0.4618 - val_accuracy: 0.9000\n",
      "Epoch 29/200\n",
      "63/63 [==============================] - 51s 812ms/step - loss: 0.2366 - accuracy: 0.9337 - val_loss: 0.4653 - val_accuracy: 0.9035\n",
      "Epoch 30/200\n",
      "63/63 [==============================] - 51s 814ms/step - loss: 0.2533 - accuracy: 0.9314 - val_loss: 0.4849 - val_accuracy: 0.9005\n",
      "Epoch 31/200\n",
      "63/63 [==============================] - 51s 813ms/step - loss: 0.2273 - accuracy: 0.9381 - val_loss: 0.4510 - val_accuracy: 0.9010\n",
      "Epoch 32/200\n",
      "63/63 [==============================] - 52s 818ms/step - loss: 0.2312 - accuracy: 0.9348 - val_loss: 0.4436 - val_accuracy: 0.9075\n",
      "Epoch 33/200\n",
      "63/63 [==============================] - 51s 808ms/step - loss: 0.2266 - accuracy: 0.9366 - val_loss: 0.4763 - val_accuracy: 0.9000\n",
      "Epoch 34/200\n",
      "63/63 [==============================] - 50s 802ms/step - loss: 0.2139 - accuracy: 0.9395 - val_loss: 0.4509 - val_accuracy: 0.9040\n",
      "Epoch 35/200\n",
      "63/63 [==============================] - 51s 814ms/step - loss: 0.2034 - accuracy: 0.9433 - val_loss: 0.4690 - val_accuracy: 0.9010\n",
      "Epoch 36/200\n",
      "63/63 [==============================] - 51s 807ms/step - loss: 0.1840 - accuracy: 0.9510 - val_loss: 0.4735 - val_accuracy: 0.9010\n",
      "Epoch 37/200\n",
      "63/63 [==============================] - 51s 806ms/step - loss: 0.1731 - accuracy: 0.9514 - val_loss: 0.4726 - val_accuracy: 0.9050\n",
      "Epoch 38/200\n",
      "63/63 [==============================] - 51s 802ms/step - loss: 0.1630 - accuracy: 0.9549 - val_loss: 0.4586 - val_accuracy: 0.9050\n",
      "Epoch 39/200\n",
      "63/63 [==============================] - 50s 800ms/step - loss: 0.1492 - accuracy: 0.9595 - val_loss: 0.4958 - val_accuracy: 0.9075\n",
      "Epoch 40/200\n",
      "63/63 [==============================] - 53s 844ms/step - loss: 0.1711 - accuracy: 0.9531 - val_loss: 0.4306 - val_accuracy: 0.9095\n",
      "Epoch 41/200\n",
      "63/63 [==============================] - 51s 804ms/step - loss: 0.1642 - accuracy: 0.9536 - val_loss: 0.4905 - val_accuracy: 0.9030\n",
      "Epoch 42/200\n",
      "63/63 [==============================] - 50s 797ms/step - loss: 0.1725 - accuracy: 0.9524 - val_loss: 0.4563 - val_accuracy: 0.9095\n",
      "Epoch 43/200\n",
      "63/63 [==============================] - 50s 789ms/step - loss: 0.1498 - accuracy: 0.9571 - val_loss: 0.4733 - val_accuracy: 0.9065\n",
      "Epoch 44/200\n",
      "63/63 [==============================] - 50s 798ms/step - loss: 0.1501 - accuracy: 0.9589 - val_loss: 0.4975 - val_accuracy: 0.9040\n",
      "Epoch 45/200\n",
      "63/63 [==============================] - 50s 788ms/step - loss: 0.1714 - accuracy: 0.9563 - val_loss: 0.4763 - val_accuracy: 0.9085\n",
      "Epoch 46/200\n",
      "63/63 [==============================] - 51s 806ms/step - loss: 0.1313 - accuracy: 0.9626 - val_loss: 0.4702 - val_accuracy: 0.9105\n",
      "Epoch 47/200\n",
      "63/63 [==============================] - 51s 813ms/step - loss: 0.1355 - accuracy: 0.9622 - val_loss: 0.4540 - val_accuracy: 0.9065\n",
      "Epoch 48/200\n",
      "63/63 [==============================] - 51s 808ms/step - loss: 0.1427 - accuracy: 0.9620 - val_loss: 0.5057 - val_accuracy: 0.9100\n",
      "Epoch 49/200\n",
      "63/63 [==============================] - 51s 803ms/step - loss: 0.1390 - accuracy: 0.9625 - val_loss: 0.5014 - val_accuracy: 0.9070\n",
      "Epoch 50/200\n",
      "63/63 [==============================] - 50s 798ms/step - loss: 0.1392 - accuracy: 0.9632 - val_loss: 0.4713 - val_accuracy: 0.9060\n",
      "Epoch 51/200\n",
      "63/63 [==============================] - 50s 801ms/step - loss: 0.1392 - accuracy: 0.9614 - val_loss: 0.4967 - val_accuracy: 0.9020\n",
      "Epoch 52/200\n",
      "63/63 [==============================] - 51s 802ms/step - loss: 0.1434 - accuracy: 0.9660 - val_loss: 0.4669 - val_accuracy: 0.9100\n",
      "Epoch 53/200\n",
      "63/63 [==============================] - 50s 790ms/step - loss: 0.1239 - accuracy: 0.9665 - val_loss: 0.4418 - val_accuracy: 0.9160\n",
      "Epoch 54/200\n",
      "63/63 [==============================] - 50s 789ms/step - loss: 0.1162 - accuracy: 0.9684 - val_loss: 0.4485 - val_accuracy: 0.9090\n",
      "Epoch 55/200\n",
      "63/63 [==============================] - 51s 805ms/step - loss: 0.1334 - accuracy: 0.9641 - val_loss: 0.5086 - val_accuracy: 0.9090\n",
      "Epoch 56/200\n",
      "63/63 [==============================] - 50s 800ms/step - loss: 0.1152 - accuracy: 0.9688 - val_loss: 0.5309 - val_accuracy: 0.9075\n",
      "Epoch 57/200\n"
     ]
    },
    {
     "name": "stdout",
     "output_type": "stream",
     "text": [
      "63/63 [==============================] - 49s 775ms/step - loss: 0.1271 - accuracy: 0.9680 - val_loss: 0.5412 - val_accuracy: 0.9035\n",
      "Epoch 58/200\n",
      "63/63 [==============================] - 49s 784ms/step - loss: 0.1188 - accuracy: 0.9675 - val_loss: 0.5232 - val_accuracy: 0.9070\n",
      "Epoch 59/200\n",
      "63/63 [==============================] - 50s 792ms/step - loss: 0.1243 - accuracy: 0.9695 - val_loss: 0.5067 - val_accuracy: 0.9105\n",
      "Epoch 60/200\n",
      "63/63 [==============================] - 50s 788ms/step - loss: 0.1198 - accuracy: 0.9697 - val_loss: 0.4926 - val_accuracy: 0.9090\n",
      "Epoch 61/200\n",
      "63/63 [==============================] - 50s 796ms/step - loss: 0.1297 - accuracy: 0.9674 - val_loss: 0.4890 - val_accuracy: 0.9100\n",
      "Epoch 62/200\n",
      "63/63 [==============================] - 50s 799ms/step - loss: 0.1365 - accuracy: 0.9685 - val_loss: 0.4876 - val_accuracy: 0.9140\n",
      "Epoch 63/200\n",
      "63/63 [==============================] - 50s 797ms/step - loss: 0.1182 - accuracy: 0.9697 - val_loss: 0.4983 - val_accuracy: 0.9130\n",
      "Epoch 64/200\n",
      "63/63 [==============================] - 50s 792ms/step - loss: 0.1079 - accuracy: 0.9720 - val_loss: 0.5102 - val_accuracy: 0.9160\n",
      "Epoch 65/200\n",
      "63/63 [==============================] - 50s 795ms/step - loss: 0.1231 - accuracy: 0.9679 - val_loss: 0.5256 - val_accuracy: 0.9070\n",
      "Epoch 66/200\n",
      "63/63 [==============================] - 50s 801ms/step - loss: 0.1145 - accuracy: 0.9711 - val_loss: 0.4991 - val_accuracy: 0.9085\n",
      "Epoch 67/200\n",
      "63/63 [==============================] - 50s 800ms/step - loss: 0.1118 - accuracy: 0.9704 - val_loss: 0.5164 - val_accuracy: 0.9095\n",
      "Epoch 68/200\n",
      "63/63 [==============================] - 50s 801ms/step - loss: 0.1108 - accuracy: 0.9701 - val_loss: 0.5196 - val_accuracy: 0.9095\n",
      "Epoch 69/200\n",
      "63/63 [==============================] - 50s 791ms/step - loss: 0.1242 - accuracy: 0.9694 - val_loss: 0.5481 - val_accuracy: 0.9080\n",
      "Epoch 70/200\n",
      "63/63 [==============================] - 49s 785ms/step - loss: 0.1238 - accuracy: 0.9679 - val_loss: 0.5152 - val_accuracy: 0.9040\n",
      "Epoch 71/200\n",
      "63/63 [==============================] - 50s 790ms/step - loss: 0.1197 - accuracy: 0.9703 - val_loss: 0.4899 - val_accuracy: 0.9125\n",
      "Epoch 72/200\n",
      "63/63 [==============================] - 50s 792ms/step - loss: 0.1076 - accuracy: 0.9740 - val_loss: 0.4949 - val_accuracy: 0.9115\n",
      "Epoch 73/200\n",
      "63/63 [==============================] - 51s 803ms/step - loss: 0.0993 - accuracy: 0.9732 - val_loss: 0.4895 - val_accuracy: 0.9110\n",
      "Epoch 74/200\n",
      "63/63 [==============================] - 50s 800ms/step - loss: 0.1241 - accuracy: 0.9701 - val_loss: 0.4937 - val_accuracy: 0.9115\n",
      "Epoch 75/200\n",
      "63/63 [==============================] - 51s 811ms/step - loss: 0.1113 - accuracy: 0.9740 - val_loss: 0.5413 - val_accuracy: 0.9090\n",
      "Epoch 76/200\n",
      "63/63 [==============================] - 51s 814ms/step - loss: 0.1072 - accuracy: 0.9730 - val_loss: 0.5137 - val_accuracy: 0.9095\n",
      "Epoch 77/200\n",
      "63/63 [==============================] - 51s 807ms/step - loss: 0.1217 - accuracy: 0.9722 - val_loss: 0.5034 - val_accuracy: 0.9065\n",
      "Epoch 78/200\n",
      "63/63 [==============================] - 51s 805ms/step - loss: 0.1282 - accuracy: 0.9716 - val_loss: 0.4840 - val_accuracy: 0.9115\n",
      "Epoch 79/200\n",
      "63/63 [==============================] - 50s 796ms/step - loss: 0.1044 - accuracy: 0.9737 - val_loss: 0.5188 - val_accuracy: 0.9140\n",
      "Epoch 80/200\n",
      "63/63 [==============================] - 50s 798ms/step - loss: 0.1277 - accuracy: 0.9714 - val_loss: 0.5189 - val_accuracy: 0.9045\n",
      "Epoch 81/200\n",
      "63/63 [==============================] - 50s 796ms/step - loss: 0.1145 - accuracy: 0.9747 - val_loss: 0.5128 - val_accuracy: 0.9155\n",
      "Epoch 82/200\n",
      "63/63 [==============================] - 50s 797ms/step - loss: 0.1065 - accuracy: 0.9751 - val_loss: 0.5148 - val_accuracy: 0.9130\n",
      "Epoch 83/200\n",
      "63/63 [==============================] - 51s 813ms/step - loss: 0.1136 - accuracy: 0.9715 - val_loss: 0.5581 - val_accuracy: 0.9095\n",
      "Epoch 84/200\n",
      "63/63 [==============================] - 51s 811ms/step - loss: 0.1123 - accuracy: 0.9754 - val_loss: 0.5174 - val_accuracy: 0.9130\n",
      "Epoch 85/200\n",
      "63/63 [==============================] - 50s 800ms/step - loss: 0.1063 - accuracy: 0.9755 - val_loss: 0.5106 - val_accuracy: 0.9135\n",
      "Epoch 86/200\n",
      "63/63 [==============================] - 50s 793ms/step - loss: 0.1201 - accuracy: 0.9695 - val_loss: 0.5030 - val_accuracy: 0.9140\n",
      "Epoch 87/200\n",
      "63/63 [==============================] - 50s 787ms/step - loss: 0.1095 - accuracy: 0.9735 - val_loss: 0.5181 - val_accuracy: 0.9160\n",
      "Epoch 88/200\n",
      "63/63 [==============================] - 51s 805ms/step - loss: 0.1110 - accuracy: 0.9725 - val_loss: 0.5245 - val_accuracy: 0.9130\n",
      "Epoch 89/200\n",
      "63/63 [==============================] - 51s 803ms/step - loss: 0.1259 - accuracy: 0.9712 - val_loss: 0.5227 - val_accuracy: 0.9140\n",
      "Epoch 90/200\n",
      "63/63 [==============================] - 50s 800ms/step - loss: 0.1211 - accuracy: 0.9734 - val_loss: 0.5527 - val_accuracy: 0.9110\n",
      "Epoch 91/200\n",
      "63/63 [==============================] - 52s 818ms/step - loss: 0.1259 - accuracy: 0.9704 - val_loss: 0.5689 - val_accuracy: 0.9105\n",
      "Epoch 92/200\n",
      "63/63 [==============================] - 51s 807ms/step - loss: 0.0980 - accuracy: 0.9751 - val_loss: 0.5603 - val_accuracy: 0.9130\n",
      "Epoch 93/200\n",
      "63/63 [==============================] - 50s 792ms/step - loss: 0.0972 - accuracy: 0.9791 - val_loss: 0.5397 - val_accuracy: 0.9205\n",
      "Epoch 94/200\n",
      "63/63 [==============================] - 50s 799ms/step - loss: 0.0935 - accuracy: 0.9789 - val_loss: 0.5954 - val_accuracy: 0.9140\n",
      "Epoch 95/200\n",
      "63/63 [==============================] - 50s 800ms/step - loss: 0.0944 - accuracy: 0.9769 - val_loss: 0.5817 - val_accuracy: 0.9160\n",
      "Epoch 96/200\n",
      "63/63 [==============================] - 51s 802ms/step - loss: 0.1037 - accuracy: 0.9750 - val_loss: 0.5497 - val_accuracy: 0.9175\n",
      "Epoch 97/200\n",
      "63/63 [==============================] - 51s 806ms/step - loss: 0.1259 - accuracy: 0.9745 - val_loss: 0.5390 - val_accuracy: 0.9135\n",
      "Epoch 98/200\n",
      "63/63 [==============================] - 51s 815ms/step - loss: 0.1185 - accuracy: 0.9731 - val_loss: 0.5729 - val_accuracy: 0.9135\n",
      "Epoch 99/200\n",
      "63/63 [==============================] - 51s 816ms/step - loss: 0.1101 - accuracy: 0.9741 - val_loss: 0.6063 - val_accuracy: 0.9175\n",
      "Epoch 100/200\n",
      "63/63 [==============================] - 51s 813ms/step - loss: 0.1244 - accuracy: 0.9744 - val_loss: 0.6104 - val_accuracy: 0.9145\n",
      "Epoch 101/200\n",
      "63/63 [==============================] - 51s 804ms/step - loss: 0.1226 - accuracy: 0.9730 - val_loss: 0.6536 - val_accuracy: 0.9085\n",
      "Epoch 102/200\n",
      "63/63 [==============================] - 51s 805ms/step - loss: 0.1005 - accuracy: 0.9789 - val_loss: 0.6334 - val_accuracy: 0.9095\n",
      "Epoch 103/200\n",
      "63/63 [==============================] - 52s 821ms/step - loss: 0.1042 - accuracy: 0.9740 - val_loss: 0.5968 - val_accuracy: 0.9145\n",
      "Epoch 104/200\n",
      "63/63 [==============================] - 51s 812ms/step - loss: 0.1032 - accuracy: 0.9760 - val_loss: 0.5985 - val_accuracy: 0.9145\n",
      "Epoch 105/200\n",
      "63/63 [==============================] - 51s 811ms/step - loss: 0.1101 - accuracy: 0.9740 - val_loss: 0.5707 - val_accuracy: 0.9165\n",
      "Epoch 106/200\n",
      "63/63 [==============================] - 52s 822ms/step - loss: 0.1017 - accuracy: 0.9771 - val_loss: 0.5836 - val_accuracy: 0.9095\n",
      "Epoch 107/200\n",
      "63/63 [==============================] - 51s 810ms/step - loss: 0.0993 - accuracy: 0.9770 - val_loss: 0.5919 - val_accuracy: 0.9125\n",
      "Epoch 108/200\n",
      "63/63 [==============================] - 53s 833ms/step - loss: 0.0907 - accuracy: 0.9796 - val_loss: 0.6013 - val_accuracy: 0.9125\n",
      "Epoch 109/200\n",
      "63/63 [==============================] - 52s 819ms/step - loss: 0.0961 - accuracy: 0.9790 - val_loss: 0.6042 - val_accuracy: 0.9115\n",
      "Epoch 110/200\n",
      "63/63 [==============================] - 51s 811ms/step - loss: 0.1032 - accuracy: 0.9760 - val_loss: 0.5768 - val_accuracy: 0.9180\n",
      "Epoch 111/200\n",
      "63/63 [==============================] - 51s 803ms/step - loss: 0.0801 - accuracy: 0.9786 - val_loss: 0.5996 - val_accuracy: 0.9150\n",
      "Epoch 112/200\n",
      "63/63 [==============================] - 51s 809ms/step - loss: 0.0999 - accuracy: 0.9781 - val_loss: 0.6244 - val_accuracy: 0.9100\n",
      "Epoch 113/200\n"
     ]
    },
    {
     "name": "stdout",
     "output_type": "stream",
     "text": [
      "63/63 [==============================] - 51s 813ms/step - loss: 0.1078 - accuracy: 0.9758 - val_loss: 0.6253 - val_accuracy: 0.9090\n",
      "Epoch 114/200\n",
      "63/63 [==============================] - 52s 819ms/step - loss: 0.1036 - accuracy: 0.9774 - val_loss: 0.6141 - val_accuracy: 0.9135\n",
      "Epoch 115/200\n",
      "63/63 [==============================] - 51s 813ms/step - loss: 0.0983 - accuracy: 0.9784 - val_loss: 0.5925 - val_accuracy: 0.9135\n",
      "Epoch 116/200\n",
      "63/63 [==============================] - 51s 815ms/step - loss: 0.0995 - accuracy: 0.9769 - val_loss: 0.5908 - val_accuracy: 0.9110\n",
      "Epoch 117/200\n",
      "63/63 [==============================] - 51s 811ms/step - loss: 0.1084 - accuracy: 0.9764 - val_loss: 0.5872 - val_accuracy: 0.9105\n",
      "Epoch 118/200\n",
      "63/63 [==============================] - 51s 808ms/step - loss: 0.1114 - accuracy: 0.9781 - val_loss: 0.5789 - val_accuracy: 0.9110\n",
      "Epoch 119/200\n",
      "63/63 [==============================] - 51s 810ms/step - loss: 0.1063 - accuracy: 0.9775 - val_loss: 0.5770 - val_accuracy: 0.9175\n",
      "Epoch 120/200\n",
      "63/63 [==============================] - 51s 807ms/step - loss: 0.1103 - accuracy: 0.9770 - val_loss: 0.6345 - val_accuracy: 0.9145\n",
      "Epoch 121/200\n",
      "63/63 [==============================] - 51s 808ms/step - loss: 0.1051 - accuracy: 0.9787 - val_loss: 0.5838 - val_accuracy: 0.9160\n",
      "Epoch 122/200\n",
      "63/63 [==============================] - 50s 798ms/step - loss: 0.0913 - accuracy: 0.9800 - val_loss: 0.5991 - val_accuracy: 0.9125\n",
      "Epoch 123/200\n",
      "63/63 [==============================] - 50s 799ms/step - loss: 0.0928 - accuracy: 0.9808 - val_loss: 0.5689 - val_accuracy: 0.9135\n",
      "Epoch 124/200\n",
      "63/63 [==============================] - 50s 797ms/step - loss: 0.0914 - accuracy: 0.9789 - val_loss: 0.5726 - val_accuracy: 0.9130\n",
      "Epoch 125/200\n",
      "63/63 [==============================] - 51s 806ms/step - loss: 0.1042 - accuracy: 0.9784 - val_loss: 0.6166 - val_accuracy: 0.9065\n",
      "Epoch 126/200\n",
      "63/63 [==============================] - 52s 832ms/step - loss: 0.0755 - accuracy: 0.9831 - val_loss: 0.6410 - val_accuracy: 0.9130\n",
      "Epoch 127/200\n",
      "63/63 [==============================] - 51s 806ms/step - loss: 0.0842 - accuracy: 0.9820 - val_loss: 0.6432 - val_accuracy: 0.9115\n",
      "Epoch 128/200\n",
      "63/63 [==============================] - 50s 786ms/step - loss: 0.0959 - accuracy: 0.9811 - val_loss: 0.5974 - val_accuracy: 0.9120\n",
      "Epoch 129/200\n",
      "63/63 [==============================] - 44s 695ms/step - loss: 0.0926 - accuracy: 0.9784 - val_loss: 0.6352 - val_accuracy: 0.9140\n",
      "Epoch 130/200\n",
      "63/63 [==============================] - 43s 690ms/step - loss: 0.1004 - accuracy: 0.9790 - val_loss: 0.6515 - val_accuracy: 0.9120\n",
      "Epoch 131/200\n",
      "63/63 [==============================] - 45s 718ms/step - loss: 0.0942 - accuracy: 0.9793 - val_loss: 0.6519 - val_accuracy: 0.9125\n",
      "Epoch 132/200\n",
      "63/63 [==============================] - 51s 814ms/step - loss: 0.0971 - accuracy: 0.9800 - val_loss: 0.5947 - val_accuracy: 0.9150\n",
      "Epoch 133/200\n",
      "63/63 [==============================] - 51s 809ms/step - loss: 0.1068 - accuracy: 0.9801 - val_loss: 0.5919 - val_accuracy: 0.9230\n",
      "Epoch 134/200\n",
      "63/63 [==============================] - 51s 805ms/step - loss: 0.0793 - accuracy: 0.9820 - val_loss: 0.6647 - val_accuracy: 0.9165\n",
      "Epoch 135/200\n",
      "63/63 [==============================] - 50s 795ms/step - loss: 0.0824 - accuracy: 0.9791 - val_loss: 0.5960 - val_accuracy: 0.9145\n",
      "Epoch 136/200\n",
      "63/63 [==============================] - 51s 806ms/step - loss: 0.0990 - accuracy: 0.9789 - val_loss: 0.5798 - val_accuracy: 0.9190\n",
      "Epoch 137/200\n",
      "63/63 [==============================] - 51s 807ms/step - loss: 0.0902 - accuracy: 0.9801 - val_loss: 0.5815 - val_accuracy: 0.9190\n",
      "Epoch 138/200\n",
      "63/63 [==============================] - 51s 807ms/step - loss: 0.0804 - accuracy: 0.9827 - val_loss: 0.6073 - val_accuracy: 0.9190\n",
      "Epoch 139/200\n",
      "63/63 [==============================] - 50s 798ms/step - loss: 0.0967 - accuracy: 0.9784 - val_loss: 0.5995 - val_accuracy: 0.9160\n",
      "Epoch 140/200\n",
      "63/63 [==============================] - 50s 798ms/step - loss: 0.1287 - accuracy: 0.9746 - val_loss: 0.6153 - val_accuracy: 0.9150\n",
      "Epoch 141/200\n",
      "63/63 [==============================] - 51s 809ms/step - loss: 0.1151 - accuracy: 0.9736 - val_loss: 0.6184 - val_accuracy: 0.9160\n",
      "Epoch 142/200\n",
      "63/63 [==============================] - 51s 815ms/step - loss: 0.1020 - accuracy: 0.9775 - val_loss: 0.5981 - val_accuracy: 0.9120\n",
      "Epoch 143/200\n",
      "63/63 [==============================] - 51s 815ms/step - loss: 0.0942 - accuracy: 0.9778 - val_loss: 0.6225 - val_accuracy: 0.9150\n",
      "Epoch 144/200\n",
      "63/63 [==============================] - 52s 821ms/step - loss: 0.1098 - accuracy: 0.9797 - val_loss: 0.6441 - val_accuracy: 0.9150\n",
      "Epoch 145/200\n",
      "63/63 [==============================] - 52s 819ms/step - loss: 0.0948 - accuracy: 0.9800 - val_loss: 0.6620 - val_accuracy: 0.9130\n",
      "Epoch 146/200\n",
      "63/63 [==============================] - 51s 816ms/step - loss: 0.1064 - accuracy: 0.9781 - val_loss: 0.6038 - val_accuracy: 0.9145\n",
      "Epoch 147/200\n",
      "63/63 [==============================] - 51s 814ms/step - loss: 0.1030 - accuracy: 0.9801 - val_loss: 0.6361 - val_accuracy: 0.9160\n",
      "Epoch 148/200\n",
      "63/63 [==============================] - 51s 811ms/step - loss: 0.1094 - accuracy: 0.9771 - val_loss: 0.6428 - val_accuracy: 0.9160\n",
      "Epoch 149/200\n",
      "63/63 [==============================] - 51s 812ms/step - loss: 0.0870 - accuracy: 0.9784 - val_loss: 0.6955 - val_accuracy: 0.9160\n",
      "Epoch 150/200\n",
      "63/63 [==============================] - 51s 815ms/step - loss: 0.1108 - accuracy: 0.9790 - val_loss: 0.6948 - val_accuracy: 0.9185\n",
      "Epoch 151/200\n",
      "63/63 [==============================] - 51s 807ms/step - loss: 0.1046 - accuracy: 0.9790 - val_loss: 0.6671 - val_accuracy: 0.9160\n",
      "Epoch 152/200\n",
      "63/63 [==============================] - 51s 802ms/step - loss: 0.1124 - accuracy: 0.9784 - val_loss: 0.6888 - val_accuracy: 0.9115\n",
      "Epoch 153/200\n",
      "63/63 [==============================] - 50s 801ms/step - loss: 0.0960 - accuracy: 0.9815 - val_loss: 0.6513 - val_accuracy: 0.9140\n",
      "Epoch 154/200\n",
      "63/63 [==============================] - 51s 805ms/step - loss: 0.0957 - accuracy: 0.9806 - val_loss: 0.6745 - val_accuracy: 0.9070\n",
      "Epoch 155/200\n",
      "63/63 [==============================] - 52s 819ms/step - loss: 0.0963 - accuracy: 0.9811 - val_loss: 0.6217 - val_accuracy: 0.9125\n",
      "Epoch 156/200\n",
      "63/63 [==============================] - 51s 809ms/step - loss: 0.0816 - accuracy: 0.9829 - val_loss: 0.6174 - val_accuracy: 0.9105\n",
      "Epoch 157/200\n",
      "63/63 [==============================] - 50s 794ms/step - loss: 0.1216 - accuracy: 0.9778 - val_loss: 0.6351 - val_accuracy: 0.9135\n",
      "Epoch 158/200\n",
      "63/63 [==============================] - 51s 802ms/step - loss: 0.1040 - accuracy: 0.9762 - val_loss: 0.6852 - val_accuracy: 0.9095\n",
      "Epoch 159/200\n",
      "63/63 [==============================] - 51s 809ms/step - loss: 0.1010 - accuracy: 0.9789 - val_loss: 0.6474 - val_accuracy: 0.9145\n",
      "Epoch 160/200\n",
      "63/63 [==============================] - 51s 809ms/step - loss: 0.1092 - accuracy: 0.9793 - val_loss: 0.6290 - val_accuracy: 0.9100\n",
      "Epoch 161/200\n",
      "63/63 [==============================] - 51s 812ms/step - loss: 0.1090 - accuracy: 0.9797 - val_loss: 0.6299 - val_accuracy: 0.9155\n",
      "Epoch 162/200\n",
      "63/63 [==============================] - 51s 802ms/step - loss: 0.0893 - accuracy: 0.9808 - val_loss: 0.6416 - val_accuracy: 0.9170\n",
      "Epoch 163/200\n",
      "63/63 [==============================] - 50s 798ms/step - loss: 0.0855 - accuracy: 0.9806 - val_loss: 0.6495 - val_accuracy: 0.9190\n",
      "Epoch 164/200\n",
      "63/63 [==============================] - 51s 805ms/step - loss: 0.1023 - accuracy: 0.9810 - val_loss: 0.6770 - val_accuracy: 0.9165\n",
      "Epoch 165/200\n",
      "63/63 [==============================] - 51s 804ms/step - loss: 0.1069 - accuracy: 0.9783 - val_loss: 0.6571 - val_accuracy: 0.9145\n",
      "Epoch 166/200\n",
      "63/63 [==============================] - 51s 807ms/step - loss: 0.1059 - accuracy: 0.9795 - val_loss: 0.6762 - val_accuracy: 0.9105\n",
      "Epoch 167/200\n",
      "63/63 [==============================] - 52s 824ms/step - loss: 0.0975 - accuracy: 0.9831 - val_loss: 0.6834 - val_accuracy: 0.9130\n",
      "Epoch 168/200\n",
      "63/63 [==============================] - 52s 826ms/step - loss: 0.0933 - accuracy: 0.9811 - val_loss: 0.6729 - val_accuracy: 0.9150\n",
      "Epoch 169/200\n"
     ]
    },
    {
     "name": "stdout",
     "output_type": "stream",
     "text": [
      "63/63 [==============================] - 51s 804ms/step - loss: 0.0902 - accuracy: 0.9795 - val_loss: 0.6819 - val_accuracy: 0.9160\n",
      "Epoch 170/200\n",
      "63/63 [==============================] - 51s 807ms/step - loss: 0.1043 - accuracy: 0.9808 - val_loss: 0.7407 - val_accuracy: 0.9115\n",
      "Epoch 171/200\n",
      "63/63 [==============================] - 52s 822ms/step - loss: 0.1028 - accuracy: 0.9810 - val_loss: 0.6567 - val_accuracy: 0.9150\n",
      "Epoch 172/200\n",
      "63/63 [==============================] - 53s 839ms/step - loss: 0.0991 - accuracy: 0.9795 - val_loss: 0.7094 - val_accuracy: 0.9160\n",
      "Epoch 173/200\n",
      "63/63 [==============================] - 51s 816ms/step - loss: 0.1168 - accuracy: 0.9796 - val_loss: 0.7292 - val_accuracy: 0.9125\n",
      "Epoch 174/200\n",
      "63/63 [==============================] - 45s 715ms/step - loss: 0.0862 - accuracy: 0.9795 - val_loss: 0.7583 - val_accuracy: 0.9150\n",
      "Epoch 175/200\n",
      "63/63 [==============================] - 44s 698ms/step - loss: 0.0845 - accuracy: 0.9837 - val_loss: 0.7146 - val_accuracy: 0.9120\n",
      "Epoch 176/200\n",
      "63/63 [==============================] - 45s 720ms/step - loss: 0.1176 - accuracy: 0.9793 - val_loss: 0.7391 - val_accuracy: 0.9120\n",
      "Epoch 177/200\n",
      "63/63 [==============================] - 44s 702ms/step - loss: 0.1001 - accuracy: 0.9804 - val_loss: 0.6860 - val_accuracy: 0.9160\n",
      "Epoch 178/200\n",
      "63/63 [==============================] - 44s 704ms/step - loss: 0.0888 - accuracy: 0.9797 - val_loss: 0.6936 - val_accuracy: 0.9170\n",
      "Epoch 179/200\n",
      "63/63 [==============================] - 44s 700ms/step - loss: 0.0983 - accuracy: 0.9803 - val_loss: 0.7345 - val_accuracy: 0.9095\n",
      "Epoch 180/200\n",
      "63/63 [==============================] - 49s 773ms/step - loss: 0.1245 - accuracy: 0.9796 - val_loss: 0.7427 - val_accuracy: 0.9140\n",
      "Epoch 181/200\n",
      "63/63 [==============================] - 46s 734ms/step - loss: 0.1186 - accuracy: 0.9794 - val_loss: 0.7089 - val_accuracy: 0.9130\n",
      "Epoch 182/200\n",
      "63/63 [==============================] - 46s 732ms/step - loss: 0.0845 - accuracy: 0.9810 - val_loss: 0.7176 - val_accuracy: 0.9165\n",
      "Epoch 183/200\n",
      "63/63 [==============================] - 46s 730ms/step - loss: 0.0971 - accuracy: 0.9791 - val_loss: 0.7332 - val_accuracy: 0.9100\n",
      "Epoch 184/200\n",
      "63/63 [==============================] - 44s 702ms/step - loss: 0.0930 - accuracy: 0.9821 - val_loss: 0.7622 - val_accuracy: 0.9085\n",
      "Epoch 185/200\n",
      "63/63 [==============================] - 44s 697ms/step - loss: 0.1140 - accuracy: 0.9789 - val_loss: 0.7346 - val_accuracy: 0.9095\n",
      "Epoch 186/200\n",
      "63/63 [==============================] - 44s 697ms/step - loss: 0.1095 - accuracy: 0.9827 - val_loss: 0.7416 - val_accuracy: 0.9155\n",
      "Epoch 187/200\n",
      "63/63 [==============================] - 45s 709ms/step - loss: 0.0877 - accuracy: 0.9821 - val_loss: 0.7790 - val_accuracy: 0.9105\n",
      "Epoch 188/200\n",
      "63/63 [==============================] - 44s 692ms/step - loss: 0.0833 - accuracy: 0.9821 - val_loss: 0.7465 - val_accuracy: 0.9095\n",
      "Epoch 189/200\n",
      "63/63 [==============================] - 44s 698ms/step - loss: 0.1021 - accuracy: 0.9824 - val_loss: 0.7379 - val_accuracy: 0.9110\n",
      "Epoch 190/200\n",
      "63/63 [==============================] - 44s 703ms/step - loss: 0.1004 - accuracy: 0.9808 - val_loss: 0.7887 - val_accuracy: 0.9100\n",
      "Epoch 191/200\n",
      "63/63 [==============================] - 46s 733ms/step - loss: 0.1137 - accuracy: 0.9815 - val_loss: 0.7762 - val_accuracy: 0.9100\n",
      "Epoch 192/200\n",
      "63/63 [==============================] - 44s 705ms/step - loss: 0.0729 - accuracy: 0.9844 - val_loss: 0.7942 - val_accuracy: 0.9110\n",
      "Epoch 193/200\n",
      "63/63 [==============================] - 45s 721ms/step - loss: 0.1072 - accuracy: 0.9787 - val_loss: 0.7123 - val_accuracy: 0.9135\n",
      "Epoch 194/200\n",
      "63/63 [==============================] - 46s 726ms/step - loss: 0.0835 - accuracy: 0.9852 - val_loss: 0.6695 - val_accuracy: 0.9180\n",
      "Epoch 195/200\n",
      "63/63 [==============================] - 45s 712ms/step - loss: 0.0980 - accuracy: 0.9836 - val_loss: 0.6745 - val_accuracy: 0.9185\n",
      "Epoch 196/200\n",
      "63/63 [==============================] - 58s 924ms/step - loss: 0.1022 - accuracy: 0.9821 - val_loss: 0.6561 - val_accuracy: 0.9170\n",
      "Epoch 197/200\n",
      "63/63 [==============================] - 55s 873ms/step - loss: 0.0932 - accuracy: 0.9831 - val_loss: 0.7008 - val_accuracy: 0.9170\n",
      "Epoch 198/200\n",
      "63/63 [==============================] - 53s 846ms/step - loss: 0.1147 - accuracy: 0.9805 - val_loss: 0.7546 - val_accuracy: 0.9155\n",
      "Epoch 199/200\n",
      "63/63 [==============================] - 51s 815ms/step - loss: 0.0798 - accuracy: 0.9812 - val_loss: 0.7171 - val_accuracy: 0.9145\n",
      "Epoch 200/200\n",
      "63/63 [==============================] - 51s 810ms/step - loss: 0.1046 - accuracy: 0.9822 - val_loss: 0.7593 - val_accuracy: 0.9140\n"
     ]
    },
    {
     "data": {
      "text/plain": [
       "<tensorflow.python.keras.callbacks.History at 0x16d4b2d7550>"
      ]
     },
     "execution_count": 20,
     "metadata": {},
     "output_type": "execute_result"
    }
   ],
   "source": [
    "# training the model\n",
    "model.fit(X_train, y_train, epochs=200, validation_data=(X_test, y_test), callbacks=[mcp_save], batch_size=128)"
   ]
  },
  {
   "cell_type": "code",
   "execution_count": 21,
   "id": "7b826801",
   "metadata": {},
   "outputs": [],
   "source": [
    "# loading the trained weights\n",
    "model.load_weights(\"NASNetLargeweight.hdf5\")"
   ]
  },
  {
   "cell_type": "code",
   "execution_count": 22,
   "id": "23f64dc4",
   "metadata": {},
   "outputs": [],
   "source": [
    "# compiling the model\n",
    "model.compile(loss='categorical_crossentropy',optimizer='Adam',metrics=['accuracy'])"
   ]
  },
  {
   "cell_type": "code",
   "execution_count": 24,
   "id": "07fa3bb5",
   "metadata": {},
   "outputs": [
    {
     "data": {
      "text/html": [
       "<div>\n",
       "<style scoped>\n",
       "    .dataframe tbody tr th:only-of-type {\n",
       "        vertical-align: middle;\n",
       "    }\n",
       "\n",
       "    .dataframe tbody tr th {\n",
       "        vertical-align: top;\n",
       "    }\n",
       "\n",
       "    .dataframe thead th {\n",
       "        text-align: right;\n",
       "    }\n",
       "</style>\n",
       "<table border=\"1\" class=\"dataframe\">\n",
       "  <thead>\n",
       "    <tr style=\"text-align: right;\">\n",
       "      <th></th>\n",
       "      <th>video_name</th>\n",
       "    </tr>\n",
       "  </thead>\n",
       "  <tbody>\n",
       "    <tr>\n",
       "      <th>0</th>\n",
       "      <td>ApplyEyeMakeup/v_ApplyEyeMakeup_g01_c01.avi</td>\n",
       "    </tr>\n",
       "    <tr>\n",
       "      <th>1</th>\n",
       "      <td>ApplyEyeMakeup/v_ApplyEyeMakeup_g01_c02.avi</td>\n",
       "    </tr>\n",
       "    <tr>\n",
       "      <th>2</th>\n",
       "      <td>ApplyEyeMakeup/v_ApplyEyeMakeup_g01_c03.avi</td>\n",
       "    </tr>\n",
       "    <tr>\n",
       "      <th>3</th>\n",
       "      <td>ApplyEyeMakeup/v_ApplyEyeMakeup_g01_c04.avi</td>\n",
       "    </tr>\n",
       "    <tr>\n",
       "      <th>4</th>\n",
       "      <td>ApplyEyeMakeup/v_ApplyEyeMakeup_g01_c05.avi</td>\n",
       "    </tr>\n",
       "  </tbody>\n",
       "</table>\n",
       "</div>"
      ],
      "text/plain": [
       "                                    video_name\n",
       "0  ApplyEyeMakeup/v_ApplyEyeMakeup_g01_c01.avi\n",
       "1  ApplyEyeMakeup/v_ApplyEyeMakeup_g01_c02.avi\n",
       "2  ApplyEyeMakeup/v_ApplyEyeMakeup_g01_c03.avi\n",
       "3  ApplyEyeMakeup/v_ApplyEyeMakeup_g01_c04.avi\n",
       "4  ApplyEyeMakeup/v_ApplyEyeMakeup_g01_c05.avi"
      ]
     },
     "execution_count": 24,
     "metadata": {},
     "output_type": "execute_result"
    }
   ],
   "source": [
    "# getting the test list\n",
    "f = open(\"ucfTrainTestlist/testlist01.txt\", \"r\")\n",
    "temp = f.read()\n",
    "videos = temp.split('\\n')\n",
    "\n",
    "# creating the dataframe\n",
    "test = pd.DataFrame()\n",
    "test['video_name'] = videos\n",
    "test = test[:-1]\n",
    "test_videos = test['video_name']\n",
    "test.head()"
   ]
  },
  {
   "cell_type": "code",
   "execution_count": 25,
   "id": "651a2d5b",
   "metadata": {},
   "outputs": [],
   "source": [
    "# creating the tags\n",
    "train = pd.read_csv('train_new.csv')\n",
    "y = train['class']\n",
    "y = pd.get_dummies(y)"
   ]
  },
  {
   "cell_type": "code",
   "execution_count": 26,
   "id": "83337d87",
   "metadata": {},
   "outputs": [],
   "source": [
    "import cv2\n",
    "import math\n",
    "import os\n",
    "from glob import glob\n",
    "from scipy import stats as s"
   ]
  },
  {
   "cell_type": "code",
   "execution_count": 28,
   "id": "e377057a",
   "metadata": {},
   "outputs": [
    {
     "name": "stderr",
     "output_type": "stream",
     "text": [
      "\r",
      "  0%|                                                                                         | 0/3783 [00:00<?, ?it/s]"
     ]
    },
    {
     "name": "stdout",
     "output_type": "stream",
     "text": [
      "WARNING:tensorflow:From C:\\Users\\Shaun\\AppData\\Local\\Temp/ipykernel_2108/1234877477.py:44: Sequential.predict_classes (from tensorflow.python.keras.engine.sequential) is deprecated and will be removed after 2021-01-01.\n",
      "Instructions for updating:\n",
      "Please use instead:* `np.argmax(model.predict(x), axis=-1)`,   if your model does multi-class classification   (e.g. if it uses a `softmax` last-layer activation).* `(model.predict(x) > 0.5).astype(\"int32\")`,   if your model does binary classification   (e.g. if it uses a `sigmoid` last-layer activation).\n"
     ]
    },
    {
     "name": "stderr",
     "output_type": "stream",
     "text": [
      "100%|████████████████████████████████████████████████████████████████████████████| 3783/3783 [1:02:20<00:00,  1.01it/s]\n"
     ]
    }
   ],
   "source": [
    "# creating two lists to store predicted and actual tags\n",
    "predict = []\n",
    "actual = []\n",
    "\n",
    "# for loop to extract frames from each test video\n",
    "for i in tqdm(range(test_videos.shape[0])):\n",
    "    count = 0\n",
    "    videoFile = test_videos[i]\n",
    "    cap = cv2.VideoCapture('UCF-101/'+videoFile.split(' ')[0])   # capturing the video from the given path\n",
    "    frameRate = cap.get(5) #frame rate\n",
    "    x=1\n",
    "    # removing all other files from the temp folder\n",
    "    files = glob('temp/*')\n",
    "    for f in files:\n",
    "        os.remove(f)\n",
    "    while(cap.isOpened()):\n",
    "        frameId = cap.get(1) #current frame number\n",
    "        ret, frame = cap.read()\n",
    "        if (ret != True):\n",
    "            break\n",
    "        if (frameId % math.floor(frameRate) == 0):\n",
    "            # storing the frames of this particular video in temp folder\n",
    "            filename ='temp/' + \"_frame%d.jpg\" % count;count+=1\n",
    "            cv2.imwrite(filename, frame)\n",
    "    cap.release()\n",
    "    \n",
    "    # reading all the frames from temp folder\n",
    "    images = glob(\"temp/*.jpg\")\n",
    "    \n",
    "    prediction_images = []\n",
    "    for i in range(len(images)):\n",
    "        img = image.load_img(images[i], target_size=(224,224,3))\n",
    "        img = image.img_to_array(img)\n",
    "        img = img/255\n",
    "        prediction_images.append(img)\n",
    "        \n",
    "    # converting all the frames for a test video into numpy array\n",
    "    prediction_images = np.array(prediction_images)\n",
    "    # extracting features using pre-trained model\n",
    "    prediction_images = base_model.predict(prediction_images)\n",
    "    # converting features in one dimensional array\n",
    "    prediction_images = prediction_images.reshape(prediction_images.shape[0], 7*7*4032)\n",
    "    # predicting tags for each array\n",
    "    prediction = model.predict_classes(prediction_images)\n",
    "    # appending the mode of predictions in predict list to assign the tag to the video\n",
    "    predict.append(y.columns.values[s.mode(prediction)[0][0]])\n",
    "    # appending the actual tag of the video\n",
    "    actual.append(videoFile.split('/')[1].split('_')[1])"
   ]
  },
  {
   "cell_type": "code",
   "execution_count": 29,
   "id": "8a517f3c",
   "metadata": {},
   "outputs": [
    {
     "data": {
      "text/plain": [
       "69.15146708961142"
      ]
     },
     "execution_count": 29,
     "metadata": {},
     "output_type": "execute_result"
    }
   ],
   "source": [
    "# checking the accuracy of the predicted tags\n",
    "from sklearn.metrics import accuracy_score\n",
    "accuracy_score(predict, actual)*100"
   ]
  },
  {
   "cell_type": "code",
   "execution_count": null,
   "id": "64f6daa8",
   "metadata": {},
   "outputs": [],
   "source": []
  }
 ],
 "metadata": {
  "kernelspec": {
   "display_name": "tf-gpu",
   "language": "python",
   "name": "tf-gpu"
  },
  "language_info": {
   "codemirror_mode": {
    "name": "ipython",
    "version": 3
   },
   "file_extension": ".py",
   "mimetype": "text/x-python",
   "name": "python",
   "nbconvert_exporter": "python",
   "pygments_lexer": "ipython3",
   "version": "3.7.0"
  }
 },
 "nbformat": 4,
 "nbformat_minor": 5
}
