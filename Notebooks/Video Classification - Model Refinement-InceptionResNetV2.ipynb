{
 "cells": [
  {
   "cell_type": "code",
   "execution_count": 1,
   "id": "c761ca66",
   "metadata": {},
   "outputs": [],
   "source": [
    "from tensorflow.keras.models import Sequential\n",
    "from tensorflow.keras.applications import InceptionResNetV2\n",
    "from tensorflow.keras.layers import Dense, InputLayer, Dropout, Flatten\n",
    "from tensorflow.keras.layers import Conv2D, MaxPooling2D, GlobalMaxPooling2D\n",
    "from tensorflow.keras.preprocessing import image\n",
    "import numpy as np\n",
    "import pandas as pd\n",
    "import matplotlib.pyplot as plt\n",
    "from tqdm import tqdm\n",
    "from sklearn.model_selection import train_test_split\n",
    "import cv2\n",
    "import math\n",
    "import os\n",
    "from glob import glob\n",
    "from scipy import stats as s"
   ]
  },
  {
   "cell_type": "code",
   "execution_count": 2,
   "id": "5b73afae",
   "metadata": {},
   "outputs": [
    {
     "data": {
      "text/html": [
       "<div>\n",
       "<style scoped>\n",
       "    .dataframe tbody tr th:only-of-type {\n",
       "        vertical-align: middle;\n",
       "    }\n",
       "\n",
       "    .dataframe tbody tr th {\n",
       "        vertical-align: top;\n",
       "    }\n",
       "\n",
       "    .dataframe thead th {\n",
       "        text-align: right;\n",
       "    }\n",
       "</style>\n",
       "<table border=\"1\" class=\"dataframe\">\n",
       "  <thead>\n",
       "    <tr style=\"text-align: right;\">\n",
       "      <th></th>\n",
       "      <th>image</th>\n",
       "      <th>class</th>\n",
       "    </tr>\n",
       "  </thead>\n",
       "  <tbody>\n",
       "    <tr>\n",
       "      <th>0</th>\n",
       "      <td>v_BrushingTeeth_g22_c03.avi_frame2.jpg</td>\n",
       "      <td>BrushingTeeth</td>\n",
       "    </tr>\n",
       "    <tr>\n",
       "      <th>1</th>\n",
       "      <td>v_Rowing_g20_c04.avi_frame0.jpg</td>\n",
       "      <td>Rowing</td>\n",
       "    </tr>\n",
       "    <tr>\n",
       "      <th>2</th>\n",
       "      <td>v_BrushingTeeth_g13_c04.avi_frame1.jpg</td>\n",
       "      <td>BrushingTeeth</td>\n",
       "    </tr>\n",
       "    <tr>\n",
       "      <th>3</th>\n",
       "      <td>v_HammerThrow_g09_c05.avi_frame4.jpg</td>\n",
       "      <td>HammerThrow</td>\n",
       "    </tr>\n",
       "    <tr>\n",
       "      <th>4</th>\n",
       "      <td>v_Drumming_g23_c07.avi_frame6.jpg</td>\n",
       "      <td>Drumming</td>\n",
       "    </tr>\n",
       "  </tbody>\n",
       "</table>\n",
       "</div>"
      ],
      "text/plain": [
       "                                    image          class\n",
       "0  v_BrushingTeeth_g22_c03.avi_frame2.jpg  BrushingTeeth\n",
       "1         v_Rowing_g20_c04.avi_frame0.jpg         Rowing\n",
       "2  v_BrushingTeeth_g13_c04.avi_frame1.jpg  BrushingTeeth\n",
       "3    v_HammerThrow_g09_c05.avi_frame4.jpg    HammerThrow\n",
       "4       v_Drumming_g23_c07.avi_frame6.jpg       Drumming"
      ]
     },
     "execution_count": 2,
     "metadata": {},
     "output_type": "execute_result"
    }
   ],
   "source": [
    "train = pd.read_csv('train_new.csv')\n",
    "train = train.sample(n=10000).reset_index(drop=True)\n",
    "train.head()"
   ]
  },
  {
   "cell_type": "code",
   "execution_count": 3,
   "id": "048e35ad",
   "metadata": {},
   "outputs": [
    {
     "name": "stderr",
     "output_type": "stream",
     "text": [
      "100%|███████████████████████████████████████████████████████████████████████████| 10000/10000 [00:46<00:00, 213.72it/s]\n"
     ]
    },
    {
     "data": {
      "text/plain": [
       "(10000, 224, 224, 3)"
      ]
     },
     "execution_count": 3,
     "metadata": {},
     "output_type": "execute_result"
    }
   ],
   "source": [
    "# creating an empty list\n",
    "train_image = []\n",
    "\n",
    "# for loop to read and store frames\n",
    "for i in tqdm(range(train.shape[0])):\n",
    "    # loading the image and keeping the target size as (224,224,3)\n",
    "    img = image.load_img('train_1/'+train['image'][i], target_size=(224,224,3))\n",
    "    # converting it to array\n",
    "    img = image.img_to_array(img)\n",
    "    # normalizing the pixel value\n",
    "    img = img/255\n",
    "    # appending the image to the train_image list\n",
    "    train_image.append(img)\n",
    "    \n",
    "# converting the list to numpy array\n",
    "X = np.array(train_image)\n",
    "\n",
    "# shape of the array\n",
    "X.shape"
   ]
  },
  {
   "cell_type": "code",
   "execution_count": 4,
   "id": "fcfef77b",
   "metadata": {},
   "outputs": [],
   "source": [
    "# separating the target\n",
    "y = train['class']\n",
    "\n",
    "# creating the training and validation set\n",
    "X_train, X_test, y_train, y_test = train_test_split(X, y, random_state=42, test_size=0.2, stratify = y)"
   ]
  },
  {
   "cell_type": "code",
   "execution_count": 5,
   "id": "9ca14b02",
   "metadata": {},
   "outputs": [],
   "source": [
    "# creating dummies of target variable for train and validation set\n",
    "y_train = pd.get_dummies(y_train)\n",
    "y_test = pd.get_dummies(y_test)"
   ]
  },
  {
   "cell_type": "code",
   "execution_count": 6,
   "id": "9d4c09f2",
   "metadata": {},
   "outputs": [
    {
     "data": {
      "text/plain": [
       "(8000, 101)"
      ]
     },
     "execution_count": 6,
     "metadata": {},
     "output_type": "execute_result"
    }
   ],
   "source": [
    "y_train.shape"
   ]
  },
  {
   "cell_type": "code",
   "execution_count": 7,
   "id": "b52baba6",
   "metadata": {},
   "outputs": [],
   "source": [
    "# creating the base model of pre-trained VGG16 model\n",
    "base_model = InceptionResNetV2(weights='imagenet', include_top=False)"
   ]
  },
  {
   "cell_type": "code",
   "execution_count": 8,
   "id": "120d06ba",
   "metadata": {},
   "outputs": [
    {
     "data": {
      "text/plain": [
       "(8000, 5, 5, 1536)"
      ]
     },
     "execution_count": 8,
     "metadata": {},
     "output_type": "execute_result"
    }
   ],
   "source": [
    "# extracting features for training frames\n",
    "X_train = base_model.predict(X_train)\n",
    "X_train.shape"
   ]
  },
  {
   "cell_type": "code",
   "execution_count": 9,
   "id": "37194a69",
   "metadata": {},
   "outputs": [
    {
     "data": {
      "text/plain": [
       "(2000, 5, 5, 1536)"
      ]
     },
     "execution_count": 9,
     "metadata": {},
     "output_type": "execute_result"
    }
   ],
   "source": [
    "# extracting features for validation frames\n",
    "X_test = base_model.predict(X_test)\n",
    "X_test.shape"
   ]
  },
  {
   "cell_type": "code",
   "execution_count": 10,
   "id": "1db5cad2",
   "metadata": {},
   "outputs": [],
   "source": [
    "# reshaping the training as well as validation frames in single dimension\n",
    "# X_train = X_train.reshape(8000, 5*5*1536)\n",
    "# X_test = X_test.reshape(2000, 5*5*1536)"
   ]
  },
  {
   "cell_type": "code",
   "execution_count": 11,
   "id": "b64d8bae",
   "metadata": {},
   "outputs": [],
   "source": [
    "# normalizing the pixel values\n",
    "max = X_train.max()\n",
    "X_train = X_train/max\n",
    "X_test = X_test/max"
   ]
  },
  {
   "cell_type": "code",
   "execution_count": 12,
   "id": "0f7bd5d7",
   "metadata": {},
   "outputs": [
    {
     "data": {
      "text/plain": [
       "(8000, 5, 5, 1536)"
      ]
     },
     "execution_count": 12,
     "metadata": {},
     "output_type": "execute_result"
    }
   ],
   "source": [
    "# shape of images\n",
    "X_train.shape"
   ]
  },
  {
   "cell_type": "code",
   "execution_count": 13,
   "id": "6267d53e",
   "metadata": {},
   "outputs": [],
   "source": [
    "#defining the model architecture\n",
    "model = Sequential()\n",
    "model.add(Conv2D(16,(3,3),padding='same',input_shape=(5,5,1536)))\n",
    "model.add(MaxPooling2D(pool_size=(2, 2)))\n",
    "model.add(Flatten())\n",
    "model.add(Dense(1024, activation='relu'))\n",
    "model.add(Dropout(0.5))\n",
    "model.add(Dense(512, activation='relu'))\n",
    "model.add(Dropout(0.5))\n",
    "model.add(Dense(256, activation='relu'))\n",
    "model.add(Dropout(0.5))\n",
    "model.add(Dense(128, activation='relu'))\n",
    "model.add(Dropout(0.5))\n",
    "model.add(Dense(101, activation='softmax'))"
   ]
  },
  {
   "cell_type": "code",
   "execution_count": 14,
   "id": "32d96d2d",
   "metadata": {},
   "outputs": [
    {
     "name": "stdout",
     "output_type": "stream",
     "text": [
      "Model: \"sequential\"\n",
      "_________________________________________________________________\n",
      "Layer (type)                 Output Shape              Param #   \n",
      "=================================================================\n",
      "conv2d_203 (Conv2D)          (None, 5, 5, 16)          221200    \n",
      "_________________________________________________________________\n",
      "max_pooling2d_4 (MaxPooling2 (None, 2, 2, 16)          0         \n",
      "_________________________________________________________________\n",
      "flatten (Flatten)            (None, 64)                0         \n",
      "_________________________________________________________________\n",
      "dense (Dense)                (None, 1024)              66560     \n",
      "_________________________________________________________________\n",
      "dropout (Dropout)            (None, 1024)              0         \n",
      "_________________________________________________________________\n",
      "dense_1 (Dense)              (None, 512)               524800    \n",
      "_________________________________________________________________\n",
      "dropout_1 (Dropout)          (None, 512)               0         \n",
      "_________________________________________________________________\n",
      "dense_2 (Dense)              (None, 256)               131328    \n",
      "_________________________________________________________________\n",
      "dropout_2 (Dropout)          (None, 256)               0         \n",
      "_________________________________________________________________\n",
      "dense_3 (Dense)              (None, 128)               32896     \n",
      "_________________________________________________________________\n",
      "dropout_3 (Dropout)          (None, 128)               0         \n",
      "_________________________________________________________________\n",
      "dense_4 (Dense)              (None, 101)               13029     \n",
      "=================================================================\n",
      "Total params: 989,813\n",
      "Trainable params: 989,813\n",
      "Non-trainable params: 0\n",
      "_________________________________________________________________\n"
     ]
    }
   ],
   "source": [
    "model.summary()"
   ]
  },
  {
   "cell_type": "code",
   "execution_count": 15,
   "id": "38b6da33",
   "metadata": {},
   "outputs": [],
   "source": [
    "# defining a function to save the weights of best model\n",
    "from tensorflow.keras.callbacks import ModelCheckpoint\n",
    "mcp_save = ModelCheckpoint('InceptionResNetV2weight_Refined.hdf5', save_best_only=True, monitor='val_loss', mode='min')"
   ]
  },
  {
   "cell_type": "code",
   "execution_count": 16,
   "id": "fa5ef05a",
   "metadata": {},
   "outputs": [],
   "source": [
    "# compiling the model\n",
    "model.compile(loss='categorical_crossentropy',optimizer='Adam',metrics=['accuracy'])"
   ]
  },
  {
   "cell_type": "code",
   "execution_count": 17,
   "id": "e103e94e",
   "metadata": {},
   "outputs": [
    {
     "name": "stdout",
     "output_type": "stream",
     "text": [
      "Epoch 1/200\n",
      "63/63 [==============================] - 4s 62ms/step - loss: 4.5065 - accuracy: 0.0296 - val_loss: 4.1690 - val_accuracy: 0.0820\n",
      "Epoch 2/200\n",
      "63/63 [==============================] - 4s 58ms/step - loss: 3.9416 - accuracy: 0.1147 - val_loss: 3.4615 - val_accuracy: 0.2235\n",
      "Epoch 3/200\n",
      "63/63 [==============================] - 4s 58ms/step - loss: 3.4156 - accuracy: 0.2021 - val_loss: 2.8675 - val_accuracy: 0.3210\n",
      "Epoch 4/200\n",
      "63/63 [==============================] - 4s 58ms/step - loss: 2.9611 - accuracy: 0.2805 - val_loss: 2.4601 - val_accuracy: 0.3945\n",
      "Epoch 5/200\n",
      "63/63 [==============================] - 4s 57ms/step - loss: 2.6273 - accuracy: 0.3390 - val_loss: 2.1662 - val_accuracy: 0.4480\n",
      "Epoch 6/200\n",
      "63/63 [==============================] - 4s 57ms/step - loss: 2.3466 - accuracy: 0.3855 - val_loss: 1.9563 - val_accuracy: 0.4895\n",
      "Epoch 7/200\n",
      "63/63 [==============================] - 4s 58ms/step - loss: 2.0865 - accuracy: 0.4308 - val_loss: 1.7969 - val_accuracy: 0.5285\n",
      "Epoch 8/200\n",
      "63/63 [==============================] - 4s 58ms/step - loss: 1.9757 - accuracy: 0.4574 - val_loss: 1.6572 - val_accuracy: 0.5595\n",
      "Epoch 9/200\n",
      "63/63 [==============================] - 4s 57ms/step - loss: 1.7787 - accuracy: 0.4951 - val_loss: 1.5521 - val_accuracy: 0.5890\n",
      "Epoch 10/200\n",
      "63/63 [==============================] - 4s 57ms/step - loss: 1.6185 - accuracy: 0.5334 - val_loss: 1.4640 - val_accuracy: 0.6040\n",
      "Epoch 11/200\n",
      "63/63 [==============================] - 4s 58ms/step - loss: 1.5223 - accuracy: 0.5527 - val_loss: 1.4017 - val_accuracy: 0.6275\n",
      "Epoch 12/200\n",
      "63/63 [==============================] - 4s 58ms/step - loss: 1.4164 - accuracy: 0.5754 - val_loss: 1.3303 - val_accuracy: 0.6355\n",
      "Epoch 13/200\n",
      "63/63 [==============================] - 4s 58ms/step - loss: 1.3240 - accuracy: 0.6049 - val_loss: 1.3033 - val_accuracy: 0.6425\n",
      "Epoch 14/200\n",
      "63/63 [==============================] - 4s 58ms/step - loss: 1.2415 - accuracy: 0.6194 - val_loss: 1.2740 - val_accuracy: 0.6600\n",
      "Epoch 15/200\n",
      "63/63 [==============================] - 4s 58ms/step - loss: 1.1651 - accuracy: 0.6446 - val_loss: 1.2565 - val_accuracy: 0.6635\n",
      "Epoch 16/200\n",
      "63/63 [==============================] - 4s 57ms/step - loss: 1.0820 - accuracy: 0.6636 - val_loss: 1.2721 - val_accuracy: 0.6570\n",
      "Epoch 17/200\n",
      "63/63 [==============================] - 4s 58ms/step - loss: 1.0221 - accuracy: 0.6809 - val_loss: 1.2066 - val_accuracy: 0.6825\n",
      "Epoch 18/200\n",
      "63/63 [==============================] - 4s 57ms/step - loss: 0.9502 - accuracy: 0.7107 - val_loss: 1.2626 - val_accuracy: 0.6765\n",
      "Epoch 19/200\n",
      "63/63 [==============================] - 4s 58ms/step - loss: 0.9302 - accuracy: 0.7132 - val_loss: 1.1521 - val_accuracy: 0.6925\n",
      "Epoch 20/200\n",
      "63/63 [==============================] - 4s 57ms/step - loss: 0.8894 - accuracy: 0.7245 - val_loss: 1.2367 - val_accuracy: 0.6845\n",
      "Epoch 21/200\n",
      "63/63 [==============================] - 4s 57ms/step - loss: 0.8648 - accuracy: 0.7341 - val_loss: 1.1744 - val_accuracy: 0.7075\n",
      "Epoch 22/200\n",
      "63/63 [==============================] - 4s 58ms/step - loss: 0.8195 - accuracy: 0.7387 - val_loss: 1.1385 - val_accuracy: 0.7250\n",
      "Epoch 23/200\n",
      "63/63 [==============================] - 4s 58ms/step - loss: 0.7669 - accuracy: 0.7613 - val_loss: 1.1085 - val_accuracy: 0.7250\n",
      "Epoch 24/200\n",
      "63/63 [==============================] - 4s 58ms/step - loss: 0.7267 - accuracy: 0.7678 - val_loss: 1.1032 - val_accuracy: 0.7410\n",
      "Epoch 25/200\n",
      "63/63 [==============================] - 4s 58ms/step - loss: 0.6842 - accuracy: 0.7774 - val_loss: 1.0762 - val_accuracy: 0.7315\n",
      "Epoch 26/200\n",
      "63/63 [==============================] - 4s 57ms/step - loss: 0.6725 - accuracy: 0.7880 - val_loss: 1.1745 - val_accuracy: 0.7230\n",
      "Epoch 27/200\n",
      "63/63 [==============================] - 4s 57ms/step - loss: 0.6456 - accuracy: 0.7918 - val_loss: 1.1442 - val_accuracy: 0.7445\n",
      "Epoch 28/200\n",
      "63/63 [==============================] - 4s 57ms/step - loss: 0.5849 - accuracy: 0.8067 - val_loss: 1.1703 - val_accuracy: 0.7370\n",
      "Epoch 29/200\n",
      "63/63 [==============================] - 4s 57ms/step - loss: 0.5791 - accuracy: 0.8098 - val_loss: 1.1332 - val_accuracy: 0.7480\n",
      "Epoch 30/200\n",
      "63/63 [==============================] - 4s 57ms/step - loss: 0.5752 - accuracy: 0.8163 - val_loss: 1.0537 - val_accuracy: 0.7550\n",
      "Epoch 31/200\n",
      "63/63 [==============================] - 4s 57ms/step - loss: 0.5254 - accuracy: 0.8246 - val_loss: 1.1221 - val_accuracy: 0.7525\n",
      "Epoch 32/200\n",
      "63/63 [==============================] - 4s 59ms/step - loss: 0.5131 - accuracy: 0.8332 - val_loss: 1.0570 - val_accuracy: 0.7720\n",
      "Epoch 33/200\n",
      "63/63 [==============================] - 4s 59ms/step - loss: 0.5012 - accuracy: 0.8335 - val_loss: 1.1276 - val_accuracy: 0.7605\n",
      "Epoch 34/200\n",
      "63/63 [==============================] - 4s 57ms/step - loss: 0.4667 - accuracy: 0.8480 - val_loss: 1.1300 - val_accuracy: 0.7590\n",
      "Epoch 35/200\n",
      "63/63 [==============================] - 4s 58ms/step - loss: 0.4623 - accuracy: 0.8526 - val_loss: 1.0707 - val_accuracy: 0.7615\n",
      "Epoch 36/200\n",
      "63/63 [==============================] - 4s 57ms/step - loss: 0.4453 - accuracy: 0.8566 - val_loss: 1.1324 - val_accuracy: 0.7670\n",
      "Epoch 37/200\n",
      "63/63 [==============================] - 4s 57ms/step - loss: 0.4197 - accuracy: 0.8651 - val_loss: 1.0756 - val_accuracy: 0.7670\n",
      "Epoch 38/200\n",
      "63/63 [==============================] - 4s 58ms/step - loss: 0.4337 - accuracy: 0.8554 - val_loss: 1.0757 - val_accuracy: 0.7730\n",
      "Epoch 39/200\n",
      "63/63 [==============================] - 4s 59ms/step - loss: 0.4024 - accuracy: 0.8749 - val_loss: 1.1426 - val_accuracy: 0.7705\n",
      "Epoch 40/200\n",
      "63/63 [==============================] - 4s 62ms/step - loss: 0.4049 - accuracy: 0.8734 - val_loss: 1.1105 - val_accuracy: 0.7775\n",
      "Epoch 41/200\n",
      "63/63 [==============================] - 4s 62ms/step - loss: 0.3651 - accuracy: 0.8817 - val_loss: 1.1176 - val_accuracy: 0.7780\n",
      "Epoch 42/200\n",
      "63/63 [==============================] - 4s 59ms/step - loss: 0.3852 - accuracy: 0.8788 - val_loss: 1.0914 - val_accuracy: 0.7720\n",
      "Epoch 43/200\n",
      "63/63 [==============================] - 4s 59ms/step - loss: 0.3649 - accuracy: 0.8809 - val_loss: 1.1900 - val_accuracy: 0.7750\n",
      "Epoch 44/200\n",
      "63/63 [==============================] - 4s 60ms/step - loss: 0.3406 - accuracy: 0.8909 - val_loss: 1.1906 - val_accuracy: 0.7555\n",
      "Epoch 45/200\n",
      "63/63 [==============================] - 4s 63ms/step - loss: 0.3360 - accuracy: 0.8898 - val_loss: 1.1755 - val_accuracy: 0.7760\n",
      "Epoch 46/200\n",
      "63/63 [==============================] - 4s 65ms/step - loss: 0.3042 - accuracy: 0.8997 - val_loss: 1.1167 - val_accuracy: 0.7875\n",
      "Epoch 47/200\n",
      "63/63 [==============================] - 4s 62ms/step - loss: 0.2951 - accuracy: 0.9040 - val_loss: 1.2105 - val_accuracy: 0.7715\n",
      "Epoch 48/200\n",
      "63/63 [==============================] - 4s 59ms/step - loss: 0.3358 - accuracy: 0.8945 - val_loss: 1.1296 - val_accuracy: 0.7680\n",
      "Epoch 49/200\n",
      "63/63 [==============================] - 4s 62ms/step - loss: 0.3298 - accuracy: 0.8953 - val_loss: 1.2109 - val_accuracy: 0.7700\n",
      "Epoch 50/200\n",
      "63/63 [==============================] - 4s 61ms/step - loss: 0.3278 - accuracy: 0.8938 - val_loss: 1.2578 - val_accuracy: 0.7850\n",
      "Epoch 51/200\n",
      "63/63 [==============================] - 4s 59ms/step - loss: 0.3073 - accuracy: 0.8988 - val_loss: 1.2142 - val_accuracy: 0.7780\n",
      "Epoch 52/200\n",
      "63/63 [==============================] - 4s 58ms/step - loss: 0.2942 - accuracy: 0.9056 - val_loss: 1.2447 - val_accuracy: 0.7860\n",
      "Epoch 53/200\n",
      "63/63 [==============================] - 4s 58ms/step - loss: 0.2623 - accuracy: 0.9168 - val_loss: 1.2834 - val_accuracy: 0.7730\n",
      "Epoch 54/200\n",
      "63/63 [==============================] - 4s 57ms/step - loss: 0.2834 - accuracy: 0.9154 - val_loss: 1.2102 - val_accuracy: 0.7820\n",
      "Epoch 55/200\n",
      "63/63 [==============================] - 4s 57ms/step - loss: 0.2813 - accuracy: 0.9126 - val_loss: 1.2245 - val_accuracy: 0.7965\n",
      "Epoch 56/200\n",
      "63/63 [==============================] - 4s 57ms/step - loss: 0.2657 - accuracy: 0.9164 - val_loss: 1.2153 - val_accuracy: 0.7780\n",
      "Epoch 57/200\n",
      "63/63 [==============================] - 4s 57ms/step - loss: 0.2676 - accuracy: 0.9128 - val_loss: 1.2813 - val_accuracy: 0.7880\n",
      "Epoch 58/200\n"
     ]
    },
    {
     "name": "stdout",
     "output_type": "stream",
     "text": [
      "63/63 [==============================] - 4s 57ms/step - loss: 0.2229 - accuracy: 0.9276 - val_loss: 1.1724 - val_accuracy: 0.8045\n",
      "Epoch 59/200\n",
      "63/63 [==============================] - 4s 60ms/step - loss: 0.2362 - accuracy: 0.9280 - val_loss: 1.3063 - val_accuracy: 0.7855\n",
      "Epoch 60/200\n",
      "63/63 [==============================] - 4s 59ms/step - loss: 0.2167 - accuracy: 0.9305 - val_loss: 1.3846 - val_accuracy: 0.7830\n",
      "Epoch 61/200\n",
      "63/63 [==============================] - 4s 60ms/step - loss: 0.2561 - accuracy: 0.9235 - val_loss: 1.1553 - val_accuracy: 0.7940\n",
      "Epoch 62/200\n",
      "63/63 [==============================] - 4s 61ms/step - loss: 0.2344 - accuracy: 0.9280 - val_loss: 1.4742 - val_accuracy: 0.7575\n",
      "Epoch 63/200\n",
      "63/63 [==============================] - 4s 58ms/step - loss: 0.2234 - accuracy: 0.9326 - val_loss: 1.2135 - val_accuracy: 0.7955\n",
      "Epoch 64/200\n",
      "63/63 [==============================] - 4s 57ms/step - loss: 0.1960 - accuracy: 0.9379 - val_loss: 1.3347 - val_accuracy: 0.7855\n",
      "Epoch 65/200\n",
      "63/63 [==============================] - 4s 57ms/step - loss: 0.2305 - accuracy: 0.9256 - val_loss: 1.3732 - val_accuracy: 0.7765\n",
      "Epoch 66/200\n",
      "63/63 [==============================] - 4s 57ms/step - loss: 0.2318 - accuracy: 0.9289 - val_loss: 1.2261 - val_accuracy: 0.7960\n",
      "Epoch 67/200\n",
      "63/63 [==============================] - 4s 57ms/step - loss: 0.2257 - accuracy: 0.9280 - val_loss: 1.3886 - val_accuracy: 0.7920\n",
      "Epoch 68/200\n",
      "63/63 [==============================] - 4s 57ms/step - loss: 0.2369 - accuracy: 0.9262 - val_loss: 1.1881 - val_accuracy: 0.8010\n",
      "Epoch 69/200\n",
      "63/63 [==============================] - 4s 58ms/step - loss: 0.1960 - accuracy: 0.9399 - val_loss: 1.2526 - val_accuracy: 0.7935\n",
      "Epoch 70/200\n",
      "63/63 [==============================] - 4s 60ms/step - loss: 0.1892 - accuracy: 0.9394 - val_loss: 1.2849 - val_accuracy: 0.7850\n",
      "Epoch 71/200\n",
      "63/63 [==============================] - 4s 56ms/step - loss: 0.2052 - accuracy: 0.9375 - val_loss: 1.2383 - val_accuracy: 0.7900\n",
      "Epoch 72/200\n",
      "63/63 [==============================] - 4s 57ms/step - loss: 0.1827 - accuracy: 0.9450 - val_loss: 1.4109 - val_accuracy: 0.7945\n",
      "Epoch 73/200\n",
      "63/63 [==============================] - 4s 57ms/step - loss: 0.1884 - accuracy: 0.9420 - val_loss: 1.2981 - val_accuracy: 0.7885\n",
      "Epoch 74/200\n",
      "63/63 [==============================] - 4s 57ms/step - loss: 0.1656 - accuracy: 0.9506 - val_loss: 1.2122 - val_accuracy: 0.8035\n",
      "Epoch 75/200\n",
      "63/63 [==============================] - 4s 60ms/step - loss: 0.1532 - accuracy: 0.9528 - val_loss: 1.4101 - val_accuracy: 0.7880\n",
      "Epoch 76/200\n",
      "63/63 [==============================] - 4s 58ms/step - loss: 0.1740 - accuracy: 0.9460 - val_loss: 1.3031 - val_accuracy: 0.7965\n",
      "Epoch 77/200\n",
      "63/63 [==============================] - 4s 58ms/step - loss: 0.1766 - accuracy: 0.9484 - val_loss: 1.3863 - val_accuracy: 0.7995\n",
      "Epoch 78/200\n",
      "63/63 [==============================] - 4s 58ms/step - loss: 0.1963 - accuracy: 0.9423 - val_loss: 1.2352 - val_accuracy: 0.8015\n",
      "Epoch 79/200\n",
      "63/63 [==============================] - 4s 59ms/step - loss: 0.1699 - accuracy: 0.9496 - val_loss: 1.3475 - val_accuracy: 0.7940\n",
      "Epoch 80/200\n",
      "63/63 [==============================] - 4s 57ms/step - loss: 0.1929 - accuracy: 0.9442 - val_loss: 1.3247 - val_accuracy: 0.8005\n",
      "Epoch 81/200\n",
      "63/63 [==============================] - 4s 58ms/step - loss: 0.1689 - accuracy: 0.9494 - val_loss: 1.3277 - val_accuracy: 0.8015\n",
      "Epoch 82/200\n",
      "63/63 [==============================] - 4s 59ms/step - loss: 0.1962 - accuracy: 0.9414 - val_loss: 1.3302 - val_accuracy: 0.7960\n",
      "Epoch 83/200\n",
      "63/63 [==============================] - 4s 59ms/step - loss: 0.1816 - accuracy: 0.9467 - val_loss: 1.3113 - val_accuracy: 0.7915\n",
      "Epoch 84/200\n",
      "63/63 [==============================] - 4s 58ms/step - loss: 0.2021 - accuracy: 0.9421 - val_loss: 1.4514 - val_accuracy: 0.7805\n",
      "Epoch 85/200\n",
      "63/63 [==============================] - 4s 58ms/step - loss: 0.1749 - accuracy: 0.9494 - val_loss: 1.2704 - val_accuracy: 0.7965\n",
      "Epoch 86/200\n",
      "63/63 [==============================] - 4s 59ms/step - loss: 0.1836 - accuracy: 0.9504 - val_loss: 1.2711 - val_accuracy: 0.7940\n",
      "Epoch 87/200\n",
      "63/63 [==============================] - 4s 59ms/step - loss: 0.1457 - accuracy: 0.9551 - val_loss: 1.2383 - val_accuracy: 0.7990\n",
      "Epoch 88/200\n",
      "63/63 [==============================] - 4s 58ms/step - loss: 0.1507 - accuracy: 0.9531 - val_loss: 1.2513 - val_accuracy: 0.8080\n",
      "Epoch 89/200\n",
      "63/63 [==============================] - 4s 59ms/step - loss: 0.1424 - accuracy: 0.9565 - val_loss: 1.3169 - val_accuracy: 0.8015\n",
      "Epoch 90/200\n",
      "63/63 [==============================] - 4s 57ms/step - loss: 0.1615 - accuracy: 0.9530 - val_loss: 1.5984 - val_accuracy: 0.7820\n",
      "Epoch 91/200\n",
      "63/63 [==============================] - 4s 60ms/step - loss: 0.2512 - accuracy: 0.9310 - val_loss: 1.3332 - val_accuracy: 0.7950\n",
      "Epoch 92/200\n",
      "63/63 [==============================] - 4s 59ms/step - loss: 0.1655 - accuracy: 0.9510 - val_loss: 1.2353 - val_accuracy: 0.8060\n",
      "Epoch 93/200\n",
      "63/63 [==============================] - 4s 58ms/step - loss: 0.1689 - accuracy: 0.9516 - val_loss: 1.2554 - val_accuracy: 0.7955\n",
      "Epoch 94/200\n",
      "63/63 [==============================] - 4s 60ms/step - loss: 0.1664 - accuracy: 0.9516 - val_loss: 1.2529 - val_accuracy: 0.8155\n",
      "Epoch 95/200\n",
      "63/63 [==============================] - 4s 58ms/step - loss: 0.1419 - accuracy: 0.9599 - val_loss: 1.2998 - val_accuracy: 0.7950\n",
      "Epoch 96/200\n",
      "63/63 [==============================] - 4s 59ms/step - loss: 0.1229 - accuracy: 0.9639 - val_loss: 1.3701 - val_accuracy: 0.8015\n",
      "Epoch 97/200\n",
      "63/63 [==============================] - 4s 59ms/step - loss: 0.1416 - accuracy: 0.9599 - val_loss: 1.4181 - val_accuracy: 0.8010\n",
      "Epoch 98/200\n",
      "63/63 [==============================] - 4s 60ms/step - loss: 0.1555 - accuracy: 0.9542 - val_loss: 1.3158 - val_accuracy: 0.8105\n",
      "Epoch 99/200\n",
      "63/63 [==============================] - 4s 59ms/step - loss: 0.1285 - accuracy: 0.9629 - val_loss: 1.3232 - val_accuracy: 0.8100\n",
      "Epoch 100/200\n",
      "63/63 [==============================] - 4s 58ms/step - loss: 0.1168 - accuracy: 0.9659 - val_loss: 1.4220 - val_accuracy: 0.8015\n",
      "Epoch 101/200\n",
      "63/63 [==============================] - 4s 58ms/step - loss: 0.1408 - accuracy: 0.9574 - val_loss: 1.3619 - val_accuracy: 0.8035\n",
      "Epoch 102/200\n",
      "63/63 [==============================] - 4s 58ms/step - loss: 0.1222 - accuracy: 0.9647 - val_loss: 1.3738 - val_accuracy: 0.8060\n",
      "Epoch 103/200\n",
      "63/63 [==============================] - 4s 58ms/step - loss: 0.0976 - accuracy: 0.9686 - val_loss: 1.3814 - val_accuracy: 0.8165\n",
      "Epoch 104/200\n",
      "63/63 [==============================] - 4s 61ms/step - loss: 0.1473 - accuracy: 0.9611 - val_loss: 1.4371 - val_accuracy: 0.7940\n",
      "Epoch 105/200\n",
      "63/63 [==============================] - 4s 59ms/step - loss: 0.1399 - accuracy: 0.9613 - val_loss: 1.3782 - val_accuracy: 0.8060\n",
      "Epoch 106/200\n",
      "63/63 [==============================] - 4s 58ms/step - loss: 0.1168 - accuracy: 0.9656 - val_loss: 1.6449 - val_accuracy: 0.7915\n",
      "Epoch 107/200\n",
      "63/63 [==============================] - 4s 59ms/step - loss: 0.1546 - accuracy: 0.9572 - val_loss: 1.4254 - val_accuracy: 0.8095\n",
      "Epoch 108/200\n",
      "63/63 [==============================] - 4s 61ms/step - loss: 0.1206 - accuracy: 0.9669 - val_loss: 1.4508 - val_accuracy: 0.8180\n",
      "Epoch 109/200\n",
      "63/63 [==============================] - 4s 59ms/step - loss: 0.1127 - accuracy: 0.9676 - val_loss: 1.4101 - val_accuracy: 0.7950\n",
      "Epoch 110/200\n",
      "63/63 [==============================] - 4s 60ms/step - loss: 0.1066 - accuracy: 0.9685 - val_loss: 1.3793 - val_accuracy: 0.7995\n",
      "Epoch 111/200\n",
      "63/63 [==============================] - 4s 63ms/step - loss: 0.1027 - accuracy: 0.9714 - val_loss: 1.3724 - val_accuracy: 0.8110\n",
      "Epoch 112/200\n",
      "63/63 [==============================] - 4s 67ms/step - loss: 0.1083 - accuracy: 0.9707 - val_loss: 1.4860 - val_accuracy: 0.7995\n",
      "Epoch 113/200\n",
      "63/63 [==============================] - 4s 67ms/step - loss: 0.1117 - accuracy: 0.9685 - val_loss: 1.5268 - val_accuracy: 0.8015\n",
      "Epoch 114/200\n",
      "63/63 [==============================] - 4s 64ms/step - loss: 0.1108 - accuracy: 0.9657 - val_loss: 1.7074 - val_accuracy: 0.7810\n",
      "Epoch 115/200\n"
     ]
    },
    {
     "name": "stdout",
     "output_type": "stream",
     "text": [
      "63/63 [==============================] - 4s 63ms/step - loss: 0.1224 - accuracy: 0.9669 - val_loss: 1.5244 - val_accuracy: 0.8025\n",
      "Epoch 116/200\n",
      "63/63 [==============================] - 4s 61ms/step - loss: 0.1294 - accuracy: 0.9635 - val_loss: 1.5223 - val_accuracy: 0.7950\n",
      "Epoch 117/200\n",
      "63/63 [==============================] - 4s 63ms/step - loss: 0.1491 - accuracy: 0.9584 - val_loss: 1.4338 - val_accuracy: 0.7990\n",
      "Epoch 118/200\n",
      "63/63 [==============================] - 4s 64ms/step - loss: 0.1270 - accuracy: 0.9666 - val_loss: 1.5853 - val_accuracy: 0.7980\n",
      "Epoch 119/200\n",
      "63/63 [==============================] - 4s 61ms/step - loss: 0.1229 - accuracy: 0.9666 - val_loss: 1.3852 - val_accuracy: 0.8110\n",
      "Epoch 120/200\n",
      "63/63 [==============================] - 4s 63ms/step - loss: 0.0948 - accuracy: 0.9745 - val_loss: 1.5903 - val_accuracy: 0.7940\n",
      "Epoch 121/200\n",
      "63/63 [==============================] - 4s 62ms/step - loss: 0.1347 - accuracy: 0.9670 - val_loss: 1.7282 - val_accuracy: 0.7970\n",
      "Epoch 122/200\n",
      "63/63 [==============================] - 4s 61ms/step - loss: 0.1372 - accuracy: 0.9638 - val_loss: 1.5701 - val_accuracy: 0.7910\n",
      "Epoch 123/200\n",
      "63/63 [==============================] - 4s 61ms/step - loss: 0.1151 - accuracy: 0.9669 - val_loss: 1.4765 - val_accuracy: 0.8025\n",
      "Epoch 124/200\n",
      "63/63 [==============================] - 4s 59ms/step - loss: 0.1500 - accuracy: 0.9613 - val_loss: 1.4563 - val_accuracy: 0.7975\n",
      "Epoch 125/200\n",
      "63/63 [==============================] - 4s 61ms/step - loss: 0.1292 - accuracy: 0.9651 - val_loss: 1.4486 - val_accuracy: 0.8090\n",
      "Epoch 126/200\n",
      "63/63 [==============================] - 4s 60ms/step - loss: 0.1557 - accuracy: 0.9607 - val_loss: 1.4854 - val_accuracy: 0.7980\n",
      "Epoch 127/200\n",
      "63/63 [==============================] - 4s 60ms/step - loss: 0.1244 - accuracy: 0.9646 - val_loss: 1.4271 - val_accuracy: 0.8025\n",
      "Epoch 128/200\n",
      "63/63 [==============================] - 4s 59ms/step - loss: 0.1340 - accuracy: 0.9655 - val_loss: 1.6093 - val_accuracy: 0.7925\n",
      "Epoch 129/200\n",
      "63/63 [==============================] - 4s 59ms/step - loss: 0.1507 - accuracy: 0.9626 - val_loss: 1.3866 - val_accuracy: 0.8065\n",
      "Epoch 130/200\n",
      "63/63 [==============================] - 4s 59ms/step - loss: 0.1467 - accuracy: 0.9624 - val_loss: 1.3483 - val_accuracy: 0.8050\n",
      "Epoch 131/200\n",
      "63/63 [==============================] - 4s 60ms/step - loss: 0.1047 - accuracy: 0.9730 - val_loss: 1.4202 - val_accuracy: 0.8120\n",
      "Epoch 132/200\n",
      "63/63 [==============================] - 4s 60ms/step - loss: 0.0984 - accuracy: 0.9718 - val_loss: 1.3731 - val_accuracy: 0.8135\n",
      "Epoch 133/200\n",
      "63/63 [==============================] - 4s 60ms/step - loss: 0.1154 - accuracy: 0.9704 - val_loss: 1.5613 - val_accuracy: 0.8040\n",
      "Epoch 134/200\n",
      "63/63 [==============================] - 4s 60ms/step - loss: 0.1169 - accuracy: 0.9704 - val_loss: 1.4451 - val_accuracy: 0.8040\n",
      "Epoch 135/200\n",
      "63/63 [==============================] - 4s 60ms/step - loss: 0.1151 - accuracy: 0.9691 - val_loss: 1.4813 - val_accuracy: 0.8050\n",
      "Epoch 136/200\n",
      "63/63 [==============================] - 4s 60ms/step - loss: 0.1089 - accuracy: 0.9696 - val_loss: 1.5650 - val_accuracy: 0.7985\n",
      "Epoch 137/200\n",
      "63/63 [==============================] - 4s 59ms/step - loss: 0.1071 - accuracy: 0.9722 - val_loss: 1.8283 - val_accuracy: 0.7890\n",
      "Epoch 138/200\n",
      "63/63 [==============================] - 4s 59ms/step - loss: 0.1159 - accuracy: 0.9689 - val_loss: 1.4668 - val_accuracy: 0.8050\n",
      "Epoch 139/200\n",
      "63/63 [==============================] - 4s 59ms/step - loss: 0.0939 - accuracy: 0.9732 - val_loss: 1.6444 - val_accuracy: 0.8145\n",
      "Epoch 140/200\n",
      "63/63 [==============================] - 4s 60ms/step - loss: 0.1018 - accuracy: 0.9730 - val_loss: 1.5580 - val_accuracy: 0.8050\n",
      "Epoch 141/200\n",
      "63/63 [==============================] - 4s 60ms/step - loss: 0.1079 - accuracy: 0.9705 - val_loss: 1.6129 - val_accuracy: 0.7975\n",
      "Epoch 142/200\n",
      "63/63 [==============================] - 4s 60ms/step - loss: 0.0899 - accuracy: 0.9762 - val_loss: 1.4331 - val_accuracy: 0.8040\n",
      "Epoch 143/200\n",
      "63/63 [==============================] - 4s 59ms/step - loss: 0.0930 - accuracy: 0.9754 - val_loss: 1.5219 - val_accuracy: 0.8130\n",
      "Epoch 144/200\n",
      "63/63 [==============================] - 4s 60ms/step - loss: 0.0819 - accuracy: 0.9795 - val_loss: 1.4607 - val_accuracy: 0.8145\n",
      "Epoch 145/200\n",
      "63/63 [==============================] - 4s 59ms/step - loss: 0.0819 - accuracy: 0.9786 - val_loss: 1.5039 - val_accuracy: 0.8060\n",
      "Epoch 146/200\n",
      "63/63 [==============================] - 4s 59ms/step - loss: 0.0967 - accuracy: 0.9734 - val_loss: 1.5606 - val_accuracy: 0.8010\n",
      "Epoch 147/200\n",
      "63/63 [==============================] - 4s 59ms/step - loss: 0.1074 - accuracy: 0.9720 - val_loss: 1.6284 - val_accuracy: 0.8105\n",
      "Epoch 148/200\n",
      "63/63 [==============================] - 4s 60ms/step - loss: 0.0979 - accuracy: 0.9732 - val_loss: 1.5092 - val_accuracy: 0.8110\n",
      "Epoch 149/200\n",
      "63/63 [==============================] - 4s 61ms/step - loss: 0.1329 - accuracy: 0.9668 - val_loss: 1.7495 - val_accuracy: 0.7990\n",
      "Epoch 150/200\n",
      "63/63 [==============================] - 4s 59ms/step - loss: 0.1221 - accuracy: 0.9671 - val_loss: 1.5427 - val_accuracy: 0.8030\n",
      "Epoch 151/200\n",
      "63/63 [==============================] - 4s 60ms/step - loss: 0.1185 - accuracy: 0.9690 - val_loss: 1.5197 - val_accuracy: 0.8005\n",
      "Epoch 152/200\n",
      "63/63 [==============================] - 4s 60ms/step - loss: 0.0929 - accuracy: 0.9736 - val_loss: 1.5259 - val_accuracy: 0.8130\n",
      "Epoch 153/200\n",
      "63/63 [==============================] - 4s 60ms/step - loss: 0.0894 - accuracy: 0.9769 - val_loss: 1.6488 - val_accuracy: 0.8080\n",
      "Epoch 154/200\n",
      "63/63 [==============================] - 4s 60ms/step - loss: 0.1003 - accuracy: 0.9745 - val_loss: 1.6792 - val_accuracy: 0.8105\n",
      "Epoch 155/200\n",
      "63/63 [==============================] - 4s 60ms/step - loss: 0.0981 - accuracy: 0.9728 - val_loss: 1.8279 - val_accuracy: 0.7880\n",
      "Epoch 156/200\n",
      "63/63 [==============================] - 4s 60ms/step - loss: 0.1071 - accuracy: 0.9707 - val_loss: 1.5646 - val_accuracy: 0.8030\n",
      "Epoch 157/200\n",
      "63/63 [==============================] - 4s 60ms/step - loss: 0.0973 - accuracy: 0.9751 - val_loss: 1.5121 - val_accuracy: 0.8040\n",
      "Epoch 158/200\n",
      "63/63 [==============================] - 4s 59ms/step - loss: 0.0930 - accuracy: 0.9768 - val_loss: 1.5507 - val_accuracy: 0.8120\n",
      "Epoch 159/200\n",
      "63/63 [==============================] - 4s 60ms/step - loss: 0.0950 - accuracy: 0.9768 - val_loss: 1.4518 - val_accuracy: 0.8230\n",
      "Epoch 160/200\n",
      "63/63 [==============================] - 4s 59ms/step - loss: 0.1008 - accuracy: 0.9721 - val_loss: 1.6595 - val_accuracy: 0.8000\n",
      "Epoch 161/200\n",
      "63/63 [==============================] - 4s 59ms/step - loss: 0.1061 - accuracy: 0.9719 - val_loss: 1.4844 - val_accuracy: 0.8200\n",
      "Epoch 162/200\n",
      "63/63 [==============================] - 4s 60ms/step - loss: 0.0975 - accuracy: 0.9743 - val_loss: 1.5099 - val_accuracy: 0.8105\n",
      "Epoch 163/200\n",
      "63/63 [==============================] - 4s 60ms/step - loss: 0.1018 - accuracy: 0.9722 - val_loss: 1.7439 - val_accuracy: 0.8025\n",
      "Epoch 164/200\n",
      "63/63 [==============================] - 4s 62ms/step - loss: 0.0893 - accuracy: 0.9739 - val_loss: 1.6034 - val_accuracy: 0.8050\n",
      "Epoch 165/200\n",
      "63/63 [==============================] - 4s 61ms/step - loss: 0.0820 - accuracy: 0.9812 - val_loss: 1.6839 - val_accuracy: 0.8040\n",
      "Epoch 166/200\n",
      "63/63 [==============================] - 4s 63ms/step - loss: 0.1015 - accuracy: 0.9731 - val_loss: 1.6795 - val_accuracy: 0.8080\n",
      "Epoch 167/200\n",
      "63/63 [==============================] - 4s 60ms/step - loss: 0.1074 - accuracy: 0.9724 - val_loss: 1.7293 - val_accuracy: 0.8020\n",
      "Epoch 168/200\n",
      "63/63 [==============================] - 4s 59ms/step - loss: 0.0979 - accuracy: 0.9732 - val_loss: 1.5367 - val_accuracy: 0.8170\n",
      "Epoch 169/200\n",
      "63/63 [==============================] - 4s 60ms/step - loss: 0.0710 - accuracy: 0.9814 - val_loss: 1.6246 - val_accuracy: 0.8190\n",
      "Epoch 170/200\n",
      "63/63 [==============================] - 4s 60ms/step - loss: 0.0794 - accuracy: 0.9787 - val_loss: 1.7172 - val_accuracy: 0.8080\n",
      "Epoch 171/200\n",
      "63/63 [==============================] - 4s 60ms/step - loss: 0.1214 - accuracy: 0.9715 - val_loss: 1.9894 - val_accuracy: 0.7795\n"
     ]
    },
    {
     "name": "stdout",
     "output_type": "stream",
     "text": [
      "Epoch 172/200\n",
      "63/63 [==============================] - 4s 60ms/step - loss: 0.1349 - accuracy: 0.9668 - val_loss: 1.8695 - val_accuracy: 0.7900\n",
      "Epoch 173/200\n",
      "63/63 [==============================] - 4s 59ms/step - loss: 0.1105 - accuracy: 0.9706 - val_loss: 1.6737 - val_accuracy: 0.8110\n",
      "Epoch 174/200\n",
      "63/63 [==============================] - 4s 60ms/step - loss: 0.0993 - accuracy: 0.9732 - val_loss: 1.5597 - val_accuracy: 0.8045\n",
      "Epoch 175/200\n",
      "63/63 [==============================] - 4s 60ms/step - loss: 0.1072 - accuracy: 0.9720 - val_loss: 1.7239 - val_accuracy: 0.7995\n",
      "Epoch 176/200\n",
      "63/63 [==============================] - 4s 60ms/step - loss: 0.1357 - accuracy: 0.9681 - val_loss: 1.4885 - val_accuracy: 0.7960\n",
      "Epoch 177/200\n",
      "63/63 [==============================] - 4s 60ms/step - loss: 0.0940 - accuracy: 0.9754 - val_loss: 1.5640 - val_accuracy: 0.8060\n",
      "Epoch 178/200\n",
      "63/63 [==============================] - 4s 60ms/step - loss: 0.0889 - accuracy: 0.9755 - val_loss: 1.5841 - val_accuracy: 0.8040\n",
      "Epoch 179/200\n",
      "63/63 [==============================] - 4s 60ms/step - loss: 0.1411 - accuracy: 0.9645 - val_loss: 1.5942 - val_accuracy: 0.8040\n",
      "Epoch 180/200\n",
      "63/63 [==============================] - 4s 61ms/step - loss: 0.0862 - accuracy: 0.9783 - val_loss: 1.5345 - val_accuracy: 0.8250\n",
      "Epoch 181/200\n",
      "63/63 [==============================] - 4s 59ms/step - loss: 0.0688 - accuracy: 0.9820 - val_loss: 1.6965 - val_accuracy: 0.7980\n",
      "Epoch 182/200\n",
      "63/63 [==============================] - 4s 59ms/step - loss: 0.1132 - accuracy: 0.9754 - val_loss: 1.6345 - val_accuracy: 0.8140\n",
      "Epoch 183/200\n",
      "63/63 [==============================] - 4s 60ms/step - loss: 0.0680 - accuracy: 0.9826 - val_loss: 1.5909 - val_accuracy: 0.8165\n",
      "Epoch 184/200\n",
      "63/63 [==============================] - 4s 61ms/step - loss: 0.0801 - accuracy: 0.9799 - val_loss: 1.7102 - val_accuracy: 0.8100\n",
      "Epoch 185/200\n",
      "63/63 [==============================] - 4s 65ms/step - loss: 0.0842 - accuracy: 0.9786 - val_loss: 1.8414 - val_accuracy: 0.8060\n",
      "Epoch 186/200\n",
      "63/63 [==============================] - 4s 60ms/step - loss: 0.1080 - accuracy: 0.9719 - val_loss: 1.6959 - val_accuracy: 0.8075\n",
      "Epoch 187/200\n",
      "63/63 [==============================] - 4s 60ms/step - loss: 0.0985 - accuracy: 0.9745 - val_loss: 1.7256 - val_accuracy: 0.8040\n",
      "Epoch 188/200\n",
      "63/63 [==============================] - 4s 60ms/step - loss: 0.1249 - accuracy: 0.9707 - val_loss: 1.7283 - val_accuracy: 0.8045\n",
      "Epoch 189/200\n",
      "63/63 [==============================] - 4s 60ms/step - loss: 0.1050 - accuracy: 0.9718 - val_loss: 1.6438 - val_accuracy: 0.8025\n",
      "Epoch 190/200\n",
      "63/63 [==============================] - 4s 60ms/step - loss: 0.0937 - accuracy: 0.9775 - val_loss: 1.5887 - val_accuracy: 0.8135\n",
      "Epoch 191/200\n",
      "63/63 [==============================] - 4s 60ms/step - loss: 0.1436 - accuracy: 0.9696 - val_loss: 1.6577 - val_accuracy: 0.8215\n",
      "Epoch 192/200\n",
      "63/63 [==============================] - 4s 60ms/step - loss: 0.1050 - accuracy: 0.9734 - val_loss: 1.6301 - val_accuracy: 0.8165\n",
      "Epoch 193/200\n",
      "63/63 [==============================] - 4s 60ms/step - loss: 0.0847 - accuracy: 0.9793 - val_loss: 1.6406 - val_accuracy: 0.8140\n",
      "Epoch 194/200\n",
      "63/63 [==============================] - 4s 59ms/step - loss: 0.0855 - accuracy: 0.9772 - val_loss: 1.5824 - val_accuracy: 0.8120\n",
      "Epoch 195/200\n",
      "63/63 [==============================] - 4s 60ms/step - loss: 0.0880 - accuracy: 0.9780 - val_loss: 1.6796 - val_accuracy: 0.8125\n",
      "Epoch 196/200\n",
      "63/63 [==============================] - 4s 60ms/step - loss: 0.1177 - accuracy: 0.9722 - val_loss: 1.7188 - val_accuracy: 0.8035\n",
      "Epoch 197/200\n",
      "63/63 [==============================] - 4s 60ms/step - loss: 0.0997 - accuracy: 0.9786 - val_loss: 1.7189 - val_accuracy: 0.8105\n",
      "Epoch 198/200\n",
      "63/63 [==============================] - 4s 60ms/step - loss: 0.0752 - accuracy: 0.9793 - val_loss: 1.7512 - val_accuracy: 0.8075\n",
      "Epoch 199/200\n",
      "63/63 [==============================] - 4s 60ms/step - loss: 0.1015 - accuracy: 0.9758 - val_loss: 1.6956 - val_accuracy: 0.8140\n",
      "Epoch 200/200\n",
      "63/63 [==============================] - 4s 59ms/step - loss: 0.1050 - accuracy: 0.9747 - val_loss: 1.7019 - val_accuracy: 0.8115\n"
     ]
    },
    {
     "data": {
      "text/plain": [
       "<tensorflow.python.keras.callbacks.History at 0x27dd9886550>"
      ]
     },
     "execution_count": 17,
     "metadata": {},
     "output_type": "execute_result"
    }
   ],
   "source": [
    "# training the model\n",
    "model.fit(X_train, y_train, epochs=200, validation_data=(X_test, y_test), callbacks=[mcp_save], batch_size=128)"
   ]
  },
  {
   "cell_type": "code",
   "execution_count": 18,
   "id": "7b826801",
   "metadata": {},
   "outputs": [],
   "source": [
    "# loading the trained weights\n",
    "model.load_weights(\"InceptionResNetV2weight_Refined.hdf5\")"
   ]
  },
  {
   "cell_type": "code",
   "execution_count": 19,
   "id": "23f64dc4",
   "metadata": {},
   "outputs": [],
   "source": [
    "# compiling the model\n",
    "model.compile(loss='categorical_crossentropy',optimizer='Adam',metrics=['accuracy'])"
   ]
  },
  {
   "cell_type": "code",
   "execution_count": 20,
   "id": "07fa3bb5",
   "metadata": {},
   "outputs": [
    {
     "data": {
      "text/html": [
       "<div>\n",
       "<style scoped>\n",
       "    .dataframe tbody tr th:only-of-type {\n",
       "        vertical-align: middle;\n",
       "    }\n",
       "\n",
       "    .dataframe tbody tr th {\n",
       "        vertical-align: top;\n",
       "    }\n",
       "\n",
       "    .dataframe thead th {\n",
       "        text-align: right;\n",
       "    }\n",
       "</style>\n",
       "<table border=\"1\" class=\"dataframe\">\n",
       "  <thead>\n",
       "    <tr style=\"text-align: right;\">\n",
       "      <th></th>\n",
       "      <th>video_name</th>\n",
       "    </tr>\n",
       "  </thead>\n",
       "  <tbody>\n",
       "    <tr>\n",
       "      <th>0</th>\n",
       "      <td>ApplyEyeMakeup/v_ApplyEyeMakeup_g08_c01.avi</td>\n",
       "    </tr>\n",
       "    <tr>\n",
       "      <th>1</th>\n",
       "      <td>ApplyEyeMakeup/v_ApplyEyeMakeup_g08_c02.avi</td>\n",
       "    </tr>\n",
       "    <tr>\n",
       "      <th>2</th>\n",
       "      <td>ApplyEyeMakeup/v_ApplyEyeMakeup_g08_c03.avi</td>\n",
       "    </tr>\n",
       "    <tr>\n",
       "      <th>3</th>\n",
       "      <td>ApplyEyeMakeup/v_ApplyEyeMakeup_g08_c04.avi</td>\n",
       "    </tr>\n",
       "    <tr>\n",
       "      <th>4</th>\n",
       "      <td>ApplyEyeMakeup/v_ApplyEyeMakeup_g08_c05.avi</td>\n",
       "    </tr>\n",
       "  </tbody>\n",
       "</table>\n",
       "</div>"
      ],
      "text/plain": [
       "                                    video_name\n",
       "0  ApplyEyeMakeup/v_ApplyEyeMakeup_g08_c01.avi\n",
       "1  ApplyEyeMakeup/v_ApplyEyeMakeup_g08_c02.avi\n",
       "2  ApplyEyeMakeup/v_ApplyEyeMakeup_g08_c03.avi\n",
       "3  ApplyEyeMakeup/v_ApplyEyeMakeup_g08_c04.avi\n",
       "4  ApplyEyeMakeup/v_ApplyEyeMakeup_g08_c05.avi"
      ]
     },
     "execution_count": 20,
     "metadata": {},
     "output_type": "execute_result"
    }
   ],
   "source": [
    "# getting the test list\n",
    "f = open(\"ucfTrainTestlist/testlist02.txt\", \"r\")\n",
    "temp = f.read()\n",
    "videos = temp.split('\\n')\n",
    "\n",
    "# creating the dataframe\n",
    "test = pd.DataFrame()\n",
    "test['video_name'] = videos\n",
    "test = test[:-1]\n",
    "test_videos = test['video_name']\n",
    "test.head()"
   ]
  },
  {
   "cell_type": "code",
   "execution_count": 21,
   "id": "651a2d5b",
   "metadata": {},
   "outputs": [],
   "source": [
    "# creating the tags\n",
    "train = pd.read_csv('train_new.csv')\n",
    "y = train['class']\n",
    "y = pd.get_dummies(y)"
   ]
  },
  {
   "cell_type": "code",
   "execution_count": 22,
   "id": "e377057a",
   "metadata": {},
   "outputs": [
    {
     "name": "stderr",
     "output_type": "stream",
     "text": [
      "\r",
      "  0%|                                                                                         | 0/3734 [00:00<?, ?it/s]"
     ]
    },
    {
     "name": "stdout",
     "output_type": "stream",
     "text": [
      "WARNING:tensorflow:From C:\\Users\\Shaun\\AppData\\Local\\Temp/ipykernel_19356/2588874254.py:44: Sequential.predict_classes (from tensorflow.python.keras.engine.sequential) is deprecated and will be removed after 2021-01-01.\n",
      "Instructions for updating:\n",
      "Please use instead:* `np.argmax(model.predict(x), axis=-1)`,   if your model does multi-class classification   (e.g. if it uses a `softmax` last-layer activation).* `(model.predict(x) > 0.5).astype(\"int32\")`,   if your model does binary classification   (e.g. if it uses a `sigmoid` last-layer activation).\n"
     ]
    },
    {
     "name": "stderr",
     "output_type": "stream",
     "text": [
      "100%|██████████████████████████████████████████████████████████████████████████████| 3734/3734 [33:39<00:00,  1.85it/s]\n"
     ]
    }
   ],
   "source": [
    "# creating two lists to store predicted and actual tags\n",
    "predict = []\n",
    "actual = []\n",
    "\n",
    "# for loop to extract frames from each test video\n",
    "for i in tqdm(range(test_videos.shape[0])):\n",
    "    count = 0\n",
    "    videoFile = test_videos[i]\n",
    "    cap = cv2.VideoCapture('UCF-101/'+videoFile.split(' ')[0])   # capturing the video from the given path\n",
    "    frameRate = cap.get(5) #frame rate\n",
    "    x=1\n",
    "    # removing all other files from the temp folder\n",
    "    files = glob('temp/*')\n",
    "    for f in files:\n",
    "        os.remove(f)\n",
    "    while(cap.isOpened()):\n",
    "        frameId = cap.get(1) #current frame number\n",
    "        ret, frame = cap.read()\n",
    "        if (ret != True):\n",
    "            break\n",
    "        if (frameId % math.floor(frameRate) == 0):\n",
    "            # storing the frames of this particular video in temp folder\n",
    "            filename ='temp/' + \"_frame%d.jpg\" % count;count+=1\n",
    "            cv2.imwrite(filename, frame)\n",
    "    cap.release()\n",
    "    \n",
    "    # reading all the frames from temp folder\n",
    "    images = glob(\"temp/*.jpg\")\n",
    "    \n",
    "    prediction_images = []\n",
    "    for i in range(len(images)):\n",
    "        img = image.load_img(images[i], target_size=(224,224,3))\n",
    "        img = image.img_to_array(img)\n",
    "        img = img/255\n",
    "        prediction_images.append(img)\n",
    "        \n",
    "    # converting all the frames for a test video into numpy array\n",
    "    prediction_images = np.array(prediction_images)\n",
    "    # extracting features using pre-trained model\n",
    "    prediction_images = base_model.predict(prediction_images)\n",
    "    # converting features in one dimensional array\n",
    "    prediction_images = prediction_images.reshape(prediction_images.shape[0],5,5,1536)\n",
    "    # predicting tags for each array\n",
    "    prediction = model.predict_classes(prediction_images)\n",
    "    # appending the mode of predictions in predict list to assign the tag to the video\n",
    "    predict.append(y.columns.values[s.mode(prediction)[0][0]])\n",
    "    # appending the actual tag of the video\n",
    "    actual.append(videoFile.split('/')[1].split('_')[1])"
   ]
  },
  {
   "cell_type": "code",
   "execution_count": 23,
   "id": "8a517f3c",
   "metadata": {},
   "outputs": [
    {
     "data": {
      "text/plain": [
       "76.29887520085698"
      ]
     },
     "execution_count": 23,
     "metadata": {},
     "output_type": "execute_result"
    }
   ],
   "source": [
    "# checking the accuracy of the predicted tags\n",
    "from sklearn.metrics import accuracy_score\n",
    "accuracy_score(predict, actual)*100"
   ]
  },
  {
   "cell_type": "markdown",
   "id": "33ff64fa",
   "metadata": {},
   "source": [
    "# Model Evaluation\n",
    "\n",
    "Investigating the different architectures to find out if a deeper neural network in addition to the pre-trained model will improve model performance"
   ]
  },
  {
   "cell_type": "code",
   "execution_count": null,
   "id": "0d3b7096",
   "metadata": {},
   "outputs": [],
   "source": []
  }
 ],
 "metadata": {
  "kernelspec": {
   "display_name": "tf-gpu",
   "language": "python",
   "name": "tf-gpu"
  },
  "language_info": {
   "codemirror_mode": {
    "name": "ipython",
    "version": 3
   },
   "file_extension": ".py",
   "mimetype": "text/x-python",
   "name": "python",
   "nbconvert_exporter": "python",
   "pygments_lexer": "ipython3",
   "version": "3.7.0"
  }
 },
 "nbformat": 4,
 "nbformat_minor": 5
}
